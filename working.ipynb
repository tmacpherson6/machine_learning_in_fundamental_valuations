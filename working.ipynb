{
 "cells": [
  {
   "cell_type": "markdown",
   "id": "34f701a8",
   "metadata": {},
   "source": [
    "# Working Through. \n",
    "This notebook is to work through actually obtaining data that will turn into our python files."
   ]
  },
  {
   "cell_type": "code",
   "execution_count": null,
   "id": "4f0093a2",
   "metadata": {},
   "outputs": [],
   "source": [
    "import pandas as pd"
   ]
  },
  {
   "cell_type": "code",
   "execution_count": null,
   "id": "b6ef436d",
   "metadata": {},
   "outputs": [],
   "source": [
    "url = (\"https://www.ishares.com/us/products/239714/ishares-russell-3000-etf/\"\n",
    "       \"1521942788811.ajax?fileType=xls&fileName=iShares-Russell-3000-ETF_fund&dataType=fund\")\n",
    "df = pd.read_excel(url,skiprows=0)\n",
    "df.head()"
   ]
  }
 ],
 "metadata": {
  "language_info": {
   "name": "python"
  }
 },
 "nbformat": 4,
 "nbformat_minor": 5
}
