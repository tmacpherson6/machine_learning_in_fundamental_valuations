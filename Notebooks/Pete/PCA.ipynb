{
 "cells": [
  {
   "cell_type": "code",
   "execution_count": 1,
   "id": "eeee13b2-2b92-47b4-82eb-a284bc05ee83",
   "metadata": {},
   "outputs": [],
   "source": [
    "import sys\n",
    "PATH_TO_MODULES = '../..'\n",
    "sys.path.insert(0, PATH_TO_MODULES)\n",
    "\n",
    "from helpers import get_quarters, log_transform\n",
    "\n",
    "# Data Manipulation and Math/Stats Libraries\n",
    "import numpy as np\n",
    "import pandas as pd\n",
    "import scipy.stats as stats\n",
    "import statsmodels.api as sm\n",
    "\n",
    "# Sci-kit Learn Functions\n",
    "from sklearn.preprocessing import StandardScaler\n",
    "from sklearn.decomposition import PCA\n",
    "\n",
    "# Visualization Libraries\n",
    "import matplotlib.pyplot as plt\n",
    "import seaborn as sns\n",
    "import altair as alt\n",
    "import plotly.express as px\n",
    "import plotly.graph_objects as go"
   ]
  },
  {
   "cell_type": "code",
   "execution_count": 2,
   "id": "9bbcad06-a01a-441b-98ee-c976b3774d75",
   "metadata": {},
   "outputs": [],
   "source": [
    "   \n",
    "\n",
    "def process_for_PCA(input_df: pd.DataFrame, remove_QoQ=False) -> pd.DataFrame:\n",
    "    \"\"\"Processes a dataframe before applying PCA.\"\"\"\n",
    "    dataset = input_df.copy()\n",
    "    dtype_obj = dataset.Ticker.dtype\n",
    "    non_numeric_cols = [col for col in dataset.columns if dataset[col].dtype == dtype_obj]\n",
    "    print(f'Dropping non-numeric columns: {non_numeric_cols}')\n",
    "    dataset.drop(columns=non_numeric_cols, inplace=True)\n",
    "    print(f'Remaining dtypes: {dataset.dtypes.unique()}')\n",
    "    if remove_QoQ:\n",
    "        QoQ_cols = [col for col in dataset.columns if 'QoQ' in col]\n",
    "        print('\\nDropping QoQ columns:')\n",
    "        for column in QoQ_cols:\n",
    "            print(column)\n",
    "        dataset.drop(columns=QoQ_cols, inplace=True)\n",
    "    return dataset\n",
    "\n"
   ]
  },
  {
   "cell_type": "code",
   "execution_count": 3,
   "id": "213a86c2-2f42-4536-82d4-f24f6eea7e4f",
   "metadata": {},
   "outputs": [
    {
     "name": "stdout",
     "output_type": "stream",
     "text": [
      "There are 1931 rows and 283 columns in the dataset.\n"
     ]
    }
   ],
   "source": [
    "# Import merged dataset\n",
    "path = PATH_TO_MODULES + '/datasets/'\n",
    "input_filename = 'X_train_filled_KPIs_QoQ.csv'\n",
    "dataset = pd.read_csv(path + input_filename)\n",
    "print(f'There are {dataset.shape[0]} rows and {dataset.shape[1]} columns in the dataset.')"
   ]
  },
  {
   "cell_type": "markdown",
   "id": "3e7bd044-af5d-4906-9e59-ff35da5dfd6b",
   "metadata": {},
   "source": [
    "\n",
    "## Check for missing values\n",
    "\n",
    "*credit to [Michael P. Notter](https://miykael.github.io/blog/2022/advanced_eda/) for sharing these techniques!*"
   ]
  },
  {
   "cell_type": "code",
   "execution_count": 4,
   "id": "cd6b2bd9-6c8d-4f54-bd39-547225fb5c63",
   "metadata": {},
   "outputs": [
    {
     "data": {
      "image/png": "[encoded data removed]",
      "text/plain": [
       "<Figure size 500x400 with 1 Axes>"
      ]
     },
     "metadata": {},
     "output_type": "display_data"
    }
   ],
   "source": [
    "# Missing values show in white in the figure\n",
    "plt.figure(figsize=(5, 4))\n",
    "plt.imshow(dataset.isna(), aspect='auto', interpolation='nearest', cmap='gray')\n",
    "plt.xlabel('Column Number')\n",
    "plt.ylabel('Sample Number')\n",
    "plt.show()"
   ]
  },
  {
   "cell_type": "code",
   "execution_count": 5,
   "id": "c8298af0-f255-4e6a-9c3f-6852126717b3",
   "metadata": {},
   "outputs": [
    {
     "data": {
      "text/plain": [
       "KPI_GrossProfitMargin_QoQ_24Q3_24Q4    0.141895\n",
       "KPI_GrossProfitMargin_QoQ_24Q4_25Q1    0.141895\n",
       "KPI_GrossProfitMargin_QoQ_Rate         0.141895\n",
       "KPI_GrossProfitMargin_QoQ_24Q2_24Q3    0.141378\n",
       "IncomeTaxExpense_QoQ_Rate              0.012947\n",
       "IncomeTaxExpense_QoQ_24Q2_24Q3         0.010875\n",
       "IncomeTaxExpense_QoQ_24Q3_24Q4         0.007768\n",
       "InterestExpense_QoQ_Rate               0.007250\n",
       "CapitalExpenditure_QoQ_Rate            0.006732\n",
       "InterestExpense_QoQ_24Q3_24Q4          0.006732\n",
       "IncomeTaxExpense_QoQ_24Q4_25Q1         0.006214\n",
       "InterestExpense_QoQ_24Q2_24Q3          0.005179\n",
       "CapitalExpenditure_QoQ_24Q2_24Q3       0.004143\n",
       "CapitalExpenditure_QoQ_24Q3_24Q4       0.003625\n",
       "InterestExpense_QoQ_24Q4_25Q1          0.002589\n",
       "CapitalExpenditure_QoQ_24Q4_25Q1       0.001036\n",
       "KPI_ReturnOnAssets_QoQ_Rate            0.001036\n",
       "KPI_ReturnOnEquity_QoQ_Rate            0.001036\n",
       "LongTermDebt_QoQ_24Q3_24Q4             0.000518\n",
       "LongTermDebt_QoQ_Rate                  0.000518\n",
       "dtype: float64"
      ]
     },
     "execution_count": 5,
     "metadata": {},
     "output_type": "execute_result"
    }
   ],
   "source": [
    "# List features missing the most data\n",
    "dataset.isna().mean().sort_values(ascending=False)[:20]"
   ]
  },
  {
   "cell_type": "code",
   "execution_count": 6,
   "id": "0e0037db-dd94-4543-bbf1-0ced7abe0c2e",
   "metadata": {},
   "outputs": [
    {
     "name": "stdout",
     "output_type": "stream",
     "text": [
      "Dropping non-numeric columns: ['Ticker', 'Name', 'Sector', 'Exchange', 'Market Cap']\n",
      "Remaining dtypes: [dtype('float64') dtype('int64')]\n",
      "\n",
      "Dropping QoQ columns:\n",
      "OperatingIncome_QoQ_24Q2_24Q3\n",
      "OperatingIncome_QoQ_24Q3_24Q4\n",
      "OperatingIncome_QoQ_24Q4_25Q1\n",
      "CurrentLiabilities_QoQ_24Q2_24Q3\n",
      "CurrentLiabilities_QoQ_24Q3_24Q4\n",
      "CurrentLiabilities_QoQ_24Q4_25Q1\n",
      "KPI_CashFlow_QoQ_24Q2_24Q3\n",
      "KPI_CashFlow_QoQ_24Q3_24Q4\n",
      "KPI_CashFlow_QoQ_24Q4_25Q1\n",
      "KPI_NetProfitMargin_QoQ_24Q2_24Q3\n",
      "KPI_NetProfitMargin_QoQ_24Q3_24Q4\n",
      "KPI_NetProfitMargin_QoQ_24Q4_25Q1\n",
      "EPS_QoQ_24Q2_24Q3\n",
      "EPS_QoQ_24Q3_24Q4\n",
      "EPS_QoQ_24Q4_25Q1\n",
      "TotalAssets_QoQ_24Q2_24Q3\n",
      "TotalAssets_QoQ_24Q3_24Q4\n",
      "TotalAssets_QoQ_24Q4_25Q1\n",
      "InterestExpense_QoQ_24Q2_24Q3\n",
      "InterestExpense_QoQ_24Q3_24Q4\n",
      "InterestExpense_QoQ_24Q4_25Q1\n",
      "KPI_DebtToEquityRatio_QoQ_24Q2_24Q3\n",
      "KPI_DebtToEquityRatio_QoQ_24Q3_24Q4\n",
      "KPI_DebtToEquityRatio_QoQ_24Q4_25Q1\n",
      "KPI_ReturnOnAssets_QoQ_24Q3_24Q4\n",
      "KPI_ReturnOnAssets_QoQ_24Q4_25Q1\n",
      "CurrentAssets_QoQ_24Q2_24Q3\n",
      "CurrentAssets_QoQ_24Q3_24Q4\n",
      "CurrentAssets_QoQ_24Q4_25Q1\n",
      "CostOfRevenue_QoQ_24Q2_24Q3\n",
      "CostOfRevenue_QoQ_24Q3_24Q4\n",
      "CostOfRevenue_QoQ_24Q4_25Q1\n",
      "TotalEquity_QoQ_24Q2_24Q3\n",
      "TotalEquity_QoQ_24Q3_24Q4\n",
      "TotalEquity_QoQ_24Q4_25Q1\n",
      "Revenue_QoQ_24Q2_24Q3\n",
      "Revenue_QoQ_24Q3_24Q4\n",
      "Revenue_QoQ_24Q4_25Q1\n",
      "KPI_ReturnOnEquity_QoQ_24Q3_24Q4\n",
      "KPI_ReturnOnEquity_QoQ_24Q4_25Q1\n",
      "KPI_CurrentRatio_QoQ_24Q2_24Q3\n",
      "KPI_CurrentRatio_QoQ_24Q3_24Q4\n",
      "KPI_CurrentRatio_QoQ_24Q4_25Q1\n",
      "TotalLiabilities_QoQ_24Q2_24Q3\n",
      "TotalLiabilities_QoQ_24Q3_24Q4\n",
      "TotalLiabilities_QoQ_24Q4_25Q1\n",
      "IncomeTaxExpense_QoQ_24Q2_24Q3\n",
      "IncomeTaxExpense_QoQ_24Q3_24Q4\n",
      "IncomeTaxExpense_QoQ_24Q4_25Q1\n",
      "KPI_GrossProfitMargin_QoQ_24Q2_24Q3\n",
      "KPI_GrossProfitMargin_QoQ_24Q3_24Q4\n",
      "KPI_GrossProfitMargin_QoQ_24Q4_25Q1\n",
      "KPI_WorkingCapital_QoQ_24Q2_24Q3\n",
      "KPI_WorkingCapital_QoQ_24Q3_24Q4\n",
      "KPI_WorkingCapital_QoQ_24Q4_25Q1\n",
      "TotalDebt_QoQ_24Q2_24Q3\n",
      "TotalDebt_QoQ_24Q3_24Q4\n",
      "TotalDebt_QoQ_24Q4_25Q1\n",
      "LongTermDebt_QoQ_24Q2_24Q3\n",
      "LongTermDebt_QoQ_24Q3_24Q4\n",
      "LongTermDebt_QoQ_24Q4_25Q1\n",
      "NetIncome_QoQ_24Q2_24Q3\n",
      "NetIncome_QoQ_24Q3_24Q4\n",
      "NetIncome_QoQ_24Q4_25Q1\n",
      "KPI_Leverage_QoQ_24Q2_24Q3\n",
      "KPI_Leverage_QoQ_24Q3_24Q4\n",
      "KPI_Leverage_QoQ_24Q4_25Q1\n",
      "CapitalExpenditure_QoQ_24Q2_24Q3\n",
      "CapitalExpenditure_QoQ_24Q3_24Q4\n",
      "CapitalExpenditure_QoQ_24Q4_25Q1\n",
      "KPI_TotalAssetTurnover_QoQ_24Q3_24Q4\n",
      "KPI_TotalAssetTurnover_QoQ_24Q4_25Q1\n",
      "CashAndSTInvestments_QoQ_24Q2_24Q3\n",
      "CashAndSTInvestments_QoQ_24Q3_24Q4\n",
      "CashAndSTInvestments_QoQ_24Q4_25Q1\n",
      "CashFromOps_QoQ_24Q2_24Q3\n",
      "CashFromOps_QoQ_24Q3_24Q4\n",
      "CashFromOps_QoQ_24Q4_25Q1\n",
      "OtherOperatingExpense_QoQ_24Q2_24Q3\n",
      "OtherOperatingExpense_QoQ_24Q3_24Q4\n",
      "OtherOperatingExpense_QoQ_24Q4_25Q1\n",
      "CashFromOps_QoQ_Rate\n",
      "EPS_QoQ_Rate\n",
      "KPI_TotalAssetTurnover_QoQ_Rate\n",
      "KPI_NetProfitMargin_QoQ_Rate\n",
      "TotalAssets_QoQ_Rate\n",
      "InterestExpense_QoQ_Rate\n",
      "TotalDebt_QoQ_Rate\n",
      "KPI_CurrentRatio_QoQ_Rate\n",
      "NetIncome_QoQ_Rate\n",
      "KPI_DebtToEquityRatio_QoQ_Rate\n",
      "OperatingIncome_QoQ_Rate\n",
      "CapitalExpenditure_QoQ_Rate\n",
      "CurrentAssets_QoQ_Rate\n",
      "CashAndSTInvestments_QoQ_Rate\n",
      "KPI_ReturnOnEquity_QoQ_Rate\n",
      "OtherOperatingExpense_QoQ_Rate\n",
      "LongTermDebt_QoQ_Rate\n",
      "Revenue_QoQ_Rate\n",
      "KPI_Leverage_QoQ_Rate\n",
      "KPI_CashFlow_QoQ_Rate\n",
      "TotalLiabilities_QoQ_Rate\n",
      "KPI_WorkingCapital_QoQ_Rate\n",
      "IncomeTaxExpense_QoQ_Rate\n",
      "KPI_GrossProfitMargin_QoQ_Rate\n",
      "TotalEquity_QoQ_Rate\n",
      "KPI_ReturnOnAssets_QoQ_Rate\n",
      "CurrentLiabilities_QoQ_Rate\n",
      "CostOfRevenue_QoQ_Rate\n"
     ]
    }
   ],
   "source": [
    "pca_df = process_for_PCA(dataset, remove_QoQ=True)"
   ]
  },
  {
   "cell_type": "code",
   "execution_count": 7,
   "id": "aec2a9f8-85cd-4859-9ec6-f4fce2b5c3c5",
   "metadata": {},
   "outputs": [],
   "source": [
    "quarters = get_quarters(pca_df)\n",
    "log_vars = ['Revenue',\n",
    "            # 'NetIncome',\n",
    "            'CurrentAssets',\n",
    "            'CurrentLiabilities',\n",
    "            'TotalAssets',\n",
    "            'TotalLiabilities',\n",
    "            'TotalEquity',\n",
    "            # 'Total Debt'\n",
    "            'CashFromOps'\n",
    "           ]\n",
    "transform_list = []\n",
    "for log_var in log_vars:\n",
    "    for quarter in quarters:\n",
    "        transform_list.append(log_var + quarter)\n",
    "\n",
    "pca_df = log_transform(pca_df, transform_list)"
   ]
  },
  {
   "cell_type": "code",
   "execution_count": 8,
   "id": "65914777-0059-4493-932e-3e8d844bc108",
   "metadata": {},
   "outputs": [
    {
     "ename": "ValueError",
     "evalue": "Input X contains NaN.\nPCA does not accept missing values encoded as NaN natively. For supervised learning, you might want to consider sklearn.ensemble.HistGradientBoostingClassifier and Regressor which accept missing values encoded as NaNs natively. Alternatively, it is possible to preprocess the data, for instance by using an imputer transformer in a pipeline or drop samples with missing values. See https://scikit-learn.org/stable/modules/impute.html You can find a list of all estimators that handle NaN values at the following page: https://scikit-learn.org/stable/modules/impute.html#estimators-that-handle-nan-values",
     "output_type": "error",
     "traceback": [
      "\u001b[0;31m---------------------------------------------------------------------------\u001b[0m",
      "\u001b[0;31mValueError\u001b[0m                                Traceback (most recent call last)",
      "Cell \u001b[0;32mIn[8], line 2\u001b[0m\n\u001b[1;32m      1\u001b[0m pca \u001b[38;5;241m=\u001b[39m PCA(\u001b[38;5;241m10\u001b[39m)\n\u001b[0;32m----> 2\u001b[0m pca\u001b[38;5;241m.\u001b[39mfit(pca_df)\n",
      "File \u001b[0;32m~/miniconda3/envs/MADS/lib/python3.12/site-packages/sklearn/base.py:1389\u001b[0m, in \u001b[0;36m_fit_context.<locals>.decorator.<locals>.wrapper\u001b[0;34m(estimator, *args, **kwargs)\u001b[0m\n\u001b[1;32m   1382\u001b[0m     estimator\u001b[38;5;241m.\u001b[39m_validate_params()\n\u001b[1;32m   1384\u001b[0m \u001b[38;5;28;01mwith\u001b[39;00m config_context(\n\u001b[1;32m   1385\u001b[0m     skip_parameter_validation\u001b[38;5;241m=\u001b[39m(\n\u001b[1;32m   1386\u001b[0m         prefer_skip_nested_validation \u001b[38;5;129;01mor\u001b[39;00m global_skip_validation\n\u001b[1;32m   1387\u001b[0m     )\n\u001b[1;32m   1388\u001b[0m ):\n\u001b[0;32m-> 1389\u001b[0m     \u001b[38;5;28;01mreturn\u001b[39;00m fit_method(estimator, \u001b[38;5;241m*\u001b[39margs, \u001b[38;5;241m*\u001b[39m\u001b[38;5;241m*\u001b[39mkwargs)\n",
      "File \u001b[0;32m~/miniconda3/envs/MADS/lib/python3.12/site-packages/sklearn/decomposition/_pca.py:442\u001b[0m, in \u001b[0;36mPCA.fit\u001b[0;34m(self, X, y)\u001b[0m\n\u001b[1;32m    424\u001b[0m \u001b[38;5;129m@_fit_context\u001b[39m(prefer_skip_nested_validation\u001b[38;5;241m=\u001b[39m\u001b[38;5;28;01mTrue\u001b[39;00m)\n\u001b[1;32m    425\u001b[0m \u001b[38;5;28;01mdef\u001b[39;00m \u001b[38;5;21mfit\u001b[39m(\u001b[38;5;28mself\u001b[39m, X, y\u001b[38;5;241m=\u001b[39m\u001b[38;5;28;01mNone\u001b[39;00m):\n\u001b[1;32m    426\u001b[0m \u001b[38;5;250m    \u001b[39m\u001b[38;5;124;03m\"\"\"Fit the model with X.\u001b[39;00m\n\u001b[1;32m    427\u001b[0m \n\u001b[1;32m    428\u001b[0m \u001b[38;5;124;03m    Parameters\u001b[39;00m\n\u001b[0;32m   (...)\u001b[0m\n\u001b[1;32m    440\u001b[0m \u001b[38;5;124;03m        Returns the instance itself.\u001b[39;00m\n\u001b[1;32m    441\u001b[0m \u001b[38;5;124;03m    \"\"\"\u001b[39;00m\n\u001b[0;32m--> 442\u001b[0m     \u001b[38;5;28mself\u001b[39m\u001b[38;5;241m.\u001b[39m_fit(X)\n\u001b[1;32m    443\u001b[0m     \u001b[38;5;28;01mreturn\u001b[39;00m \u001b[38;5;28mself\u001b[39m\n",
      "File \u001b[0;32m~/miniconda3/envs/MADS/lib/python3.12/site-packages/sklearn/decomposition/_pca.py:505\u001b[0m, in \u001b[0;36mPCA._fit\u001b[0;34m(self, X)\u001b[0m\n\u001b[1;32m    495\u001b[0m     \u001b[38;5;28;01mraise\u001b[39;00m \u001b[38;5;167;01mValueError\u001b[39;00m(\n\u001b[1;32m    496\u001b[0m         \u001b[38;5;124m\"\u001b[39m\u001b[38;5;124mPCA with svd_solver=\u001b[39m\u001b[38;5;124m'\u001b[39m\u001b[38;5;124marpack\u001b[39m\u001b[38;5;124m'\u001b[39m\u001b[38;5;124m is not supported for Array API inputs.\u001b[39m\u001b[38;5;124m\"\u001b[39m\n\u001b[1;32m    497\u001b[0m     )\n\u001b[1;32m    499\u001b[0m \u001b[38;5;66;03m# Validate the data, without ever forcing a copy as any solver that\u001b[39;00m\n\u001b[1;32m    500\u001b[0m \u001b[38;5;66;03m# supports sparse input data and the `covariance_eigh` solver are\u001b[39;00m\n\u001b[1;32m    501\u001b[0m \u001b[38;5;66;03m# written in a way to avoid the need for any inplace modification of\u001b[39;00m\n\u001b[1;32m    502\u001b[0m \u001b[38;5;66;03m# the input data contrary to the other solvers.\u001b[39;00m\n\u001b[1;32m    503\u001b[0m \u001b[38;5;66;03m# The copy will happen\u001b[39;00m\n\u001b[1;32m    504\u001b[0m \u001b[38;5;66;03m# later, only if needed, once the solver negotiation below is done.\u001b[39;00m\n\u001b[0;32m--> 505\u001b[0m X \u001b[38;5;241m=\u001b[39m validate_data(\n\u001b[1;32m    506\u001b[0m     \u001b[38;5;28mself\u001b[39m,\n\u001b[1;32m    507\u001b[0m     X,\n\u001b[1;32m    508\u001b[0m     dtype\u001b[38;5;241m=\u001b[39m[xp\u001b[38;5;241m.\u001b[39mfloat64, xp\u001b[38;5;241m.\u001b[39mfloat32],\n\u001b[1;32m    509\u001b[0m     force_writeable\u001b[38;5;241m=\u001b[39m\u001b[38;5;28;01mTrue\u001b[39;00m,\n\u001b[1;32m    510\u001b[0m     accept_sparse\u001b[38;5;241m=\u001b[39m(\u001b[38;5;124m\"\u001b[39m\u001b[38;5;124mcsr\u001b[39m\u001b[38;5;124m\"\u001b[39m, \u001b[38;5;124m\"\u001b[39m\u001b[38;5;124mcsc\u001b[39m\u001b[38;5;124m\"\u001b[39m),\n\u001b[1;32m    511\u001b[0m     ensure_2d\u001b[38;5;241m=\u001b[39m\u001b[38;5;28;01mTrue\u001b[39;00m,\n\u001b[1;32m    512\u001b[0m     copy\u001b[38;5;241m=\u001b[39m\u001b[38;5;28;01mFalse\u001b[39;00m,\n\u001b[1;32m    513\u001b[0m )\n\u001b[1;32m    514\u001b[0m \u001b[38;5;28mself\u001b[39m\u001b[38;5;241m.\u001b[39m_fit_svd_solver \u001b[38;5;241m=\u001b[39m \u001b[38;5;28mself\u001b[39m\u001b[38;5;241m.\u001b[39msvd_solver\n\u001b[1;32m    515\u001b[0m \u001b[38;5;28;01mif\u001b[39;00m \u001b[38;5;28mself\u001b[39m\u001b[38;5;241m.\u001b[39m_fit_svd_solver \u001b[38;5;241m==\u001b[39m \u001b[38;5;124m\"\u001b[39m\u001b[38;5;124mauto\u001b[39m\u001b[38;5;124m\"\u001b[39m \u001b[38;5;129;01mand\u001b[39;00m issparse(X):\n",
      "File \u001b[0;32m~/miniconda3/envs/MADS/lib/python3.12/site-packages/sklearn/utils/validation.py:2944\u001b[0m, in \u001b[0;36mvalidate_data\u001b[0;34m(_estimator, X, y, reset, validate_separately, skip_check_array, **check_params)\u001b[0m\n\u001b[1;32m   2942\u001b[0m         out \u001b[38;5;241m=\u001b[39m X, y\n\u001b[1;32m   2943\u001b[0m \u001b[38;5;28;01melif\u001b[39;00m \u001b[38;5;129;01mnot\u001b[39;00m no_val_X \u001b[38;5;129;01mand\u001b[39;00m no_val_y:\n\u001b[0;32m-> 2944\u001b[0m     out \u001b[38;5;241m=\u001b[39m check_array(X, input_name\u001b[38;5;241m=\u001b[39m\u001b[38;5;124m\"\u001b[39m\u001b[38;5;124mX\u001b[39m\u001b[38;5;124m\"\u001b[39m, \u001b[38;5;241m*\u001b[39m\u001b[38;5;241m*\u001b[39mcheck_params)\n\u001b[1;32m   2945\u001b[0m \u001b[38;5;28;01melif\u001b[39;00m no_val_X \u001b[38;5;129;01mand\u001b[39;00m \u001b[38;5;129;01mnot\u001b[39;00m no_val_y:\n\u001b[1;32m   2946\u001b[0m     out \u001b[38;5;241m=\u001b[39m _check_y(y, \u001b[38;5;241m*\u001b[39m\u001b[38;5;241m*\u001b[39mcheck_params)\n",
      "File \u001b[0;32m~/miniconda3/envs/MADS/lib/python3.12/site-packages/sklearn/utils/validation.py:1107\u001b[0m, in \u001b[0;36mcheck_array\u001b[0;34m(array, accept_sparse, accept_large_sparse, dtype, order, copy, force_writeable, force_all_finite, ensure_all_finite, ensure_non_negative, ensure_2d, allow_nd, ensure_min_samples, ensure_min_features, estimator, input_name)\u001b[0m\n\u001b[1;32m   1101\u001b[0m     \u001b[38;5;28;01mraise\u001b[39;00m \u001b[38;5;167;01mValueError\u001b[39;00m(\n\u001b[1;32m   1102\u001b[0m         \u001b[38;5;124m\"\u001b[39m\u001b[38;5;124mFound array with dim \u001b[39m\u001b[38;5;132;01m%d\u001b[39;00m\u001b[38;5;124m. \u001b[39m\u001b[38;5;132;01m%s\u001b[39;00m\u001b[38;5;124m expected <= 2.\u001b[39m\u001b[38;5;124m\"\u001b[39m\n\u001b[1;32m   1103\u001b[0m         \u001b[38;5;241m%\u001b[39m (array\u001b[38;5;241m.\u001b[39mndim, estimator_name)\n\u001b[1;32m   1104\u001b[0m     )\n\u001b[1;32m   1106\u001b[0m \u001b[38;5;28;01mif\u001b[39;00m ensure_all_finite:\n\u001b[0;32m-> 1107\u001b[0m     _assert_all_finite(\n\u001b[1;32m   1108\u001b[0m         array,\n\u001b[1;32m   1109\u001b[0m         input_name\u001b[38;5;241m=\u001b[39minput_name,\n\u001b[1;32m   1110\u001b[0m         estimator_name\u001b[38;5;241m=\u001b[39mestimator_name,\n\u001b[1;32m   1111\u001b[0m         allow_nan\u001b[38;5;241m=\u001b[39mensure_all_finite \u001b[38;5;241m==\u001b[39m \u001b[38;5;124m\"\u001b[39m\u001b[38;5;124mallow-nan\u001b[39m\u001b[38;5;124m\"\u001b[39m,\n\u001b[1;32m   1112\u001b[0m     )\n\u001b[1;32m   1114\u001b[0m \u001b[38;5;28;01mif\u001b[39;00m copy:\n\u001b[1;32m   1115\u001b[0m     \u001b[38;5;28;01mif\u001b[39;00m _is_numpy_namespace(xp):\n\u001b[1;32m   1116\u001b[0m         \u001b[38;5;66;03m# only make a copy if `array` and `array_orig` may share memory`\u001b[39;00m\n",
      "File \u001b[0;32m~/miniconda3/envs/MADS/lib/python3.12/site-packages/sklearn/utils/validation.py:120\u001b[0m, in \u001b[0;36m_assert_all_finite\u001b[0;34m(X, allow_nan, msg_dtype, estimator_name, input_name)\u001b[0m\n\u001b[1;32m    117\u001b[0m \u001b[38;5;28;01mif\u001b[39;00m first_pass_isfinite:\n\u001b[1;32m    118\u001b[0m     \u001b[38;5;28;01mreturn\u001b[39;00m\n\u001b[0;32m--> 120\u001b[0m _assert_all_finite_element_wise(\n\u001b[1;32m    121\u001b[0m     X,\n\u001b[1;32m    122\u001b[0m     xp\u001b[38;5;241m=\u001b[39mxp,\n\u001b[1;32m    123\u001b[0m     allow_nan\u001b[38;5;241m=\u001b[39mallow_nan,\n\u001b[1;32m    124\u001b[0m     msg_dtype\u001b[38;5;241m=\u001b[39mmsg_dtype,\n\u001b[1;32m    125\u001b[0m     estimator_name\u001b[38;5;241m=\u001b[39mestimator_name,\n\u001b[1;32m    126\u001b[0m     input_name\u001b[38;5;241m=\u001b[39minput_name,\n\u001b[1;32m    127\u001b[0m )\n",
      "File \u001b[0;32m~/miniconda3/envs/MADS/lib/python3.12/site-packages/sklearn/utils/validation.py:169\u001b[0m, in \u001b[0;36m_assert_all_finite_element_wise\u001b[0;34m(X, xp, allow_nan, msg_dtype, estimator_name, input_name)\u001b[0m\n\u001b[1;32m    152\u001b[0m \u001b[38;5;28;01mif\u001b[39;00m estimator_name \u001b[38;5;129;01mand\u001b[39;00m input_name \u001b[38;5;241m==\u001b[39m \u001b[38;5;124m\"\u001b[39m\u001b[38;5;124mX\u001b[39m\u001b[38;5;124m\"\u001b[39m \u001b[38;5;129;01mand\u001b[39;00m has_nan_error:\n\u001b[1;32m    153\u001b[0m     \u001b[38;5;66;03m# Improve the error message on how to handle missing values in\u001b[39;00m\n\u001b[1;32m    154\u001b[0m     \u001b[38;5;66;03m# scikit-learn.\u001b[39;00m\n\u001b[1;32m    155\u001b[0m     msg_err \u001b[38;5;241m+\u001b[39m\u001b[38;5;241m=\u001b[39m (\n\u001b[1;32m    156\u001b[0m         \u001b[38;5;124mf\u001b[39m\u001b[38;5;124m\"\u001b[39m\u001b[38;5;130;01m\\n\u001b[39;00m\u001b[38;5;132;01m{\u001b[39;00mestimator_name\u001b[38;5;132;01m}\u001b[39;00m\u001b[38;5;124m does not accept missing values\u001b[39m\u001b[38;5;124m\"\u001b[39m\n\u001b[1;32m    157\u001b[0m         \u001b[38;5;124m\"\u001b[39m\u001b[38;5;124m encoded as NaN natively. For supervised learning, you might want\u001b[39m\u001b[38;5;124m\"\u001b[39m\n\u001b[0;32m   (...)\u001b[0m\n\u001b[1;32m    167\u001b[0m         \u001b[38;5;124m\"\u001b[39m\u001b[38;5;124m#estimators-that-handle-nan-values\u001b[39m\u001b[38;5;124m\"\u001b[39m\n\u001b[1;32m    168\u001b[0m     )\n\u001b[0;32m--> 169\u001b[0m \u001b[38;5;28;01mraise\u001b[39;00m \u001b[38;5;167;01mValueError\u001b[39;00m(msg_err)\n",
      "\u001b[0;31mValueError\u001b[0m: Input X contains NaN.\nPCA does not accept missing values encoded as NaN natively. For supervised learning, you might want to consider sklearn.ensemble.HistGradientBoostingClassifier and Regressor which accept missing values encoded as NaNs natively. Alternatively, it is possible to preprocess the data, for instance by using an imputer transformer in a pipeline or drop samples with missing values. See https://scikit-learn.org/stable/modules/impute.html You can find a list of all estimators that handle NaN values at the following page: https://scikit-learn.org/stable/modules/impute.html#estimators-that-handle-nan-values"
     ]
    }
   ],
   "source": [
    "pca = PCA(10)\n",
    "pca.fit(pca_df)"
   ]
  },
  {
   "cell_type": "code",
   "execution_count": null,
   "id": "8a30bd8c-b544-4378-a6c6-a8f8307aa5e9",
   "metadata": {},
   "outputs": [],
   "source": []
  }
 ],
 "metadata": {
  "kernelspec": {
   "display_name": "Python 3 (ipykernel)",
   "language": "python",
   "name": "python3"
  },
  "language_info": {
   "codemirror_mode": {
    "name": "ipython",
    "version": 3
   },
   "file_extension": ".py",
   "mimetype": "text/x-python",
   "name": "python",
   "nbconvert_exporter": "python",
   "pygments_lexer": "ipython3",
   "version": "3.12.4"
  }
 },
 "nbformat": 4,
 "nbformat_minor": 5
}
