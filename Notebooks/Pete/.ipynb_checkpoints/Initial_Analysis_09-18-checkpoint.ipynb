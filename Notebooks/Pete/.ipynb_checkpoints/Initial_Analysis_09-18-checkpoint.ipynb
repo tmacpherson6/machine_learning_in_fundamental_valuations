{
 "cells": [
  {
   "cell_type": "code",
   "execution_count": 2,
   "id": "b31060c0-941f-4edf-8ed8-507b21897c38",
   "metadata": {},
   "outputs": [],
   "source": [
    "import sys\n",
    "PATH_TO_MODULES = '../..'\n",
    "sys.path.insert(0, PATH_TO_MODULES)\n",
    "\n",
    "from helpers import plot_residuals\n",
    "\n",
    "# Data Manipulation and Math/Stats Libraries\n",
    "import numpy as np\n",
    "import pandas as pd\n",
    "import scipy.stats as stats\n",
    "import statsmodels.api as sm\n",
    "\n",
    "# Sci-kit Learn Functions\n",
    "from sklearn.preprocessing import StandardScaler\n",
    "\n",
    "# Visualization Libraries\n",
    "import matplotlib.pyplot as plt\n",
    "import seaborn as sns\n",
    "import altair as alt\n",
    "import plotly.express as px\n",
    "import plotly.graph_objects as go"
   ]
  },
  {
   "cell_type": "code",
   "execution_count": 3,
   "id": "0620f87d-fe66-4584-b4de-3b17f14266f0",
   "metadata": {},
   "outputs": [],
   "source": [
    "# Import merged dataset\n",
    "path = PATH_TO_MODULES + '/datasets/'\n",
    "filename = 'X_train_filled_KPIs_QoQ.csv'\n",
    "dataset = pd.read_csv(path + filename)"
   ]
  },
  {
   "cell_type": "code",
   "execution_count": 4,
   "id": "68ee15b0-53a5-4282-a9f9-08f3d565e6d5",
   "metadata": {},
   "outputs": [
    {
     "name": "stdout",
     "output_type": "stream",
     "text": [
      "There are 1931 rows in the dataset.\n"
     ]
    }
   ],
   "source": [
    "print(f'There are {dataset.shape[0]} rows in the dataset.')"
   ]
  },
  {
   "cell_type": "markdown",
   "id": "e2300c6f-5029-4f36-849a-5f07d6af0117",
   "metadata": {},
   "source": [
    "## KPI Exploration"
   ]
  },
  {
   "cell_type": "code",
   "execution_count": 14,
   "id": "45af22ca-f7bb-4274-82a9-4b2e35f64141",
   "metadata": {},
   "outputs": [],
   "source": [
    "# Make new dataframe keeping only KPI's and the target (Net Income)\n",
    "covariates = []\n",
    "for column in dataset.columns:\n",
    "    if 'KPI' in column:\n",
    "        covariates.append(column)\n",
    "regressand = ['Revenue_2025Q1']\n",
    "analysis_df = dataset[covariates + regressand]"
   ]
  },
  {
   "cell_type": "code",
   "execution_count": 15,
   "id": "a64b61d6-9db8-436d-9354-2d99de5c61f7",
   "metadata": {},
   "outputs": [
    {
     "data": {
      "image/png": "[encoded data removed]",
      "text/plain": [
       "<Figure size 1000x800 with 1 Axes>"
      ]
     },
     "metadata": {},
     "output_type": "display_data"
    }
   ],
   "source": [
    "# Missing values show in white in the figure\n",
    "plt.figure(figsize=(10, 8))\n",
    "plt.imshow(analysis_df.isna(), aspect='auto', interpolation='nearest', cmap='gray')\n",
    "plt.xlabel('Column Number')\n",
    "plt.ylabel('Sample Number')\n",
    "plt.show()"
   ]
  },
  {
   "cell_type": "code",
   "execution_count": 16,
   "id": "4ad6bef6-95b1-4cdc-a853-85a570730ca9",
   "metadata": {},
   "outputs": [
    {
     "data": {
      "text/plain": [
       "KPI_GrossProfitMargin_QoQ_24Q4_25Q1    0.141895\n",
       "KPI_GrossProfitMargin_QoQ_Rate         0.141895\n",
       "KPI_GrossProfitMargin_QoQ_24Q3_24Q4    0.141895\n",
       "KPI_GrossProfitMargin_QoQ_24Q2_24Q3    0.141378\n",
       "KPI_ReturnOnEquity_QoQ_Rate            0.001036\n",
       "KPI_ReturnOnAssets_QoQ_Rate            0.001036\n",
       "KPI_NetProfitMargin_2024Q4             0.000000\n",
       "KPI_NetProfitMargin_2024Q3             0.000000\n",
       "KPI_WorkingCapital_2024Q2              0.000000\n",
       "KPI_WorkingCapital_2024Q3              0.000000\n",
       "KPI_WorkingCapital_2024Q4              0.000000\n",
       "KPI_WorkingCapital_2025Q1              0.000000\n",
       "KPI_CurrentRatio_2024Q2                0.000000\n",
       "KPI_CurrentRatio_2024Q3                0.000000\n",
       "KPI_CurrentRatio_2024Q4                0.000000\n",
       "KPI_NetProfitMargin_2025Q1             0.000000\n",
       "KPI_GrossProfitMargin_2024Q2           0.000000\n",
       "KPI_GrossProfitMargin_2024Q3           0.000000\n",
       "KPI_GrossProfitMargin_2024Q4           0.000000\n",
       "KPI_GrossProfitMargin_2025Q1           0.000000\n",
       "dtype: float64"
      ]
     },
     "execution_count": 16,
     "metadata": {},
     "output_type": "execute_result"
    }
   ],
   "source": [
    "# List features missing the most data\n",
    "analysis_df.isna().mean().sort_values(ascending=False)[:20]"
   ]
  },
  {
   "cell_type": "code",
   "execution_count": 17,
   "id": "89f4f641-fbb5-4e56-a10b-8e5e8dc4a404",
   "metadata": {},
   "outputs": [
    {
     "name": "stdout",
     "output_type": "stream",
     "text": [
      "After dropping missing values, we are down to only 1655 observations.\n"
     ]
    }
   ],
   "source": [
    "# Drop missing values to facilitate early analysis\n",
    "analysis_df = analysis_df.copy().dropna()\n",
    "no_rows = analysis_df.shape[0]\n",
    "print(f'After dropping missing values, we are down to only {no_rows} observations.')"
   ]
  },
  {
   "cell_type": "markdown",
   "id": "e5ae3b90-5c2e-43e3-b26a-517548ea0f0c",
   "metadata": {},
   "source": [
    "\n",
    "## Linear Regression\n",
    "\n",
    "### Predict EPS_2025Q2 using KPI's from 2025Q1\n",
    "\n",
    "Attempting a linear regression at this stage will allow us to examine the residuals to see if there are any patterns.  The presence of a pattern might indicate a need to transform either the regressand, the covariate, or both, to obtain a linear relationship."
   ]
  },
  {
   "cell_type": "code",
   "execution_count": 18,
   "id": "f8e42233-194a-44be-a8e0-67c4a0c79cbb",
   "metadata": {},
   "outputs": [
    {
     "ename": "MissingDataError",
     "evalue": "exog contains inf or nans",
     "output_type": "error",
     "traceback": [
      "\u001b[0;31m---------------------------------------------------------------------------\u001b[0m",
      "\u001b[0;31mMissingDataError\u001b[0m                          Traceback (most recent call last)",
      "Cell \u001b[0;32mIn[18], line 3\u001b[0m\n\u001b[1;32m      1\u001b[0m y \u001b[38;5;241m=\u001b[39m analysis_df[\u001b[38;5;124m'\u001b[39m\u001b[38;5;124mRevenue_2025Q1\u001b[39m\u001b[38;5;124m'\u001b[39m]\u001b[38;5;241m.\u001b[39mvalues\u001b[38;5;241m.\u001b[39mreshape(\u001b[38;5;241m-\u001b[39m\u001b[38;5;241m1\u001b[39m, \u001b[38;5;241m1\u001b[39m)\n\u001b[1;32m      2\u001b[0m X \u001b[38;5;241m=\u001b[39m analysis_df\u001b[38;5;241m.\u001b[39mdrop(columns\u001b[38;5;241m=\u001b[39m[\u001b[38;5;124m'\u001b[39m\u001b[38;5;124mRevenue_2025Q1\u001b[39m\u001b[38;5;124m'\u001b[39m])\n\u001b[0;32m----> 3\u001b[0m model \u001b[38;5;241m=\u001b[39m sm\u001b[38;5;241m.\u001b[39mOLS(y, sm\u001b[38;5;241m.\u001b[39madd_constant(X))\n\u001b[1;32m      4\u001b[0m results \u001b[38;5;241m=\u001b[39m model\u001b[38;5;241m.\u001b[39mfit()\n\u001b[1;32m      5\u001b[0m \u001b[38;5;28mprint\u001b[39m(results\u001b[38;5;241m.\u001b[39msummary())\n",
      "File \u001b[0;32m~/miniconda3/envs/MADS/lib/python3.12/site-packages/statsmodels/regression/linear_model.py:921\u001b[0m, in \u001b[0;36mOLS.__init__\u001b[0;34m(self, endog, exog, missing, hasconst, **kwargs)\u001b[0m\n\u001b[1;32m    918\u001b[0m     msg \u001b[38;5;241m=\u001b[39m (\u001b[38;5;124m\"\u001b[39m\u001b[38;5;124mWeights are not supported in OLS and will be ignored\u001b[39m\u001b[38;5;124m\"\u001b[39m\n\u001b[1;32m    919\u001b[0m            \u001b[38;5;124m\"\u001b[39m\u001b[38;5;124mAn exception will be raised in the next version.\u001b[39m\u001b[38;5;124m\"\u001b[39m)\n\u001b[1;32m    920\u001b[0m     warnings\u001b[38;5;241m.\u001b[39mwarn(msg, ValueWarning)\n\u001b[0;32m--> 921\u001b[0m \u001b[38;5;28msuper\u001b[39m()\u001b[38;5;241m.\u001b[39m\u001b[38;5;21m__init__\u001b[39m(endog, exog, missing\u001b[38;5;241m=\u001b[39mmissing,\n\u001b[1;32m    922\u001b[0m                           hasconst\u001b[38;5;241m=\u001b[39mhasconst, \u001b[38;5;241m*\u001b[39m\u001b[38;5;241m*\u001b[39mkwargs)\n\u001b[1;32m    923\u001b[0m \u001b[38;5;28;01mif\u001b[39;00m \u001b[38;5;124m\"\u001b[39m\u001b[38;5;124mweights\u001b[39m\u001b[38;5;124m\"\u001b[39m \u001b[38;5;129;01min\u001b[39;00m \u001b[38;5;28mself\u001b[39m\u001b[38;5;241m.\u001b[39m_init_keys:\n\u001b[1;32m    924\u001b[0m     \u001b[38;5;28mself\u001b[39m\u001b[38;5;241m.\u001b[39m_init_keys\u001b[38;5;241m.\u001b[39mremove(\u001b[38;5;124m\"\u001b[39m\u001b[38;5;124mweights\u001b[39m\u001b[38;5;124m\"\u001b[39m)\n",
      "File \u001b[0;32m~/miniconda3/envs/MADS/lib/python3.12/site-packages/statsmodels/regression/linear_model.py:746\u001b[0m, in \u001b[0;36mWLS.__init__\u001b[0;34m(self, endog, exog, weights, missing, hasconst, **kwargs)\u001b[0m\n\u001b[1;32m    744\u001b[0m \u001b[38;5;28;01melse\u001b[39;00m:\n\u001b[1;32m    745\u001b[0m     weights \u001b[38;5;241m=\u001b[39m weights\u001b[38;5;241m.\u001b[39msqueeze()\n\u001b[0;32m--> 746\u001b[0m \u001b[38;5;28msuper\u001b[39m()\u001b[38;5;241m.\u001b[39m\u001b[38;5;21m__init__\u001b[39m(endog, exog, missing\u001b[38;5;241m=\u001b[39mmissing,\n\u001b[1;32m    747\u001b[0m                           weights\u001b[38;5;241m=\u001b[39mweights, hasconst\u001b[38;5;241m=\u001b[39mhasconst, \u001b[38;5;241m*\u001b[39m\u001b[38;5;241m*\u001b[39mkwargs)\n\u001b[1;32m    748\u001b[0m nobs \u001b[38;5;241m=\u001b[39m \u001b[38;5;28mself\u001b[39m\u001b[38;5;241m.\u001b[39mexog\u001b[38;5;241m.\u001b[39mshape[\u001b[38;5;241m0\u001b[39m]\n\u001b[1;32m    749\u001b[0m weights \u001b[38;5;241m=\u001b[39m \u001b[38;5;28mself\u001b[39m\u001b[38;5;241m.\u001b[39mweights\n",
      "File \u001b[0;32m~/miniconda3/envs/MADS/lib/python3.12/site-packages/statsmodels/regression/linear_model.py:200\u001b[0m, in \u001b[0;36mRegressionModel.__init__\u001b[0;34m(self, endog, exog, **kwargs)\u001b[0m\n\u001b[1;32m    199\u001b[0m \u001b[38;5;28;01mdef\u001b[39;00m \u001b[38;5;21m__init__\u001b[39m(\u001b[38;5;28mself\u001b[39m, endog, exog, \u001b[38;5;241m*\u001b[39m\u001b[38;5;241m*\u001b[39mkwargs):\n\u001b[0;32m--> 200\u001b[0m     \u001b[38;5;28msuper\u001b[39m()\u001b[38;5;241m.\u001b[39m\u001b[38;5;21m__init__\u001b[39m(endog, exog, \u001b[38;5;241m*\u001b[39m\u001b[38;5;241m*\u001b[39mkwargs)\n\u001b[1;32m    201\u001b[0m     \u001b[38;5;28mself\u001b[39m\u001b[38;5;241m.\u001b[39mpinv_wexog: Float64Array \u001b[38;5;241m|\u001b[39m \u001b[38;5;28;01mNone\u001b[39;00m \u001b[38;5;241m=\u001b[39m \u001b[38;5;28;01mNone\u001b[39;00m\n\u001b[1;32m    202\u001b[0m     \u001b[38;5;28mself\u001b[39m\u001b[38;5;241m.\u001b[39m_data_attr\u001b[38;5;241m.\u001b[39mextend([\u001b[38;5;124m'\u001b[39m\u001b[38;5;124mpinv_wexog\u001b[39m\u001b[38;5;124m'\u001b[39m, \u001b[38;5;124m'\u001b[39m\u001b[38;5;124mwendog\u001b[39m\u001b[38;5;124m'\u001b[39m, \u001b[38;5;124m'\u001b[39m\u001b[38;5;124mwexog\u001b[39m\u001b[38;5;124m'\u001b[39m, \u001b[38;5;124m'\u001b[39m\u001b[38;5;124mweights\u001b[39m\u001b[38;5;124m'\u001b[39m])\n",
      "File \u001b[0;32m~/miniconda3/envs/MADS/lib/python3.12/site-packages/statsmodels/base/model.py:270\u001b[0m, in \u001b[0;36mLikelihoodModel.__init__\u001b[0;34m(self, endog, exog, **kwargs)\u001b[0m\n\u001b[1;32m    269\u001b[0m \u001b[38;5;28;01mdef\u001b[39;00m \u001b[38;5;21m__init__\u001b[39m(\u001b[38;5;28mself\u001b[39m, endog, exog\u001b[38;5;241m=\u001b[39m\u001b[38;5;28;01mNone\u001b[39;00m, \u001b[38;5;241m*\u001b[39m\u001b[38;5;241m*\u001b[39mkwargs):\n\u001b[0;32m--> 270\u001b[0m     \u001b[38;5;28msuper\u001b[39m()\u001b[38;5;241m.\u001b[39m\u001b[38;5;21m__init__\u001b[39m(endog, exog, \u001b[38;5;241m*\u001b[39m\u001b[38;5;241m*\u001b[39mkwargs)\n\u001b[1;32m    271\u001b[0m     \u001b[38;5;28mself\u001b[39m\u001b[38;5;241m.\u001b[39minitialize()\n",
      "File \u001b[0;32m~/miniconda3/envs/MADS/lib/python3.12/site-packages/statsmodels/base/model.py:95\u001b[0m, in \u001b[0;36mModel.__init__\u001b[0;34m(self, endog, exog, **kwargs)\u001b[0m\n\u001b[1;32m     93\u001b[0m missing \u001b[38;5;241m=\u001b[39m kwargs\u001b[38;5;241m.\u001b[39mpop(\u001b[38;5;124m'\u001b[39m\u001b[38;5;124mmissing\u001b[39m\u001b[38;5;124m'\u001b[39m, \u001b[38;5;124m'\u001b[39m\u001b[38;5;124mnone\u001b[39m\u001b[38;5;124m'\u001b[39m)\n\u001b[1;32m     94\u001b[0m hasconst \u001b[38;5;241m=\u001b[39m kwargs\u001b[38;5;241m.\u001b[39mpop(\u001b[38;5;124m'\u001b[39m\u001b[38;5;124mhasconst\u001b[39m\u001b[38;5;124m'\u001b[39m, \u001b[38;5;28;01mNone\u001b[39;00m)\n\u001b[0;32m---> 95\u001b[0m \u001b[38;5;28mself\u001b[39m\u001b[38;5;241m.\u001b[39mdata \u001b[38;5;241m=\u001b[39m \u001b[38;5;28mself\u001b[39m\u001b[38;5;241m.\u001b[39m_handle_data(endog, exog, missing, hasconst,\n\u001b[1;32m     96\u001b[0m                               \u001b[38;5;241m*\u001b[39m\u001b[38;5;241m*\u001b[39mkwargs)\n\u001b[1;32m     97\u001b[0m \u001b[38;5;28mself\u001b[39m\u001b[38;5;241m.\u001b[39mk_constant \u001b[38;5;241m=\u001b[39m \u001b[38;5;28mself\u001b[39m\u001b[38;5;241m.\u001b[39mdata\u001b[38;5;241m.\u001b[39mk_constant\n\u001b[1;32m     98\u001b[0m \u001b[38;5;28mself\u001b[39m\u001b[38;5;241m.\u001b[39mexog \u001b[38;5;241m=\u001b[39m \u001b[38;5;28mself\u001b[39m\u001b[38;5;241m.\u001b[39mdata\u001b[38;5;241m.\u001b[39mexog\n",
      "File \u001b[0;32m~/miniconda3/envs/MADS/lib/python3.12/site-packages/statsmodels/base/model.py:135\u001b[0m, in \u001b[0;36mModel._handle_data\u001b[0;34m(self, endog, exog, missing, hasconst, **kwargs)\u001b[0m\n\u001b[1;32m    134\u001b[0m \u001b[38;5;28;01mdef\u001b[39;00m \u001b[38;5;21m_handle_data\u001b[39m(\u001b[38;5;28mself\u001b[39m, endog, exog, missing, hasconst, \u001b[38;5;241m*\u001b[39m\u001b[38;5;241m*\u001b[39mkwargs):\n\u001b[0;32m--> 135\u001b[0m     data \u001b[38;5;241m=\u001b[39m handle_data(endog, exog, missing, hasconst, \u001b[38;5;241m*\u001b[39m\u001b[38;5;241m*\u001b[39mkwargs)\n\u001b[1;32m    136\u001b[0m     \u001b[38;5;66;03m# kwargs arrays could have changed, easier to just attach here\u001b[39;00m\n\u001b[1;32m    137\u001b[0m     \u001b[38;5;28;01mfor\u001b[39;00m key \u001b[38;5;129;01min\u001b[39;00m kwargs:\n",
      "File \u001b[0;32m~/miniconda3/envs/MADS/lib/python3.12/site-packages/statsmodels/base/data.py:675\u001b[0m, in \u001b[0;36mhandle_data\u001b[0;34m(endog, exog, missing, hasconst, **kwargs)\u001b[0m\n\u001b[1;32m    672\u001b[0m     exog \u001b[38;5;241m=\u001b[39m np\u001b[38;5;241m.\u001b[39masarray(exog)\n\u001b[1;32m    674\u001b[0m klass \u001b[38;5;241m=\u001b[39m handle_data_class_factory(endog, exog)\n\u001b[0;32m--> 675\u001b[0m \u001b[38;5;28;01mreturn\u001b[39;00m klass(endog, exog\u001b[38;5;241m=\u001b[39mexog, missing\u001b[38;5;241m=\u001b[39mmissing, hasconst\u001b[38;5;241m=\u001b[39mhasconst,\n\u001b[1;32m    676\u001b[0m              \u001b[38;5;241m*\u001b[39m\u001b[38;5;241m*\u001b[39mkwargs)\n",
      "File \u001b[0;32m~/miniconda3/envs/MADS/lib/python3.12/site-packages/statsmodels/base/data.py:88\u001b[0m, in \u001b[0;36mModelData.__init__\u001b[0;34m(self, endog, exog, missing, hasconst, **kwargs)\u001b[0m\n\u001b[1;32m     86\u001b[0m \u001b[38;5;28mself\u001b[39m\u001b[38;5;241m.\u001b[39mconst_idx \u001b[38;5;241m=\u001b[39m \u001b[38;5;28;01mNone\u001b[39;00m\n\u001b[1;32m     87\u001b[0m \u001b[38;5;28mself\u001b[39m\u001b[38;5;241m.\u001b[39mk_constant \u001b[38;5;241m=\u001b[39m \u001b[38;5;241m0\u001b[39m\n\u001b[0;32m---> 88\u001b[0m \u001b[38;5;28mself\u001b[39m\u001b[38;5;241m.\u001b[39m_handle_constant(hasconst)\n\u001b[1;32m     89\u001b[0m \u001b[38;5;28mself\u001b[39m\u001b[38;5;241m.\u001b[39m_check_integrity()\n\u001b[1;32m     90\u001b[0m \u001b[38;5;28mself\u001b[39m\u001b[38;5;241m.\u001b[39m_cache \u001b[38;5;241m=\u001b[39m {}\n",
      "File \u001b[0;32m~/miniconda3/envs/MADS/lib/python3.12/site-packages/statsmodels/base/data.py:134\u001b[0m, in \u001b[0;36mModelData._handle_constant\u001b[0;34m(self, hasconst)\u001b[0m\n\u001b[1;32m    132\u001b[0m exog_max \u001b[38;5;241m=\u001b[39m np\u001b[38;5;241m.\u001b[39mmax(\u001b[38;5;28mself\u001b[39m\u001b[38;5;241m.\u001b[39mexog, axis\u001b[38;5;241m=\u001b[39m\u001b[38;5;241m0\u001b[39m)\n\u001b[1;32m    133\u001b[0m \u001b[38;5;28;01mif\u001b[39;00m \u001b[38;5;129;01mnot\u001b[39;00m np\u001b[38;5;241m.\u001b[39misfinite(exog_max)\u001b[38;5;241m.\u001b[39mall():\n\u001b[0;32m--> 134\u001b[0m     \u001b[38;5;28;01mraise\u001b[39;00m MissingDataError(\u001b[38;5;124m'\u001b[39m\u001b[38;5;124mexog contains inf or nans\u001b[39m\u001b[38;5;124m'\u001b[39m)\n\u001b[1;32m    135\u001b[0m exog_min \u001b[38;5;241m=\u001b[39m np\u001b[38;5;241m.\u001b[39mmin(\u001b[38;5;28mself\u001b[39m\u001b[38;5;241m.\u001b[39mexog, axis\u001b[38;5;241m=\u001b[39m\u001b[38;5;241m0\u001b[39m)\n\u001b[1;32m    136\u001b[0m const_idx \u001b[38;5;241m=\u001b[39m np\u001b[38;5;241m.\u001b[39mwhere(exog_max \u001b[38;5;241m==\u001b[39m exog_min)[\u001b[38;5;241m0\u001b[39m]\u001b[38;5;241m.\u001b[39msqueeze()\n",
      "\u001b[0;31mMissingDataError\u001b[0m: exog contains inf or nans"
     ]
    }
   ],
   "source": [
    "y = analysis_df['Revenue_2025Q1'].values.reshape(-1, 1)\n",
    "X = analysis_df.drop(columns=['Revenue_2025Q1'])\n",
    "model = sm.OLS(y, sm.add_constant(X))\n",
    "results = model.fit()\n",
    "print(results.summary())"
   ]
  },
  {
   "cell_type": "code",
   "execution_count": null,
   "id": "4d3fbfbf-92d1-4ca4-ab01-1e41bc4fff5f",
   "metadata": {},
   "outputs": [],
   "source": [
    "# Remove the covariate with the lowest p-value.\n",
    "X.drop(columns=['KPI_Leverage_2025Q1'], inplace=True)\n",
    "model = sm.OLS(y, sm.add_constant(X))\n",
    "results = model.fit()\n",
    "print(results.summary())"
   ]
  },
  {
   "cell_type": "markdown",
   "id": "6ee5ec34-aed1-4e82-8839-a336f95e2e06",
   "metadata": {},
   "source": [
    "R-squared of 0.067 indicates that a simple linear model using KPI's explains very little about the observed EPS for the next quarter.  Let's see if we can find any patterns in these residuals.\n",
    "\n",
    "**Next steps:**\n",
    " - examine residuals of each covariate vs. the regressand for patterns\n",
    " - if a pattern is found, apply an appropriate transformation to obtain a linear relationship\n"
   ]
  },
  {
   "cell_type": "markdown",
   "id": "30ccc1b7-3c89-4f62-9098-05b80de779f7",
   "metadata": {},
   "source": [
    "### Plot of residuals for multivariate regression"
   ]
  },
  {
   "cell_type": "code",
   "execution_count": null,
   "id": "43a65b3f-2cd8-409a-9e91-8a7c3bf5b446",
   "metadata": {},
   "outputs": [],
   "source": [
    "fig = plt.figure()\n",
    "ax = fig.subplots()\n",
    "ax.scatter(y, results.resid)\n",
    "plt.show()"
   ]
  },
  {
   "cell_type": "markdown",
   "id": "53c33a18-b323-4e49-aef8-37a9c137d262",
   "metadata": {},
   "source": [
    "The plot shows a linear relationship between the residuals (the noise) and the regressand.  I would interpret this to mean that there is no linear relationship that can be found between the regrassand and the covariates."
   ]
  },
  {
   "cell_type": "markdown",
   "id": "50c3706f-07be-4845-9f04-1569d6aae78a",
   "metadata": {},
   "source": [
    "\n",
    "### Plot of each residual distribution for univariate regressions\n"
   ]
  },
  {
   "cell_type": "code",
   "execution_count": null,
   "id": "2c51d6cb-aedd-4821-b9fc-4f16132a7c55",
   "metadata": {},
   "outputs": [],
   "source": [
    "for column in X:\n",
    "    plot_residuals(X[column], y)"
   ]
  },
  {
   "cell_type": "markdown",
   "id": "d6f5efea-616b-4d30-bb75-5f74dcad95ed",
   "metadata": {},
   "source": [
    "These plots indicate that residual distributions are not normally distributed.  \n",
    "Simple linear regression does not appear to be a good model choice."
   ]
  },
  {
   "cell_type": "markdown",
   "id": "bf37bdf3-5931-4938-980b-29f5b4b77448",
   "metadata": {},
   "source": [
    "**Further steps...**\n",
    " - Once we are finished with attempting to transform variables, we will need to split the data into train/validate/test sets.\n",
    " - Once data is split, we can begin to explore dimensionality reduction and other ML-enabled feature selection techniques."
   ]
  }
 ],
 "metadata": {
  "kernelspec": {
   "display_name": "Python 3 (ipykernel)",
   "language": "python",
   "name": "python3"
  },
  "language_info": {
   "codemirror_mode": {
    "name": "ipython",
    "version": 3
   },
   "file_extension": ".py",
   "mimetype": "text/x-python",
   "name": "python",
   "nbconvert_exporter": "python",
   "pygments_lexer": "ipython3",
   "version": "3.12.4"
  }
 },
 "nbformat": 4,
 "nbformat_minor": 5
}
