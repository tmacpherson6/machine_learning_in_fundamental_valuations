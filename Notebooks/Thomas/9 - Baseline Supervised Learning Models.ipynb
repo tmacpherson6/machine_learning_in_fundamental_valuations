{
 "cells": [
  {
   "cell_type": "markdown",
   "id": "3f2d2185",
   "metadata": {},
   "source": [
    "# Supervised Learning Models  \n",
    "The goal of this notebook is to create a machine learning pipeline that test multiple base forms (no hyper parameter tuning) of supervised machine learning techniques. This will allow us to determine the best baseline model to then tune in order to maximize performance. We want to set this up in a form that allows us to apply it to many different subsets of our feature space to see what works best and reduce model complexity while maintaining forecasting of out-of-sample data."
   ]
  },
  {
   "cell_type": "markdown",
   "id": "018f1012",
   "metadata": {},
   "source": [
    "## Import Libraries\n",
    "There are going to be a lot of different baseline models that we need to import here. The goal will be to produce a pipeline that runs the dataset through all of these models and outputs a box-whisker plot showing the RMSE."
   ]
  },
  {
   "cell_type": "code",
   "execution_count": null,
   "id": "4282acdf",
   "metadata": {},
   "outputs": [],
   "source": [
    "# Data Manipulation libraries\n",
    "import numpy as np\n",
    "import pandas as pd\n",
    "\n",
    "# Sci-Kit Learn Processing and Evaluating\n",
    "from sklearn.compose import ColumnTransformer\n",
    "from sklearn.model_selection import KFold, cross_val_score\n",
    "from sklearn.pipeline import Pipeline\n",
    "from sklearn.preprocessing import OneHotEncoder, StandardScaler\n",
    "from sklearn.metrics import root_mean_squared_error\n",
    "from sklearn.feature_selection import SelectKBest, chi2, f_regression\n",
    "\n",
    "# Supervised Learning Models  \n",
    "from sklearn.linear_model import LinearRegression \n",
    "from sklearn.linear_model import Ridge\n",
    "from sklearn.linear_model import Lasso  \n",
    "from sklearn.linear_model import ElasticNet\n",
    "from sklearn.tree import DecisionTreeRegressor  \n",
    "from sklearn.neighbors import KNeighborsRegressor \n",
    "from sklearn.svm import SVR  \n",
    "from sklearn.ensemble import RandomForestRegressor  \n",
    "from sklearn.ensemble import GradientBoostingRegressor\n",
    "from sklearn.ensemble import ExtraTreesRegressor\n",
    "from sklearn.ensemble import AdaBoostRegressor\n",
    "\n",
    "# Visualization libraries\n",
    "import matplotlib.pyplot as plt\n",
    "import seaborn as sns\n",
    "import altair as alt\n",
    "\n",
    "# Let's set our Random State here as well\n",
    "random_state = 6"
   ]
  },
  {
   "cell_type": "markdown",
   "id": "7a12134b",
   "metadata": {},
   "source": [
    "## Load Data Files\n",
    "Now we need to load both the X_data files and the y_data files for comparisons."
   ]
  },
  {
   "cell_type": "code",
   "execution_count": null,
   "id": "30f28340",
   "metadata": {},
   "outputs": [],
   "source": [
    "path = '../../datasets/X_train_filled_KPIs_QoQ.csv'\n",
    "df = pd.read_csv(path)\n",
    "print(df.shape)\n",
    "df.head()"
   ]
  },
  {
   "cell_type": "code",
   "execution_count": null,
   "id": "df8e189b",
   "metadata": {},
   "outputs": [],
   "source": []
  }
 ],
 "metadata": {
  "kernelspec": {
   "display_name": "milestoneII",
   "language": "python",
   "name": "python3"
  },
  "language_info": {
   "name": "python",
   "version": "3.13.5"
  }
 },
 "nbformat": 4,
 "nbformat_minor": 5
}
