{
 "cells": [
  {
   "cell_type": "markdown",
   "id": "3f2d2185",
   "metadata": {},
   "source": [
    "# Supervised Learning Models  \n",
    "The goal of this notebook is to create a machine learning pipeline that test multiple base forms (no hyper parameter tuning) of supervised machine learning techniques. This will allow us to determine the best baseline model to then tune in order to maximize performance. We want to set this up in a form that allows us to apply it to many different subsets of our feature space to see what works best and reduce model complexity while maintaining forecasting of out-of-sample data."
   ]
  },
  {
   "cell_type": "markdown",
   "id": "018f1012",
   "metadata": {},
   "source": [
    "## Import Libraries\n",
    "There are going to be a lot of different baseline models that we need to import here. The goal will be to produce a pipeline that runs the dataset through all of these models and outputs a box-whisker plot showing the RMSE."
   ]
  },
  {
   "cell_type": "code",
   "execution_count": 1,
   "id": "4282acdf",
   "metadata": {},
   "outputs": [],
   "source": [
    "# Data Manipulation libraries\n",
    "import numpy as np\n",
    "import pandas as pd\n",
    "\n",
    "# Sci-Kit Learn Processing and Evaluating\n",
    "from sklearn.compose import ColumnTransformer\n",
    "from sklearn.model_selection import KFold, cross_val_score\n",
    "from sklearn.pipeline import Pipeline\n",
    "from sklearn.preprocessing import OneHotEncoder, StandardScaler\n",
    "from sklearn.metrics import root_mean_squared_error\n",
    "from sklearn.feature_selection import SelectKBest, chi2, f_regression\n",
    "\n",
    "# Supervised Learning Models  \n",
    "from sklearn.linear_model import LinearRegression \n",
    "from sklearn.linear_model import Ridge\n",
    "from sklearn.linear_model import Lasso  \n",
    "from sklearn.linear_model import ElasticNet\n",
    "from sklearn.tree import DecisionTreeRegressor  \n",
    "from sklearn.neighbors import KNeighborsRegressor \n",
    "from sklearn.svm import SVR  \n",
    "from sklearn.ensemble import RandomForestRegressor  \n",
    "from sklearn.ensemble import GradientBoostingRegressor\n",
    "from sklearn.ensemble import ExtraTreesRegressor\n",
    "from sklearn.ensemble import AdaBoostRegressor\n",
    "\n",
    "# Visualization libraries\n",
    "import matplotlib.pyplot as plt\n",
    "import seaborn as sns\n",
    "import altair as alt\n",
    "\n",
    "# Let's set our Random State here as well\n",
    "random_state = 6"
   ]
  },
  {
   "cell_type": "markdown",
   "id": "7a12134b",
   "metadata": {},
   "source": [
    "## Load Data Files\n",
    "Now we need to load both the X_data files and the y_data files for comparisons."
   ]
  },
  {
   "cell_type": "code",
   "execution_count": 17,
   "id": "30f28340",
   "metadata": {},
   "outputs": [
    {
     "name": "stdout",
     "output_type": "stream",
     "text": [
      "(1905, 284) (1968, 19)\n",
      "      Unnamed: 0 Ticker  ... TotalDebt_Rate KPI_NetProfitMargin_Rate\n",
      "1900        1644   HOPE  ...     -8915800.0                -0.010423\n",
      "1901        1704   CLOV  ...    114188450.0                -0.010855\n",
      "1902         674   FYBR  ...    117700000.0                 0.009983\n",
      "1903        1599   AAMI  ...     12190000.0                 0.031616\n",
      "1904         856   BOOT  ...     24055700.0                 0.002681\n",
      "\n",
      "[5 rows x 284 columns]       Unnamed: 0  ...  TotalLiabilities_2025Q2\n",
      "1963        1644  ...             1.632290e+10\n",
      "1964        1704  ...             2.308080e+08\n",
      "1965         674  ...             1.650400e+10\n",
      "1966        1599  ...             5.854000e+08\n",
      "1967         856  ...             9.224200e+08\n",
      "\n",
      "[5 rows x 19 columns]\n"
     ]
    }
   ],
   "source": [
    "root_path = '../../datasets/'\n",
    "X_train_file = 'X_train_filled_KPIs_QoQ.csv'\n",
    "y_train_file = 'y_train.csv'\n",
    "X = pd.read_csv(root_path+X_train_file)\n",
    "y = pd.read_csv(root_path+y_train_file)\n",
    "print(X.shape, y.shape)\n",
    "print(X.tail(),y.tail())\n"
   ]
  },
  {
   "cell_type": "markdown",
   "id": "3aea7a58",
   "metadata": {},
   "source": [
    "Alright, the first thing that I notice is that we have different sizes of files. That means we dropped rows in our X split but didn't drop them in our y. So let's address this first."
   ]
  },
  {
   "cell_type": "code",
   "execution_count": 18,
   "id": "08d21ca1",
   "metadata": {},
   "outputs": [
    {
     "name": "stdout",
     "output_type": "stream",
     "text": [
      "1905\n",
      "(1905, 19)\n",
      "      Unnamed: 0 Ticker  ... TotalDebt_Rate KPI_NetProfitMargin_Rate\n",
      "1900        1644   HOPE  ...     -8915800.0                -0.010423\n",
      "1901        1704   CLOV  ...    114188450.0                -0.010855\n",
      "1902         674   FYBR  ...    117700000.0                 0.009983\n",
      "1903        1599   AAMI  ...     12190000.0                 0.031616\n",
      "1904         856   BOOT  ...     24055700.0                 0.002681\n",
      "\n",
      "[5 rows x 284 columns]       Unnamed: 0  ...  TotalLiabilities_2025Q2\n",
      "1900        1644  ...             1.632290e+10\n",
      "1901        1704  ...             2.308080e+08\n",
      "1902         674  ...             1.650400e+10\n",
      "1903        1599  ...             5.854000e+08\n",
      "1904         856  ...             9.224200e+08\n",
      "\n",
      "[5 rows x 19 columns]\n"
     ]
    }
   ],
   "source": [
    "in_train = set(X['Unnamed: 0'])\n",
    "y = y[y['Unnamed: 0'].isin(in_train)].copy()\n",
    "X.reset_index(drop=True,inplace=True)\n",
    "y.reset_index(drop=True,inplace=True)\n",
    "print(len(in_train))\n",
    "print(y.shape)\n",
    "print(X.tail(),y.tail())"
   ]
  },
  {
   "cell_type": "markdown",
   "id": "5e2951ae",
   "metadata": {},
   "source": [
    "Great, now similar to our unsupervised notebook. We need to do a little data cleaning and manipulation here so that we have useable X and y data. Let's start by dropping the unique columns that will not help us in identifying trends (Ticker, Name)"
   ]
  },
  {
   "cell_type": "markdown",
   "id": "82883dd3",
   "metadata": {},
   "source": [
    "## Dataset Separation\n",
    "Alright, I think one of the first things we should do is identify three different datasets that we want to work with.  \n",
    "1. Full Dataset (minus columns like Ticker)  \n",
    "2. Raw Data Dataset (What would it look like if we just used the raw financial data) \n",
    "4. KPIs and PCA Dataset (Engineered data and data reduction dataset; this may end up being 2) \n",
    "3. Engineered Dataset (Do we get better structure when we look at just the engineered features)\n",
    "\n",
    "We can easily just split these into subdatasets if we pull out the relevant columns. So let's look at all of the columns first so that we can start creating the proper datasets."
   ]
  },
  {
   "cell_type": "code",
   "execution_count": 20,
   "id": "df8e189b",
   "metadata": {},
   "outputs": [
    {
     "name": "stdout",
     "output_type": "stream",
     "text": [
      "CapitalExpenditure_2024Q2\n",
      "CapitalExpenditure_2024Q3\n",
      "CapitalExpenditure_2024Q4\n",
      "CapitalExpenditure_2025Q1\n",
      "CapitalExpenditure_QoQ_24Q2_24Q3\n",
      "CapitalExpenditure_QoQ_24Q3_24Q4\n",
      "CapitalExpenditure_QoQ_24Q4_25Q1\n",
      "CapitalExpenditure_QoQ_Rate\n",
      "CapitalExpenditure_Rate\n",
      "CashAndSTInvestments_2024Q2\n",
      "CashAndSTInvestments_2024Q3\n",
      "CashAndSTInvestments_2024Q4\n",
      "CashAndSTInvestments_2025Q1\n",
      "CashAndSTInvestments_QoQ_24Q2_24Q3\n",
      "CashAndSTInvestments_QoQ_24Q3_24Q4\n",
      "CashAndSTInvestments_QoQ_24Q4_25Q1\n",
      "CashAndSTInvestments_QoQ_Rate\n",
      "CashAndSTInvestments_Rate\n",
      "CashFromOps_2024Q2\n",
      "CashFromOps_2024Q3\n",
      "CashFromOps_2024Q4\n",
      "CashFromOps_2025Q1\n",
      "CashFromOps_QoQ_24Q2_24Q3\n",
      "CashFromOps_QoQ_24Q3_24Q4\n",
      "CashFromOps_QoQ_24Q4_25Q1\n",
      "CashFromOps_QoQ_Rate\n",
      "CashFromOps_Rate\n",
      "CostOfRevenue_2024Q2\n",
      "CostOfRevenue_2024Q3\n",
      "CostOfRevenue_2024Q4\n",
      "CostOfRevenue_2025Q1\n",
      "CostOfRevenue_QoQ_24Q2_24Q3\n",
      "CostOfRevenue_QoQ_24Q3_24Q4\n",
      "CostOfRevenue_QoQ_24Q4_25Q1\n",
      "CostOfRevenue_QoQ_Rate\n",
      "CostOfRevenue_Rate\n",
      "CurrentAssets_2024Q2\n",
      "CurrentAssets_2024Q3\n",
      "CurrentAssets_2024Q4\n",
      "CurrentAssets_2025Q1\n",
      "CurrentAssets_QoQ_24Q2_24Q3\n",
      "CurrentAssets_QoQ_24Q3_24Q4\n",
      "CurrentAssets_QoQ_24Q4_25Q1\n",
      "CurrentAssets_QoQ_Rate\n",
      "CurrentAssets_Rate\n",
      "CurrentLiabilities_2024Q2\n",
      "CurrentLiabilities_2024Q3\n",
      "CurrentLiabilities_2024Q4\n",
      "CurrentLiabilities_2025Q1\n",
      "CurrentLiabilities_QoQ_24Q2_24Q3\n",
      "CurrentLiabilities_QoQ_24Q3_24Q4\n",
      "CurrentLiabilities_QoQ_24Q4_25Q1\n",
      "CurrentLiabilities_QoQ_Rate\n",
      "CurrentLiabilities_Rate\n",
      "EPS_2024Q2\n",
      "EPS_2024Q3\n",
      "EPS_2024Q4\n",
      "EPS_2025Q1\n",
      "EPS_QoQ_24Q2_24Q3\n",
      "EPS_QoQ_24Q3_24Q4\n",
      "EPS_QoQ_24Q4_25Q1\n",
      "EPS_QoQ_Rate\n",
      "EPS_Rate\n",
      "Exchange\n",
      "GDPReal_2024Q1\n",
      "GDPReal_2024Q2\n",
      "GDPReal_2024Q3\n",
      "GDPReal_2024Q4\n",
      "GDPReal_2025Q1\n",
      "GDP_2024Q1\n",
      "GDP_2024Q2\n",
      "GDP_2024Q3\n",
      "GDP_2024Q4\n",
      "GDP_2025Q1\n",
      "IncomeTaxExpense_2024Q2\n",
      "IncomeTaxExpense_2024Q3\n",
      "IncomeTaxExpense_2024Q4\n",
      "IncomeTaxExpense_2025Q1\n",
      "IncomeTaxExpense_QoQ_24Q2_24Q3\n",
      "IncomeTaxExpense_QoQ_24Q3_24Q4\n",
      "IncomeTaxExpense_QoQ_24Q4_25Q1\n",
      "IncomeTaxExpense_QoQ_Rate\n",
      "IncomeTaxExpense_Rate\n",
      "IndustrialProd_2024Q1\n",
      "IndustrialProd_2024Q2\n",
      "IndustrialProd_2024Q3\n",
      "IndustrialProd_2024Q4\n",
      "IndustrialProd_2025Q1\n",
      "Inflation_2024Q1\n",
      "Inflation_2024Q2\n",
      "Inflation_2024Q3\n",
      "Inflation_2024Q4\n",
      "Inflation_2025Q1\n",
      "InterestExpense_2024Q2\n",
      "InterestExpense_2024Q3\n",
      "InterestExpense_2024Q4\n",
      "InterestExpense_2025Q1\n",
      "InterestExpense_QoQ_24Q2_24Q3\n",
      "InterestExpense_QoQ_24Q3_24Q4\n",
      "InterestExpense_QoQ_24Q4_25Q1\n",
      "InterestExpense_QoQ_Rate\n",
      "InterestExpense_Rate\n",
      "InterestRate_2024Q1\n",
      "InterestRate_2024Q2\n",
      "InterestRate_2024Q3\n",
      "InterestRate_2024Q4\n",
      "InterestRate_2025Q1\n",
      "KPI_CashFlow_2024Q2\n",
      "KPI_CashFlow_2024Q3\n",
      "KPI_CashFlow_2024Q4\n",
      "KPI_CashFlow_2025Q1\n",
      "KPI_CashFlow_QoQ_24Q2_24Q3\n",
      "KPI_CashFlow_QoQ_24Q3_24Q4\n",
      "KPI_CashFlow_QoQ_24Q4_25Q1\n",
      "KPI_CashFlow_QoQ_Rate\n",
      "KPI_CashFlow_Rate\n",
      "KPI_CurrentRatio_2024Q2\n",
      "KPI_CurrentRatio_2024Q3\n",
      "KPI_CurrentRatio_2024Q4\n",
      "KPI_CurrentRatio_2025Q1\n",
      "KPI_CurrentRatio_QoQ_24Q2_24Q3\n",
      "KPI_CurrentRatio_QoQ_24Q3_24Q4\n",
      "KPI_CurrentRatio_QoQ_24Q4_25Q1\n",
      "KPI_CurrentRatio_QoQ_Rate\n",
      "KPI_CurrentRatio_Rate\n",
      "KPI_DebtToEquityRatio_2024Q2\n",
      "KPI_DebtToEquityRatio_2024Q3\n",
      "KPI_DebtToEquityRatio_2024Q4\n",
      "KPI_DebtToEquityRatio_2025Q1\n",
      "KPI_DebtToEquityRatio_QoQ_24Q2_24Q3\n",
      "KPI_DebtToEquityRatio_QoQ_24Q3_24Q4\n",
      "KPI_DebtToEquityRatio_QoQ_24Q4_25Q1\n",
      "KPI_DebtToEquityRatio_QoQ_Rate\n",
      "KPI_DebtToEquityRatio_Rate\n",
      "KPI_GrossProfitMargin_2024Q2\n",
      "KPI_GrossProfitMargin_2024Q3\n",
      "KPI_GrossProfitMargin_2024Q4\n",
      "KPI_GrossProfitMargin_2025Q1\n",
      "KPI_GrossProfitMargin_QoQ_24Q2_24Q3\n",
      "KPI_GrossProfitMargin_QoQ_24Q3_24Q4\n",
      "KPI_GrossProfitMargin_QoQ_24Q4_25Q1\n",
      "KPI_GrossProfitMargin_QoQ_Rate\n",
      "KPI_GrossProfitMargin_Rate\n",
      "KPI_Leverage_2024Q2\n",
      "KPI_Leverage_2024Q3\n",
      "KPI_Leverage_2024Q4\n",
      "KPI_Leverage_2025Q1\n",
      "KPI_Leverage_QoQ_24Q2_24Q3\n",
      "KPI_Leverage_QoQ_24Q3_24Q4\n",
      "KPI_Leverage_QoQ_24Q4_25Q1\n",
      "KPI_Leverage_QoQ_Rate\n",
      "KPI_Leverage_Rate\n",
      "KPI_NetProfitMargin_2024Q2\n",
      "KPI_NetProfitMargin_2024Q3\n",
      "KPI_NetProfitMargin_2024Q4\n",
      "KPI_NetProfitMargin_2025Q1\n",
      "KPI_NetProfitMargin_QoQ_24Q2_24Q3\n",
      "KPI_NetProfitMargin_QoQ_24Q3_24Q4\n",
      "KPI_NetProfitMargin_QoQ_24Q4_25Q1\n",
      "KPI_NetProfitMargin_QoQ_Rate\n",
      "KPI_NetProfitMargin_Rate\n",
      "KPI_ReturnOnAssets_2024Q3\n",
      "KPI_ReturnOnAssets_2024Q4\n",
      "KPI_ReturnOnAssets_2025Q1\n",
      "KPI_ReturnOnAssets_QoQ_24Q3_24Q4\n",
      "KPI_ReturnOnAssets_QoQ_24Q4_25Q1\n",
      "KPI_ReturnOnAssets_QoQ_Rate\n",
      "KPI_ReturnOnAssets_Rate\n",
      "KPI_ReturnOnEquity_2024Q3\n",
      "KPI_ReturnOnEquity_2024Q4\n",
      "KPI_ReturnOnEquity_2025Q1\n",
      "KPI_ReturnOnEquity_QoQ_24Q3_24Q4\n",
      "KPI_ReturnOnEquity_QoQ_24Q4_25Q1\n",
      "KPI_ReturnOnEquity_QoQ_Rate\n",
      "KPI_ReturnOnEquity_Rate\n",
      "KPI_TotalAssetTurnover_2024Q3\n",
      "KPI_TotalAssetTurnover_2024Q4\n",
      "KPI_TotalAssetTurnover_2025Q1\n",
      "KPI_TotalAssetTurnover_QoQ_24Q3_24Q4\n",
      "KPI_TotalAssetTurnover_QoQ_24Q4_25Q1\n",
      "KPI_TotalAssetTurnover_QoQ_Rate\n",
      "KPI_TotalAssetTurnover_Rate\n",
      "KPI_WorkingCapital_2024Q2\n",
      "KPI_WorkingCapital_2024Q3\n",
      "KPI_WorkingCapital_2024Q4\n",
      "KPI_WorkingCapital_2025Q1\n",
      "KPI_WorkingCapital_QoQ_24Q2_24Q3\n",
      "KPI_WorkingCapital_QoQ_24Q3_24Q4\n",
      "KPI_WorkingCapital_QoQ_24Q4_25Q1\n",
      "KPI_WorkingCapital_QoQ_Rate\n",
      "KPI_WorkingCapital_Rate\n",
      "Location\n",
      "LongTermDebt_2024Q2\n",
      "LongTermDebt_2024Q3\n",
      "LongTermDebt_2024Q4\n",
      "LongTermDebt_2025Q1\n",
      "LongTermDebt_QoQ_24Q2_24Q3\n",
      "LongTermDebt_QoQ_24Q3_24Q4\n",
      "LongTermDebt_QoQ_24Q4_25Q1\n",
      "LongTermDebt_QoQ_Rate\n",
      "LongTermDebt_Rate\n",
      "Market Cap\n",
      "Market Value\n",
      "Name\n",
      "NetIncome_2024Q2\n",
      "NetIncome_2024Q3\n",
      "NetIncome_2024Q4\n",
      "NetIncome_2025Q1\n",
      "NetIncome_QoQ_24Q2_24Q3\n",
      "NetIncome_QoQ_24Q3_24Q4\n",
      "NetIncome_QoQ_24Q4_25Q1\n",
      "NetIncome_QoQ_Rate\n",
      "NetIncome_Rate\n",
      "OperatingIncome_2024Q2\n",
      "OperatingIncome_2024Q3\n",
      "OperatingIncome_2024Q4\n",
      "OperatingIncome_2025Q1\n",
      "OperatingIncome_QoQ_24Q2_24Q3\n",
      "OperatingIncome_QoQ_24Q3_24Q4\n",
      "OperatingIncome_QoQ_24Q4_25Q1\n",
      "OperatingIncome_QoQ_Rate\n",
      "OperatingIncome_Rate\n",
      "OtherOperatingExpense_2024Q2\n",
      "OtherOperatingExpense_2024Q3\n",
      "OtherOperatingExpense_2024Q4\n",
      "OtherOperatingExpense_2025Q1\n",
      "OtherOperatingExpense_QoQ_24Q2_24Q3\n",
      "OtherOperatingExpense_QoQ_24Q3_24Q4\n",
      "OtherOperatingExpense_QoQ_24Q4_25Q1\n",
      "OtherOperatingExpense_QoQ_Rate\n",
      "OtherOperatingExpense_Rate\n",
      "Revenue_2024Q2\n",
      "Revenue_2024Q3\n",
      "Revenue_2024Q4\n",
      "Revenue_2025Q1\n",
      "Revenue_QoQ_24Q2_24Q3\n",
      "Revenue_QoQ_24Q3_24Q4\n",
      "Revenue_QoQ_24Q4_25Q1\n",
      "Revenue_QoQ_Rate\n",
      "Revenue_Rate\n",
      "Sector\n",
      "Ticker\n",
      "TotalAssets_2024Q2\n",
      "TotalAssets_2024Q3\n",
      "TotalAssets_2024Q4\n",
      "TotalAssets_2025Q1\n",
      "TotalAssets_QoQ_24Q2_24Q3\n",
      "TotalAssets_QoQ_24Q3_24Q4\n",
      "TotalAssets_QoQ_24Q4_25Q1\n",
      "TotalAssets_QoQ_Rate\n",
      "TotalAssets_Rate\n",
      "TotalDebt_2024Q2\n",
      "TotalDebt_2024Q3\n",
      "TotalDebt_2024Q4\n",
      "TotalDebt_2025Q1\n",
      "TotalDebt_QoQ_24Q2_24Q3\n",
      "TotalDebt_QoQ_24Q3_24Q4\n",
      "TotalDebt_QoQ_24Q4_25Q1\n",
      "TotalDebt_QoQ_Rate\n",
      "TotalDebt_Rate\n",
      "TotalEquity_2024Q2\n",
      "TotalEquity_2024Q3\n",
      "TotalEquity_2024Q4\n",
      "TotalEquity_2025Q1\n",
      "TotalEquity_QoQ_24Q2_24Q3\n",
      "TotalEquity_QoQ_24Q3_24Q4\n",
      "TotalEquity_QoQ_24Q4_25Q1\n",
      "TotalEquity_QoQ_Rate\n",
      "TotalEquity_Rate\n",
      "TotalLiabilities_2024Q2\n",
      "TotalLiabilities_2024Q3\n",
      "TotalLiabilities_2024Q4\n",
      "TotalLiabilities_2025Q1\n",
      "TotalLiabilities_QoQ_24Q2_24Q3\n",
      "TotalLiabilities_QoQ_24Q3_24Q4\n",
      "TotalLiabilities_QoQ_24Q4_25Q1\n",
      "TotalLiabilities_QoQ_Rate\n",
      "TotalLiabilities_Rate\n",
      "Unemployment_2024Q1\n",
      "Unemployment_2024Q2\n",
      "Unemployment_2024Q3\n",
      "Unemployment_2024Q4\n",
      "Unemployment_2025Q1\n",
      "Unnamed: 0\n"
     ]
    }
   ],
   "source": [
    "complete_dataset = X.copy()\n",
    "columns = complete_dataset.columns.tolist()\n",
    "for column in sorted(columns):\n",
    "    print(column)"
   ]
  },
  {
   "cell_type": "markdown",
   "id": "b9fc654c",
   "metadata": {},
   "source": [
    "Alright, let's start by identifying which columns to drop because they are unnecessary for the unsupervised learning part. This should be relatively few columns.\n",
    "- Ticker\n",
    "- Name  \n"
   ]
  },
  {
   "cell_type": "code",
   "execution_count": 21,
   "id": "c8288eb4",
   "metadata": {},
   "outputs": [
    {
     "name": "stdout",
     "output_type": "stream",
     "text": [
      "(1905, 281)\n"
     ]
    }
   ],
   "source": [
    "complete_dataset = complete_dataset.drop(columns=['Unnamed: 0','Ticker','Name'])\n",
    "print(complete_dataset.shape)"
   ]
  },
  {
   "cell_type": "markdown",
   "id": "2c33ce7d",
   "metadata": {},
   "source": [
    "Great, now, we can loop through all of the columns and we will pull out all of the feature engineered data if it contains 'KPI', 'QoQ', or 'Rate' in the title. We can then investigate these columns to make sure they make sense."
   ]
  },
  {
   "cell_type": "code",
   "execution_count": 22,
   "id": "951429f3",
   "metadata": {},
   "outputs": [
    {
     "name": "stdout",
     "output_type": "stream",
     "text": [
      "Raw Columns: 102\n",
      "Engineered Columns: 179\n"
     ]
    }
   ],
   "source": [
    "raw_columns = []\n",
    "engineered_columns = []\n",
    "for column in complete_dataset.columns:\n",
    "    if ('KPI' not in column) and ('QoQ' not in column) and ('Rate' not in column):\n",
    "        raw_columns.append(column)\n",
    "    else:\n",
    "        engineered_columns.append(column)\n",
    "print(f'Raw Columns: {len(raw_columns)}')\n",
    "print(f'Engineered Columns: {len(engineered_columns)}')"
   ]
  },
  {
   "cell_type": "markdown",
   "id": "e580b7f2",
   "metadata": {},
   "source": [
    "Now, there are going to be some of the raw columns that we want to add back to the engineered columns as they can be very important components to the company, so let's list these here.\n",
    "- Sector  \n",
    "- Exchange\n",
    "- Location  \n",
    "- Market Cap\n",
    "- Market Value\n",
    "\n",
    "So let's append those"
   ]
  },
  {
   "cell_type": "code",
   "execution_count": 23,
   "id": "30639f31",
   "metadata": {},
   "outputs": [
    {
     "name": "stdout",
     "output_type": "stream",
     "text": [
      "Engineered Columns after adding back important raw columns: 184\n"
     ]
    }
   ],
   "source": [
    "add_back = ['Sector','Exchange','Location','Market Value','Market Cap']\n",
    "engineered_columns = engineered_columns + add_back\n",
    "print(f'Engineered Columns after adding back important raw columns: {len(engineered_columns)}')"
   ]
  },
  {
   "cell_type": "markdown",
   "id": "3c098971",
   "metadata": {},
   "source": [
    "Alright, now we can build out all of our feature dataframes to test them all."
   ]
  },
  {
   "cell_type": "code",
   "execution_count": 25,
   "id": "89a507d4",
   "metadata": {},
   "outputs": [
    {
     "name": "stdout",
     "output_type": "stream",
     "text": [
      "Full Dataset Shape: (1905, 281)\n",
      "Raw Data Shape: (1905, 102)\n",
      "Engineered Data Shape: (1905, 184)\n"
     ]
    }
   ],
   "source": [
    "X_raw = complete_dataset[raw_columns]\n",
    "X_eng = complete_dataset[engineered_columns]\n",
    "X_tot = complete_dataset.copy()\n",
    "#X_kpi = place holder for the KPI data\n",
    "#X_pca = place holder for the PCA \n",
    "\n",
    "print(f'Full Dataset Shape: {X_tot.shape}')\n",
    "print(f'Raw Data Shape: {X_raw.shape}')\n",
    "print(f'Engineered Data Shape: {X_eng.shape}')\n",
    "#print(f'KPI Data shape: {X_kpi.shape}')\n",
    "#print(f'PCA reduced Data Shape: {X_pca}')\n"
   ]
  },
  {
   "cell_type": "markdown",
   "id": "246251c0",
   "metadata": {},
   "source": [
    "### Set up our dependent variables (y1 and y2)\n",
    "Now, Let's get our two different y variables that we want to compare to. y1 will be total Revenue, y2 will be net income."
   ]
  },
  {
   "cell_type": "code",
   "execution_count": null,
   "id": "f430f0fd",
   "metadata": {},
   "outputs": [
    {
     "name": "stdout",
     "output_type": "stream",
     "text": [
      "(1905,) (1905,)\n"
     ]
    }
   ],
   "source": [
    "# Let's pull out the data we want to predict\n",
    "y1_rev = y['Revenue_2025Q2']\n",
    "y2_ear = y['NetIncome_2025Q2']\n",
    "print(y1_rev.shape,y2_ear.shape)"
   ]
  },
  {
   "cell_type": "markdown",
   "id": "78784126",
   "metadata": {},
   "source": [
    "## Preprocessing\n",
    "Now that we have all of our data setup, we need to work on the preprocessing steps in order to have machine readable information being fed into our supervised model. We will use functions here so that we can easily apply it to any dataset that we desire."
   ]
  },
  {
   "cell_type": "code",
   "execution_count": null,
   "id": "87746896",
   "metadata": {},
   "outputs": [],
   "source": []
  }
 ],
 "metadata": {
  "kernelspec": {
   "display_name": "milestoneII",
   "language": "python",
   "name": "python3"
  },
  "language_info": {
   "codemirror_mode": {
    "name": "ipython",
    "version": 3
   },
   "file_extension": ".py",
   "mimetype": "text/x-python",
   "name": "python",
   "nbconvert_exporter": "python",
   "pygments_lexer": "ipython3",
   "version": "3.13.5"
  }
 },
 "nbformat": 4,
 "nbformat_minor": 5
}
