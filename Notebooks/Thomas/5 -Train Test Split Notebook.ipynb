{
 "cells": [
  {
   "cell_type": "markdown",
   "metadata": {
    "id": "_GCD2PbUjytC"
   },
   "source": [
    "# Train - Test - Split\n",
    "We are going to split the data into Training and Testing CSV's early to make sure that we have no data leakage. We are going to do this even before our imputation step because we don't want any of the information in the Test dataset being used to affect the training data set. This is going to be a quick notebook to run through the code necessary to create the train.csv and the test.csv files that we can further work with."
   ]
  },
  {
   "cell_type": "code",
   "execution_count": null,
   "metadata": {
    "id": "kSfk7hpkkQdv"
   },
   "outputs": [],
   "source": [
    "# File system libraries\n",
    "import os\n",
    "from google.colab import drive\n",
    "\n",
    "# Data Manipulation Libraries\n",
    "import numpy as np\n",
    "import pandas as pd\n",
    "\n",
    "# Stat Libraries\n",
    "import scipy.stats as stats\n",
    "\n",
    "# Machine Learning Libraries\n",
    "#import pycaret #Not working with this version of python\n",
    "from sklearn.model_selection import train_test_split\n",
    "\n",
    "# Visualization Libraries\n",
    "import matplotlib.pyplot as plt\n",
    "import seaborn as sns\n",
    "import altair as alt"
   ]
  },
  {
   "cell_type": "code",
   "execution_count": null,
   "metadata": {
    "id": "QyBZoFOtkXqv"
   },
   "outputs": [],
   "source": [
    "# show decimals without scientific notation\n",
    "pd.set_option('display.float_format', '{:,.2f}'.format)"
   ]
  },
  {
   "cell_type": "code",
   "execution_count": null,
   "metadata": {
    "colab": {
     "base_uri": "https://localhost:8080/"
    },
    "executionInfo": {
     "elapsed": 599,
     "status": "ok",
     "timestamp": 1758681266170,
     "user": {
      "displayName": "Thomas Macpherson",
      "userId": "08726222529195553341"
     },
     "user_tz": 360
    },
    "id": "rUTosc43kb5p",
    "outputId": "1f80dda3-ac61-455d-f027-61ad2001923b"
   },
   "outputs": [
    {
     "name": "stdout",
     "output_type": "stream",
     "text": [
      "Drive already mounted at /content/drive; to attempt to forcibly remount, call drive.mount(\"/content/drive\", force_remount=True).\n"
     ]
    },
    {
     "data": {
      "text/plain": [
       "['Russell_3000.csv',\n",
       " 'Makefile',\n",
       " 'make_KPIs.py',\n",
       " 'Russell_3000_Fundamentals.csv',\n",
       " 'Russell_3000_With_Macro.csv',\n",
       " 'Russell_3000_Cleaned.csv',\n",
       " 'data_acquisition.py',\n",
       " 'clean.py',\n",
       " 'data_acquisition_macro.py']"
      ]
     },
     "execution_count": 6,
     "metadata": {},
     "output_type": "execute_result"
    }
   ],
   "source": [
    "# Mount the google drive\n",
    "drive.mount('/content/drive')\n",
    "# Navigate to the folder and set the file name\n",
    "path = '/content/drive/MyDrive/Colab Notebooks/696 - Milestone II/696 - Milestone II - Shared/Pipeline Files'\n",
    "\n",
    "os.chdir(path)\n",
    "os.getcwd()\n",
    "os.listdir()"
   ]
  },
  {
   "cell_type": "code",
   "execution_count": null,
   "metadata": {
    "colab": {
     "base_uri": "https://localhost:8080/"
    },
    "executionInfo": {
     "elapsed": 379,
     "status": "ok",
     "timestamp": 1758682185715,
     "user": {
      "displayName": "Thomas Macpherson",
      "userId": "08726222529195553341"
     },
     "user_tz": 360
    },
    "id": "OuQiXsXxkqtv",
    "outputId": "15a6143c-1e42-4645-98e6-f31f43e232d4"
   },
   "outputs": [
    {
     "name": "stdout",
     "output_type": "stream",
     "text": [
      "(2570, 131)\n",
      "  Ticker                        Name                  Sector  Weight (%)  \\\n",
      "0   NVDA                 NVIDIA CORP  Information Technology        6.39   \n",
      "1   MSFT              MICROSOFT CORP  Information Technology        5.99   \n",
      "2   AAPL                   APPLE INC  Information Technology        5.62   \n",
      "3   AMZN              AMAZON COM INC  Consumer Discretionary        3.60   \n",
      "4   META  META PLATFORMS INC CLASS A           Communication        2.60   \n",
      "\n",
      "   CapitalExpenditure_2024Q2  CapitalExpenditure_2024Q3  \\\n",
      "0                        NaN            -977,000,000.00   \n",
      "1         -13,873,000,000.00         -14,923,000,000.00   \n",
      "2          -2,151,000,000.00          -2,908,000,000.00   \n",
      "3         -17,620,000,000.00         -22,620,000,000.00   \n",
      "4          -8,173,000,000.00          -8,258,000,000.00   \n",
      "\n",
      "   CapitalExpenditure_2024Q4  CapitalExpenditure_2025Q1  \\\n",
      "0            -813,000,000.00          -1,077,000,000.00   \n",
      "1         -15,804,000,000.00         -16,745,000,000.00   \n",
      "2          -2,940,000,000.00          -3,071,000,000.00   \n",
      "3         -27,834,000,000.00         -25,019,000,000.00   \n",
      "4         -14,425,000,000.00         -12,941,000,000.00   \n",
      "\n",
      "   CapitalExpenditure_2025Q2  CashAndSTInvestments_2024Q2  ...  \\\n",
      "0          -1,227,000,000.00                          NaN  ...   \n",
      "1         -17,079,000,000.00            18,315,000,000.00  ...   \n",
      "2          -3,462,000,000.00            25,565,000,000.00  ...   \n",
      "3         -32,183,000,000.00            71,178,000,000.00  ...   \n",
      "4         -16,538,000,000.00            32,045,000,000.00  ...   \n",
      "\n",
      "   IndustrialProd_2024Q2  IndustrialProd_2024Q3  IndustrialProd_2024Q4  \\\n",
      "0                 102.86                 102.71                 102.40   \n",
      "1                 102.86                 102.71                 102.40   \n",
      "2                 102.86                 102.71                 102.40   \n",
      "3                 102.86                 102.71                 102.40   \n",
      "4                 102.86                 102.71                 102.40   \n",
      "\n",
      "   IndustrialProd_2025Q1  Inflation_2024Q1  Inflation_2024Q2  \\\n",
      "0                 103.43            310.97            313.10   \n",
      "1                 103.43            310.97            313.10   \n",
      "2                 103.43            310.97            313.10   \n",
      "3                 103.43            310.97            313.10   \n",
      "4                 103.43            310.97            313.10   \n",
      "\n",
      "   Inflation_2024Q3  Inflation_2024Q4  Inflation_2025Q1  Market Cap  \n",
      "0            314.18            316.54            319.49    Mega-Cap  \n",
      "1            314.18            316.54            319.49    Mega-Cap  \n",
      "2            314.18            316.54            319.49    Mega-Cap  \n",
      "3            314.18            316.54            319.49    Mega-Cap  \n",
      "4            314.18            316.54            319.49    Mega-Cap  \n",
      "\n",
      "[5 rows x 131 columns]\n"
     ]
    }
   ],
   "source": [
    "filename = 'Russell_3000_Cleaned.csv'\n",
    "dataset = pd.read_csv(filename)\n",
    "print(dataset.shape)\n",
    "print(dataset.head())"
   ]
  },
  {
   "cell_type": "markdown",
   "metadata": {
    "id": "eE-fSvnzkxUk"
   },
   "source": [
    "Alright, now that we have the data imported properly. We are going to split this into two files. A train file that has both the independent (X) variables and the dependent (y) variables we are trying to predict. We will have the same for the test file. We will then need to merge (X)(y) back together before saving them into their independent files. The first thing we are going to need to do is seperate the (X) columns from the (y) columns. So let's work on that to start."
   ]
  },
  {
   "cell_type": "code",
   "execution_count": null,
   "metadata": {
    "colab": {
     "base_uri": "https://localhost:8080/"
    },
    "executionInfo": {
     "elapsed": 8,
     "status": "ok",
     "timestamp": 1758681965851,
     "user": {
      "displayName": "Thomas Macpherson",
      "userId": "08726222529195553341"
     },
     "user_tz": 360
    },
    "id": "eMUB0Eg0latD",
    "outputId": "8083c964-2992-45b8-8ece-bc38b3bcc03c"
   },
   "outputs": [
    {
     "name": "stdout",
     "output_type": "stream",
     "text": [
      "Ticker\n",
      "Name\n",
      "Sector\n",
      "Weight (%)\n",
      "CapitalExpenditure_2024Q2\n",
      "CapitalExpenditure_2024Q3\n",
      "CapitalExpenditure_2024Q4\n",
      "CapitalExpenditure_2025Q1\n",
      "CashAndSTInvestments_2024Q2\n",
      "CashAndSTInvestments_2024Q3\n",
      "CashAndSTInvestments_2024Q4\n",
      "CashAndSTInvestments_2025Q1\n",
      "CashFromOps_2024Q2\n",
      "CashFromOps_2024Q3\n",
      "CashFromOps_2024Q4\n",
      "CashFromOps_2025Q1\n",
      "CostOfRevenue_2024Q2\n",
      "CostOfRevenue_2024Q3\n",
      "CostOfRevenue_2024Q4\n",
      "CostOfRevenue_2025Q1\n",
      "CurrentAssets_2024Q2\n",
      "CurrentAssets_2024Q3\n",
      "CurrentAssets_2024Q4\n",
      "CurrentAssets_2025Q1\n",
      "CurrentLiabilities_2024Q2\n",
      "CurrentLiabilities_2024Q3\n",
      "CurrentLiabilities_2024Q4\n",
      "CurrentLiabilities_2025Q1\n",
      "EPS_2024Q2\n",
      "EPS_2024Q3\n",
      "EPS_2024Q4\n",
      "EPS_2025Q1\n",
      "Exchange\n",
      "IncomeTaxExpense_2024Q2\n",
      "IncomeTaxExpense_2024Q3\n",
      "IncomeTaxExpense_2024Q4\n",
      "IncomeTaxExpense_2025Q1\n",
      "InterestExpense_2024Q2\n",
      "InterestExpense_2024Q3\n",
      "InterestExpense_2024Q4\n",
      "InterestExpense_2025Q1\n",
      "Location\n",
      "LongTermDebt_2024Q2\n",
      "LongTermDebt_2024Q3\n",
      "LongTermDebt_2024Q4\n",
      "LongTermDebt_2025Q1\n",
      "Market Value\n",
      "NetIncome_2024Q2\n",
      "NetIncome_2024Q3\n",
      "NetIncome_2024Q4\n",
      "NetIncome_2025Q1\n",
      "Notional Value\n",
      "OperatingIncome_2024Q2\n",
      "OperatingIncome_2024Q3\n",
      "OperatingIncome_2024Q4\n",
      "OperatingIncome_2025Q1\n",
      "OtherOperatingExpense_2024Q2\n",
      "OtherOperatingExpense_2024Q3\n",
      "OtherOperatingExpense_2024Q4\n",
      "OtherOperatingExpense_2025Q1\n",
      "Price\n",
      "Quantity\n",
      "Revenue_2024Q2\n",
      "Revenue_2024Q3\n",
      "Revenue_2024Q4\n",
      "Revenue_2025Q1\n",
      "TotalAssets_2024Q2\n",
      "TotalAssets_2024Q3\n",
      "TotalAssets_2024Q4\n",
      "TotalAssets_2025Q1\n",
      "TotalDebt_2024Q2\n",
      "TotalDebt_2024Q3\n",
      "TotalDebt_2024Q4\n",
      "TotalDebt_2025Q1\n",
      "TotalEquity_2024Q2\n",
      "TotalEquity_2024Q3\n",
      "TotalEquity_2024Q4\n",
      "TotalEquity_2025Q1\n",
      "TotalLiabilities_2024Q2\n",
      "TotalLiabilities_2024Q3\n",
      "TotalLiabilities_2024Q4\n",
      "TotalLiabilities_2025Q1\n",
      "GDP_2024Q1\n",
      "GDP_2024Q2\n",
      "GDP_2024Q3\n",
      "GDP_2024Q4\n",
      "GDP_2025Q1\n",
      "GDPReal_2024Q1\n",
      "GDPReal_2024Q2\n",
      "GDPReal_2024Q3\n",
      "GDPReal_2024Q4\n",
      "GDPReal_2025Q1\n",
      "Unemployment_2024Q1\n",
      "Unemployment_2024Q2\n",
      "Unemployment_2024Q3\n",
      "Unemployment_2024Q4\n",
      "Unemployment_2025Q1\n",
      "InterestRate_2024Q1\n",
      "InterestRate_2024Q2\n",
      "InterestRate_2024Q3\n",
      "InterestRate_2024Q4\n",
      "InterestRate_2025Q1\n",
      "IndustrialProd_2024Q1\n",
      "IndustrialProd_2024Q2\n",
      "IndustrialProd_2024Q3\n",
      "IndustrialProd_2024Q4\n",
      "IndustrialProd_2025Q1\n",
      "Inflation_2024Q1\n",
      "Inflation_2024Q2\n",
      "Inflation_2024Q3\n",
      "Inflation_2024Q4\n",
      "Inflation_2025Q1\n",
      "Market Cap\n"
     ]
    }
   ],
   "source": [
    "y_columns = []\n",
    "X_columns = []\n",
    "columns = dataset.columns\n",
    "for column in columns:\n",
    "    if '_2025Q2' in column:\n",
    "        y_columns.append(column)\n",
    "    else:\n",
    "        X_columns.append(column)\n",
    "# Quick sanity check\n",
    "for column in X_columns:\n",
    "    print(column)"
   ]
  },
  {
   "cell_type": "markdown",
   "metadata": {
    "id": "00gGhAMGnzYz"
   },
   "source": [
    "Alright, now that we have the columns we can start splitting the data based on both the sector and market cap. Let's start by creating the combined column."
   ]
  },
  {
   "cell_type": "code",
   "execution_count": null,
   "metadata": {
    "colab": {
     "base_uri": "https://localhost:8080/",
     "height": 1000
    },
    "executionInfo": {
     "elapsed": 25,
     "status": "ok",
     "timestamp": 1758682513167,
     "user": {
      "displayName": "Thomas Macpherson",
      "userId": "08726222529195553341"
     },
     "user_tz": 360
    },
    "id": "fG32oM0IoRsZ",
    "outputId": "a0fea4f2-9819-4787-9f54-e4e35eec4383"
   },
   "outputs": [
    {
     "data": {
      "text/html": [
       "<div>\n",
       "<style scoped>\n",
       "    .dataframe tbody tr th:only-of-type {\n",
       "        vertical-align: middle;\n",
       "    }\n",
       "\n",
       "    .dataframe tbody tr th {\n",
       "        vertical-align: top;\n",
       "    }\n",
       "\n",
       "    .dataframe thead th {\n",
       "        text-align: right;\n",
       "    }\n",
       "</style>\n",
       "<table border=\"1\" class=\"dataframe\">\n",
       "  <thead>\n",
       "    <tr style=\"text-align: right;\">\n",
       "      <th></th>\n",
       "      <th>count</th>\n",
       "    </tr>\n",
       "  </thead>\n",
       "  <tbody>\n",
       "    <tr>\n",
       "      <th>Financials | Small-Cap</th>\n",
       "      <td>198</td>\n",
       "    </tr>\n",
       "    <tr>\n",
       "      <th>Industrials | Small-Cap</th>\n",
       "      <td>166</td>\n",
       "    </tr>\n",
       "    <tr>\n",
       "      <th>Health Care | Small-Cap</th>\n",
       "      <td>154</td>\n",
       "    </tr>\n",
       "    <tr>\n",
       "      <th>Financials | Micro-Cap</th>\n",
       "      <td>146</td>\n",
       "    </tr>\n",
       "    <tr>\n",
       "      <th>Health Care | Micro-Cap</th>\n",
       "      <td>146</td>\n",
       "    </tr>\n",
       "    <tr>\n",
       "      <th>Information Technology | Small-Cap</th>\n",
       "      <td>145</td>\n",
       "    </tr>\n",
       "    <tr>\n",
       "      <th>Consumer Discretionary | Small-Cap</th>\n",
       "      <td>137</td>\n",
       "    </tr>\n",
       "    <tr>\n",
       "      <th>Industrials | Mid-Cap</th>\n",
       "      <td>93</td>\n",
       "    </tr>\n",
       "    <tr>\n",
       "      <th>Industrials | Micro-Cap</th>\n",
       "      <td>77</td>\n",
       "    </tr>\n",
       "    <tr>\n",
       "      <th>Financials | Mid-Cap</th>\n",
       "      <td>75</td>\n",
       "    </tr>\n",
       "    <tr>\n",
       "      <th>Real Estate | Small-Cap</th>\n",
       "      <td>73</td>\n",
       "    </tr>\n",
       "    <tr>\n",
       "      <th>Consumer Discretionary | Micro-Cap</th>\n",
       "      <td>71</td>\n",
       "    </tr>\n",
       "    <tr>\n",
       "      <th>Information Technology | Micro-Cap</th>\n",
       "      <td>65</td>\n",
       "    </tr>\n",
       "    <tr>\n",
       "      <th>Information Technology | Mid-Cap</th>\n",
       "      <td>62</td>\n",
       "    </tr>\n",
       "    <tr>\n",
       "      <th>Consumer Discretionary | Mid-Cap</th>\n",
       "      <td>54</td>\n",
       "    </tr>\n",
       "    <tr>\n",
       "      <th>Health Care | Mid-Cap</th>\n",
       "      <td>53</td>\n",
       "    </tr>\n",
       "    <tr>\n",
       "      <th>Materials | Small-Cap</th>\n",
       "      <td>49</td>\n",
       "    </tr>\n",
       "    <tr>\n",
       "      <th>Energy | Small-Cap</th>\n",
       "      <td>48</td>\n",
       "    </tr>\n",
       "    <tr>\n",
       "      <th>Industrials | Large-Cap</th>\n",
       "      <td>46</td>\n",
       "    </tr>\n",
       "    <tr>\n",
       "      <th>Communication | Micro-Cap</th>\n",
       "      <td>45</td>\n",
       "    </tr>\n",
       "    <tr>\n",
       "      <th>Financials | Large-Cap</th>\n",
       "      <td>43</td>\n",
       "    </tr>\n",
       "    <tr>\n",
       "      <th>Consumer Staples | Small-Cap</th>\n",
       "      <td>42</td>\n",
       "    </tr>\n",
       "    <tr>\n",
       "      <th>Communication | Small-Cap</th>\n",
       "      <td>38</td>\n",
       "    </tr>\n",
       "    <tr>\n",
       "      <th>Information Technology | Large-Cap</th>\n",
       "      <td>38</td>\n",
       "    </tr>\n",
       "    <tr>\n",
       "      <th>Real Estate | Micro-Cap</th>\n",
       "      <td>37</td>\n",
       "    </tr>\n",
       "    <tr>\n",
       "      <th>Real Estate | Mid-Cap</th>\n",
       "      <td>36</td>\n",
       "    </tr>\n",
       "    <tr>\n",
       "      <th>Energy | Micro-Cap</th>\n",
       "      <td>33</td>\n",
       "    </tr>\n",
       "    <tr>\n",
       "      <th>Health Care | Large-Cap</th>\n",
       "      <td>31</td>\n",
       "    </tr>\n",
       "    <tr>\n",
       "      <th>Health Care | Nano-Cap</th>\n",
       "      <td>30</td>\n",
       "    </tr>\n",
       "    <tr>\n",
       "      <th>Materials | Mid-Cap</th>\n",
       "      <td>30</td>\n",
       "    </tr>\n",
       "    <tr>\n",
       "      <th>Utilities | Small-Cap</th>\n",
       "      <td>27</td>\n",
       "    </tr>\n",
       "    <tr>\n",
       "      <th>Consumer Staples | Mid-Cap</th>\n",
       "      <td>27</td>\n",
       "    </tr>\n",
       "    <tr>\n",
       "      <th>Consumer Discretionary | Large-Cap</th>\n",
       "      <td>24</td>\n",
       "    </tr>\n",
       "    <tr>\n",
       "      <th>Utilities | Mid-Cap</th>\n",
       "      <td>23</td>\n",
       "    </tr>\n",
       "    <tr>\n",
       "      <th>Materials | Micro-Cap</th>\n",
       "      <td>22</td>\n",
       "    </tr>\n",
       "    <tr>\n",
       "      <th>Consumer Staples | Micro-Cap</th>\n",
       "      <td>21</td>\n",
       "    </tr>\n",
       "    <tr>\n",
       "      <th>Communication | Mid-Cap</th>\n",
       "      <td>17</td>\n",
       "    </tr>\n",
       "    <tr>\n",
       "      <th>Energy | Mid-Cap</th>\n",
       "      <td>17</td>\n",
       "    </tr>\n",
       "    <tr>\n",
       "      <th>Consumer Staples | Large-Cap</th>\n",
       "      <td>16</td>\n",
       "    </tr>\n",
       "    <tr>\n",
       "      <th>Energy | Large-Cap</th>\n",
       "      <td>13</td>\n",
       "    </tr>\n",
       "    <tr>\n",
       "      <th>Utilities | Large-Cap</th>\n",
       "      <td>12</td>\n",
       "    </tr>\n",
       "    <tr>\n",
       "      <th>Communication | Large-Cap</th>\n",
       "      <td>10</td>\n",
       "    </tr>\n",
       "    <tr>\n",
       "      <th>Real Estate | Large-Cap</th>\n",
       "      <td>10</td>\n",
       "    </tr>\n",
       "    <tr>\n",
       "      <th>Materials | Large-Cap</th>\n",
       "      <td>9</td>\n",
       "    </tr>\n",
       "    <tr>\n",
       "      <th>Communication | Nano-Cap</th>\n",
       "      <td>8</td>\n",
       "    </tr>\n",
       "    <tr>\n",
       "      <th>Industrials | Nano-Cap</th>\n",
       "      <td>7</td>\n",
       "    </tr>\n",
       "    <tr>\n",
       "      <th>Utilities | Micro-Cap</th>\n",
       "      <td>6</td>\n",
       "    </tr>\n",
       "    <tr>\n",
       "      <th>Information Technology | Nano-Cap</th>\n",
       "      <td>6</td>\n",
       "    </tr>\n",
       "    <tr>\n",
       "      <th>Consumer Staples | Nano-Cap</th>\n",
       "      <td>6</td>\n",
       "    </tr>\n",
       "    <tr>\n",
       "      <th>Financials | Nano-Cap</th>\n",
       "      <td>5</td>\n",
       "    </tr>\n",
       "    <tr>\n",
       "      <th>Information Technology | Mega-Cap</th>\n",
       "      <td>4</td>\n",
       "    </tr>\n",
       "    <tr>\n",
       "      <th>Consumer Discretionary | Nano-Cap</th>\n",
       "      <td>4</td>\n",
       "    </tr>\n",
       "    <tr>\n",
       "      <th>Energy | Nano-Cap</th>\n",
       "      <td>4</td>\n",
       "    </tr>\n",
       "    <tr>\n",
       "      <th>Communication | Mega-Cap</th>\n",
       "      <td>3</td>\n",
       "    </tr>\n",
       "    <tr>\n",
       "      <th>Financials | Mega-Cap</th>\n",
       "      <td>2</td>\n",
       "    </tr>\n",
       "    <tr>\n",
       "      <th>Consumer Discretionary | Mega-Cap</th>\n",
       "      <td>2</td>\n",
       "    </tr>\n",
       "    <tr>\n",
       "      <th>Materials | Nano-Cap</th>\n",
       "      <td>2</td>\n",
       "    </tr>\n",
       "    <tr>\n",
       "      <th>Real Estate | Nano-Cap</th>\n",
       "      <td>1</td>\n",
       "    </tr>\n",
       "    <tr>\n",
       "      <th>Utilities | Nano-Cap</th>\n",
       "      <td>1</td>\n",
       "    </tr>\n",
       "  </tbody>\n",
       "</table>\n",
       "</div><br><label><b>dtype:</b> int64</label>"
      ],
      "text/plain": [
       "Financials | Small-Cap                198\n",
       "Industrials | Small-Cap               166\n",
       "Health Care | Small-Cap               154\n",
       "Financials | Micro-Cap                146\n",
       "Health Care | Micro-Cap               146\n",
       "Information Technology | Small-Cap    145\n",
       "Consumer Discretionary | Small-Cap    137\n",
       "Industrials | Mid-Cap                  93\n",
       "Industrials | Micro-Cap                77\n",
       "Financials | Mid-Cap                   75\n",
       "Real Estate | Small-Cap                73\n",
       "Consumer Discretionary | Micro-Cap     71\n",
       "Information Technology | Micro-Cap     65\n",
       "Information Technology | Mid-Cap       62\n",
       "Consumer Discretionary | Mid-Cap       54\n",
       "Health Care | Mid-Cap                  53\n",
       "Materials | Small-Cap                  49\n",
       "Energy | Small-Cap                     48\n",
       "Industrials | Large-Cap                46\n",
       "Communication | Micro-Cap              45\n",
       "Financials | Large-Cap                 43\n",
       "Consumer Staples | Small-Cap           42\n",
       "Communication | Small-Cap              38\n",
       "Information Technology | Large-Cap     38\n",
       "Real Estate | Micro-Cap                37\n",
       "Real Estate | Mid-Cap                  36\n",
       "Energy | Micro-Cap                     33\n",
       "Health Care | Large-Cap                31\n",
       "Health Care | Nano-Cap                 30\n",
       "Materials | Mid-Cap                    30\n",
       "Utilities | Small-Cap                  27\n",
       "Consumer Staples | Mid-Cap             27\n",
       "Consumer Discretionary | Large-Cap     24\n",
       "Utilities | Mid-Cap                    23\n",
       "Materials | Micro-Cap                  22\n",
       "Consumer Staples | Micro-Cap           21\n",
       "Communication | Mid-Cap                17\n",
       "Energy | Mid-Cap                       17\n",
       "Consumer Staples | Large-Cap           16\n",
       "Energy | Large-Cap                     13\n",
       "Utilities | Large-Cap                  12\n",
       "Communication | Large-Cap              10\n",
       "Real Estate | Large-Cap                10\n",
       "Materials | Large-Cap                   9\n",
       "Communication | Nano-Cap                8\n",
       "Industrials | Nano-Cap                  7\n",
       "Utilities | Micro-Cap                   6\n",
       "Information Technology | Nano-Cap       6\n",
       "Consumer Staples | Nano-Cap             6\n",
       "Financials | Nano-Cap                   5\n",
       "Information Technology | Mega-Cap       4\n",
       "Consumer Discretionary | Nano-Cap       4\n",
       "Energy | Nano-Cap                       4\n",
       "Communication | Mega-Cap                3\n",
       "Financials | Mega-Cap                   2\n",
       "Consumer Discretionary | Mega-Cap       2\n",
       "Materials | Nano-Cap                    2\n",
       "Real Estate | Nano-Cap                  1\n",
       "Utilities | Nano-Cap                    1\n",
       "Name: count, dtype: int64"
      ]
     },
     "execution_count": 16,
     "metadata": {},
     "output_type": "execute_result"
    }
   ],
   "source": [
    "# Create the startum\n",
    "strat = (dataset['Sector'].astype(str) + ' | ' + dataset['Market Cap'].astype(str))\n",
    "\n",
    "# We need to drop anything that is too small\n",
    "val_cou = strat.value_counts()\n",
    "val_cou"
   ]
  },
  {
   "cell_type": "code",
   "execution_count": null,
   "metadata": {
    "id": "578Er4Vvorg3"
   },
   "outputs": [],
   "source": [
    "# Based on this I would say we need at least 4 to stratify\n",
    "to_strat = strat.isin(val_cou[val_cou >= 2].index)\n",
    "# Now, let's pull out those\n",
    "dataset, strat = dataset.loc[to_strat],strat.loc[to_strat]\n",
    "\n",
    "X = dataset[X_columns]\n",
    "y = dataset[y_columns]\n",
    "\n",
    "X_tr, X_te, y_tr, y_te, strat_tr, strat_te = train_test_split(X, y, strat, test_size = 0.2, random_state = 6, stratify = strat)\n"
   ]
  },
  {
   "cell_type": "markdown",
   "metadata": {
    "id": "gFQ6yPewqV0e"
   },
   "source": [
    "Okay, so that should have stratified everything but let's do a quick test to see if we have balance."
   ]
  },
  {
   "cell_type": "code",
   "execution_count": null,
   "metadata": {
    "colab": {
     "base_uri": "https://localhost:8080/"
    },
    "executionInfo": {
     "elapsed": 54,
     "status": "ok",
     "timestamp": 1758682850058,
     "user": {
      "displayName": "Thomas Macpherson",
      "userId": "08726222529195553341"
     },
     "user_tz": 360
    },
    "id": "W-luPGWpqaqD",
    "outputId": "e74687f6-e46e-4903-c412-da70d16b6665"
   },
   "outputs": [
    {
     "name": "stdout",
     "output_type": "stream",
     "text": [
      "Market Cap              Large-Cap  Mega-Cap  Micro-Cap  Mid-Cap  Nano-Cap  \\\n",
      "Sector                                                                      \n",
      "Communication                0.00      0.00       0.02     0.01      0.00   \n",
      "Consumer Discretionary       0.01      0.00       0.03     0.02      0.00   \n",
      "Consumer Staples             0.01      0.00       0.01     0.01      0.00   \n",
      "Energy                       0.01      0.00       0.01     0.01      0.00   \n",
      "Financials                   0.02      0.00       0.06     0.03      0.00   \n",
      "Health Care                  0.01      0.00       0.06     0.02      0.01   \n",
      "Industrials                  0.02      0.00       0.03     0.04      0.00   \n",
      "Information Technology       0.01      0.00       0.03     0.02      0.00   \n",
      "Materials                    0.00      0.00       0.01     0.01      0.00   \n",
      "Real Estate                  0.00      0.00       0.01     0.01      0.00   \n",
      "Utilities                    0.01      0.00       0.00     0.01      0.00   \n",
      "\n",
      "Market Cap              Small-Cap  \n",
      "Sector                             \n",
      "Communication                0.01  \n",
      "Consumer Discretionary       0.05  \n",
      "Consumer Staples             0.02  \n",
      "Energy                       0.02  \n",
      "Financials                   0.08  \n",
      "Health Care                  0.06  \n",
      "Industrials                  0.07  \n",
      "Information Technology       0.06  \n",
      "Materials                    0.02  \n",
      "Real Estate                  0.03  \n",
      "Utilities                    0.01  \n",
      "Market Cap              Large-Cap  Mega-Cap  Micro-Cap  Mid-Cap  Nano-Cap  \\\n",
      "Sector                                                                      \n",
      "Communication                0.00      0.00       0.02     0.01      0.00   \n",
      "Consumer Discretionary       0.01      0.00       0.03     0.02      0.00   \n",
      "Consumer Staples             0.01      0.00       0.01     0.01      0.00   \n",
      "Energy                       0.01      0.00       0.01     0.01      0.00   \n",
      "Financials                   0.02      0.00       0.06     0.03      0.00   \n",
      "Health Care                  0.01      0.00       0.06     0.02      0.01   \n",
      "Industrials                  0.02      0.00       0.03     0.04      0.00   \n",
      "Information Technology       0.02      0.00       0.03     0.02      0.00   \n",
      "Materials                    0.00      0.00       0.01     0.01      0.00   \n",
      "Real Estate                  0.00      0.00       0.01     0.01      0.00   \n",
      "Utilities                    0.00      0.00       0.00     0.01      0.00   \n",
      "\n",
      "Market Cap              Small-Cap  \n",
      "Sector                             \n",
      "Communication                0.02  \n",
      "Consumer Discretionary       0.05  \n",
      "Consumer Staples             0.02  \n",
      "Energy                       0.02  \n",
      "Financials                   0.08  \n",
      "Health Care                  0.06  \n",
      "Industrials                  0.06  \n",
      "Information Technology       0.06  \n",
      "Materials                    0.02  \n",
      "Real Estate                  0.03  \n",
      "Utilities                    0.01  \n"
     ]
    }
   ],
   "source": [
    "# Training Set\n",
    "print(pd.crosstab(dataset['Sector'].loc[strat_tr.index],\n",
    "                  dataset['Market Cap'].loc[strat_tr.index], normalize=\"all\").round(3))\n",
    "# Testing Set\n",
    "print(pd.crosstab(dataset['Sector'].loc[strat_te.index],\n",
    "                  dataset['Market Cap'].loc[strat_te.index], normalize=\"all\").round(3))"
   ]
  },
  {
   "cell_type": "markdown",
   "metadata": {
    "id": "X0GK_btTq-0t"
   },
   "source": [
    "That looks pretty darn good in terms of the stratification. Now we can just export them to their own CSV files."
   ]
  },
  {
   "cell_type": "code",
   "execution_count": null,
   "metadata": {
    "id": "nf-iae9zrgkO"
   },
   "outputs": [],
   "source": [
    "# If we want to export to four different files, we can do that.\n",
    "#X_tr.to_csv(\"X_train.csv\", index=True)\n",
    "#y_tr.to_csv(\"y_train.csv\", index=True)\n",
    "#X_te.to_csv(\"X_test.csv\",  index=True)\n",
    "#y_te.to_csv(\"y_test.csv\",  index=True)"
   ]
  },
  {
   "cell_type": "code",
   "execution_count": null,
   "metadata": {
    "id": "j71pOtOerpjb"
   },
   "outputs": [],
   "source": [
    "# Or, if we want to merge them back together before saving, we can do that too.\n",
    "train = pd.concat([X_tr,y_tr],axis = 1)\n",
    "test = pd.concat([X_te,y_te],axis = 1)\n",
    "\n",
    "train.to_csv('train.csv', index = True)\n",
    "test.to_csv('test.csv',index = True)"
   ]
  },
  {
   "cell_type": "markdown",
   "metadata": {
    "id": "qqnYjpX81PyP"
   },
   "source": [
    "Now that we have updated the pipeline and run the script, lets take a look at the shape of all of our files to make sure they are what we expect."
   ]
  },
  {
   "cell_type": "code",
   "execution_count": 22,
   "metadata": {
    "colab": {
     "base_uri": "https://localhost:8080/"
    },
    "executionInfo": {
     "elapsed": 1441,
     "status": "ok",
     "timestamp": 1758685678065,
     "user": {
      "displayName": "Thomas Macpherson",
      "userId": "08726222529195553341"
     },
     "user_tz": 360
    },
    "id": "vkq3os7W1XfX",
    "outputId": "b7c7edfd-9634-47d6-9cc9-8615fa439de7"
   },
   "outputs": [
    {
     "name": "stdout",
     "output_type": "stream",
     "text": [
      "(2054, 114)\n",
      "(2054, 19)\n",
      "(514, 114)\n",
      "(514, 19)\n"
     ]
    }
   ],
   "source": [
    "X_train = pd.read_csv('X_train.csv')\n",
    "y_train = pd.read_csv('y_train.csv')\n",
    "X_test = pd.read_csv('X_test.csv')\n",
    "y_test = pd.read_csv('y_test.csv')\n",
    "\n",
    "print(X_train.shape)\n",
    "print(y_train.shape)\n",
    "print(X_test.shape)\n",
    "print(y_test.shape)"
   ]
  },
  {
   "cell_type": "markdown",
   "metadata": {
    "id": "llK8Z6x21mqT"
   },
   "source": [
    "Looks good to me, I don't want to investigate further because I don't want to destroy the integrity of the test split."
   ]
  }
 ],
 "metadata": {
  "colab": {
   "authorship_tag": "ABX9TyOV0v0+JJPS+SLyCL4q7tuy",
   "provenance": []
  },
  "kernelspec": {
   "display_name": "Python 3",
   "name": "python3"
  },
  "language_info": {
   "name": "python"
  }
 },
 "nbformat": 4,
 "nbformat_minor": 0
}
