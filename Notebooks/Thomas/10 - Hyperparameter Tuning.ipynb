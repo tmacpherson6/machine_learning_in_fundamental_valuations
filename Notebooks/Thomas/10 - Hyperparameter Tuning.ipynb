{
 "cells": [
  {
   "cell_type": "markdown",
   "id": "d8bb4794",
   "metadata": {},
   "source": [
    "#  Hyperparameter Tunning of Gradient Boosted Tree Model\n",
    "Based on our initial assessment of model families, it appears as though the ensemble techinques of decisions trees tends to significantly outperform all other models. In this section I am going to dive deeper into two of the ensemble techniques. Random Forest and Gradient Boosted Trees. We are going to use this notebook to accomplish multiple tasks."
   ]
  },
  {
   "cell_type": "markdown",
   "id": "71b6e57a",
   "metadata": {},
   "source": [
    "## Tasks\n",
    "1) Hyperparameter test using Grid Search Cross Validation to try and get better performance out of these ensemble techniques. (It could be that the baseline hyperparameters are already optimized but we will confirm this)\n",
    "2) Perform feature importance analysis using the decision tree (Mean-Decrease Impurity) to potentially improve our model\n",
    "3) Perform Ablation analysis to show decrease in performance when removing specific features  \n",
    "4) Conduct a failure analysis as to why certain companies perform poorly in our model (hypothesis are welcome)"
   ]
  },
  {
   "cell_type": "markdown",
   "id": "2ea9bfa3",
   "metadata": {},
   "source": [
    "## Import Libraries\n",
    "Let's start as we usually do by importing the libraries we will be using in this section."
   ]
  },
  {
   "cell_type": "code",
   "execution_count": null,
   "id": "0f1c0170",
   "metadata": {},
   "outputs": [],
   "source": [
    "# Data Manipulation libraries\n",
    "import numpy as np\n",
    "import pandas as pd\n",
    "\n",
    "# Sci-Kit Learn Processing and Evaluating\n",
    "from sklearn.compose import ColumnTransformer, TransformedTargetRegressor\n",
    "from sklearn.model_selection import GridSearchCV, KFold, cross_validate\n",
    "from sklearn.pipeline import Pipeline\n",
    "from sklearn.preprocessing import OneHotEncoder\n",
    "from sklearn.metrics import mean_squared_error, mean_absolute_error, make_scorer, r2_score\n",
    "\n",
    "# Supervised Learning Models  \n",
    "from sklearn.dummy import DummyRegressor\n",
    "from sklearn.ensemble import RandomForestRegressor  \n",
    "from sklearn.ensemble import GradientBoostingRegressor\n",
    "\n",
    "\n",
    "# Visualization libraries\n",
    "import matplotlib.pyplot as plt\n",
    "import seaborn as sns\n",
    "import altair as alt\n",
    "\n",
    "# Let's set our Random State and k_folds here as well\n",
    "random_state = 42\n",
    "k_fold = 10"
   ]
  },
  {
   "cell_type": "markdown",
   "id": "17d5865a",
   "metadata": {},
   "source": [
    "## Import Data\n",
    "Okay, now that we are working on our true model we are going to import training and test data so that we can see how we do."
   ]
  },
  {
   "cell_type": "code",
   "execution_count": 2,
   "id": "b9c82c7e",
   "metadata": {},
   "outputs": [
    {
     "name": "stdout",
     "output_type": "stream",
     "text": [
      "(1910, 326) (1974, 19) (479, 326) (494, 19)\n"
     ]
    }
   ],
   "source": [
    "root_path = '../../datasets/'\n",
    "X_train_file = 'X_train_filled_KPIs_QoQ_PCA.csv'\n",
    "y_train_file = 'y_train.csv'\n",
    "X_test_file = 'X_test_filled_KPIs_QoQ_PCA.csv'\n",
    "y_test_file = 'y_test.csv'\n",
    "X_tr = pd.read_csv(root_path+X_train_file)\n",
    "y_tr = pd.read_csv(root_path+y_train_file)\n",
    "X_te = pd.read_csv(root_path+X_test_file)\n",
    "y_te = pd.read_csv(root_path+y_test_file)\n",
    "print(X_tr.shape, y_tr.shape,X_te.shape,y_te.shape)\n"
   ]
  },
  {
   "cell_type": "markdown",
   "id": "26f3ee7d",
   "metadata": {},
   "source": [
    "Once, again, we are dealing with these issues of abnormal numbers between the two datasets because we dropped data from the X_train and X_test file without addressing them in the y_files. So, let's go through and qualize both of these like we did in the previous notebooks."
   ]
  },
  {
   "cell_type": "code",
   "execution_count": 3,
   "id": "56b342c8",
   "metadata": {},
   "outputs": [
    {
     "name": "stdout",
     "output_type": "stream",
     "text": [
      "length of in_train set: 1910; length of in_test set: 479\n",
      "(1910, 19) (479, 19)\n"
     ]
    }
   ],
   "source": [
    "in_train = set(X_tr['Ticker'])\n",
    "in_test = set(X_te['Ticker'])\n",
    "y_tr = y_tr[y_tr['Ticker'].isin(in_train)].copy()\n",
    "y_te = y_te[y_te['Ticker'].isin(in_test)].copy()\n",
    "print(f\"length of in_train set: {len(in_train)}; length of in_test set: {len(in_test)}\")\n",
    "print(y_tr.shape,y_te.shape)"
   ]
  },
  {
   "cell_type": "code",
   "execution_count": 4,
   "id": "f5240df1",
   "metadata": {},
   "outputs": [
    {
     "name": "stdout",
     "output_type": "stream",
     "text": [
      "(1910, 3) (479, 3)\n",
      "(1388, 3) (344, 3)\n",
      "(1388, 326) (344, 326)\n",
      "(1388, 3) (344, 3)\n"
     ]
    }
   ],
   "source": [
    "y_tr = y_tr[['Ticker','Revenue_2025Q2','NetIncome_2025Q2']]\n",
    "y_te = y_te[['Ticker','Revenue_2025Q2','NetIncome_2025Q2']]\n",
    "print(y_tr.shape,y_te.shape)\n",
    "y_tr.dropna(inplace=True)\n",
    "y_te.dropna(inplace=True)\n",
    "print(y_tr.shape,y_te.shape)\n",
    "iny_tr = set(y_tr['Ticker'])\n",
    "iny_te = set(y_te['Ticker'])\n",
    "X_tr = X_tr[X_tr['Ticker'].isin(iny_tr)].copy()\n",
    "X_te = X_te[X_te['Ticker'].isin(iny_te)].copy()\n",
    "print(X_tr.shape, X_te.shape)\n",
    "print(y_tr.shape, y_te.shape)"
   ]
  },
  {
   "cell_type": "markdown",
   "id": "f41f0e48",
   "metadata": {},
   "source": [
    "Okay, we have now equated the two. Let's make sure they are both in the right order as well."
   ]
  },
  {
   "cell_type": "code",
   "execution_count": 5,
   "id": "cf53b0b9",
   "metadata": {},
   "outputs": [
    {
     "name": "stdout",
     "output_type": "stream",
     "text": [
      "1     HONE\n",
      "3     RBRK\n",
      "4      CSL\n",
      "5      BMI\n",
      "8     BLKB\n",
      "9     PARR\n",
      "11     CNH\n",
      "12     XEL\n",
      "14     NSA\n",
      "15     AIZ\n",
      "16     DKS\n",
      "17     PEG\n",
      "18      CI\n",
      "19      FG\n",
      "20    STRA\n",
      "21      MP\n",
      "23    ADCT\n",
      "25     PFE\n",
      "26    APPN\n",
      "27     WSR\n",
      "Name: Ticker, dtype: object\n",
      "1     HONE\n",
      "3     RBRK\n",
      "5      CSL\n",
      "6      BMI\n",
      "11    BLKB\n",
      "12    PARR\n",
      "15     CNH\n",
      "16     XEL\n",
      "18     NSA\n",
      "19     AIZ\n",
      "21     DKS\n",
      "22     PEG\n",
      "23      CI\n",
      "24      FG\n",
      "25    STRA\n",
      "26      MP\n",
      "28    ADCT\n",
      "30     PFE\n",
      "31    APPN\n",
      "32     WSR\n",
      "Name: Ticker, dtype: object\n"
     ]
    }
   ],
   "source": [
    "print(X_tr['Ticker'].head(20))\n",
    "print(y_tr['Ticker'].head(20))"
   ]
  },
  {
   "cell_type": "markdown",
   "id": "eafa7c13",
   "metadata": {},
   "source": [
    "## Hyperparameter Tuning\n",
    "Alright, now that we have all of our data imported and ready to go, it's time to setup the GridSearchCV in order to tune our hyper parameters. This is going to be slightly dependent on which model we are using so let's set up a different one for each the Random Forest (RF) and Gradient Boosting Trees (GBT). Interestingly, because Tree's don't need scaling, I am going to avoid much of the transformations that we did in the earlier notebook to see how we do on raw values. \n",
    "\n",
    "Random Forest Hyperparameters:\n",
    "- n_estimators  \n",
    "- max_depth  \n",
    "- min_samples_leaf  \n",
    "- min_samples_split  \n",
    "- max_features  \n",
    "- bootstrap  \n",
    "- max_samples\n",
    "\n",
    "Gradient Boosting Hyperparameters:  \n",
    "- learning_rate  \n",
    "- n_estimators  \n",
    "- max_depth  \n",
    "- min_samples_leaf  \n",
    "- min_samples_split  \n",
    "- max_features  \n",
    "- subsample  \n",
    "- loss  \n",
    "- validation_fraction  \n",
    "- n_iter_no_change  \n",
    "- tol"
   ]
  },
  {
   "cell_type": "markdown",
   "id": "855629b4",
   "metadata": {},
   "source": [
    "## Hyperparameter Tuning Pipeline\n",
    "Okay, now that we have defined all of that we can set up our pipeline to run through the hyperparameter tuning for us and see what is best. First, lets drop the name and ticker column as they won't provide anything useful in our datasets."
   ]
  },
  {
   "cell_type": "code",
   "execution_count": 6,
   "id": "f7c094ed",
   "metadata": {},
   "outputs": [],
   "source": [
    "# Drop the ticker and name columns so we don't explode the feature space unneccesarily\n",
    "X_tr.drop(columns=['Ticker','Name'],axis=1,inplace=True)\n",
    "X_te.drop(columns=['Ticker','Name'],axis=1,inplace=True)"
   ]
  },
  {
   "cell_type": "code",
   "execution_count": null,
   "id": "2b807ba2",
   "metadata": {},
   "outputs": [
    {
     "name": "stdout",
     "output_type": "stream",
     "text": [
      "Fitting 10 folds for each of 7290 candidates, totalling 72900 fits\n"
     ]
    },
    {
     "name": "stderr",
     "output_type": "stream",
     "text": [
      "c:\\Users\\tmacp\\anaconda3\\envs\\milestoneII\\Lib\\site-packages\\sklearn\\model_selection\\_search.py:1135: UserWarning: One or more of the test scores are non-finite: [nan nan nan ... nan nan nan]\n",
      "  warnings.warn(\n"
     ]
    },
    {
     "name": "stdout",
     "output_type": "stream",
     "text": [
      "Best params: {'model': GradientBoostingRegressor(random_state=0), 'model__learning_rate': 0.15, 'model__loss': 'squared_error', 'model__max_depth': 3, 'model__max_features': 0.5, 'model__min_samples_leaf': 1, 'model__min_samples_split': 50, 'model__n_estimators': 200, 'model__subsample': 1.0}\n",
      "Best R2: 0.983\n"
     ]
    }
   ],
   "source": [
    "# identify categorical columns using dtypes\n",
    "cat_cols = [c for c in X_tr.columns if str(X_tr[c].dtype) in (\"object\", \"category\")]\n",
    "pre = ColumnTransformer(\n",
    "    [(\"cat\", OneHotEncoder(handle_unknown=\"ignore\"), cat_cols)],\n",
    "    remainder=\"passthrough\",\n",
    ")\n",
    "\n",
    "# base pipeline for gridsearch\n",
    "pipe = Pipeline([(\"pre\", pre),\n",
    "                 (\"model\", RandomForestRegressor(random_state=random_state, n_jobs=-1))])\n",
    "\n",
    "# Have a couple of different scorers for analyzing\n",
    "def rmse(y_true, y_pred): return mean_squared_error(y_true, y_pred, squared=False)\n",
    "rmse_s = make_scorer(rmse, greater_is_better=False)\n",
    "mae_s  = make_scorer(mean_absolute_error, greater_is_better=False)\n",
    "\n",
    "scoring = {\"rmse\": rmse_s, \"mae\": mae_s, \"r2\": \"r2\"}\n",
    "cv = KFold(n_splits=k_fold, shuffle=True, random_state=random_state)\n",
    "\n",
    "# Create our grids for the gridsearch (including our two models)\n",
    "gbt = GradientBoostingRegressor(random_state=random_state)\n",
    "\n",
    "gbt_grid = {\n",
    "    \"model\": [gbt],\n",
    "    \"model__learning_rate\": [0.07, 0.1, 0.15],\n",
    "    \"model__n_estimators\": [100, 200, 500],\n",
    "    \"model__max_depth\": [2, 3, 4],\n",
    "    \"model__min_samples_leaf\": [1, 5, 20],\n",
    "    \"model__min_samples_split\": [2, 10, 50],\n",
    "    \"model__max_features\": [\"sqrt\", \"log2\", 0.3, 0.5, 0.7],\n",
    "    \"model__subsample\": [0.6, 0.8, 1.0],\n",
    "    \"model__loss\": [\"squared_error\", \"absolute_error\"],\n",
    "}\n",
    "\n",
    "# Run the gridsearch and we are going to choose best RMSE\n",
    "grid = GridSearchCV(\n",
    "    estimator=pipe,\n",
    "    param_grid=[gbt_grid],\n",
    "    scoring=scoring,\n",
    "    refit=\"r2\",          \n",
    "    cv=cv,\n",
    "    n_jobs=-1,\n",
    "    verbose=1,\n",
    "    return_train_score=False,\n",
    ")\n",
    "\n",
    "y_series = np.abs(y_tr[\"Revenue_2025Q2\"])\n",
    "grid.fit(X_tr, y_series)\n",
    "\n",
    "print(\"Best params:\", grid.best_params_)\n",
    "print(f\"Best R2: {grid.best_score_:.3f}\")"
   ]
  },
  {
   "cell_type": "markdown",
   "id": "9c587ec9",
   "metadata": {},
   "source": [
    "Alright, now that we have pulled out the Test set parameters: \n",
    "\n",
    "Best params: {'model': GradientBoostingRegressor(random_state=0), 'model__learning_rate': 0.15, 'model__loss': 'squared_error', 'model__max_depth': 3, 'model__max_features': 0.5, 'model__min_samples_leaf': 1, 'model__min_samples_split': 50, 'model__n_estimators': 200, 'model__subsample': 1.0}\n",
    "\n",
    "We can start to get all of the data from it."
   ]
  },
  {
   "cell_type": "code",
   "execution_count": 20,
   "id": "bacb1b73",
   "metadata": {},
   "outputs": [
    {
     "name": "stdout",
     "output_type": "stream",
     "text": [
      "\n",
      "Test set: {'RMSE': 1624030050.132752, 'MAE': 419818194.50718665, 'R2': 0.9766423863518396}\n"
     ]
    },
    {
     "data": {
      "text/html": [
       "<div>\n",
       "<style scoped>\n",
       "    .dataframe tbody tr th:only-of-type {\n",
       "        vertical-align: middle;\n",
       "    }\n",
       "\n",
       "    .dataframe tbody tr th {\n",
       "        vertical-align: top;\n",
       "    }\n",
       "\n",
       "    .dataframe thead th {\n",
       "        text-align: right;\n",
       "    }\n",
       "</style>\n",
       "<table border=\"1\" class=\"dataframe\">\n",
       "  <thead>\n",
       "    <tr style=\"text-align: right;\">\n",
       "      <th></th>\n",
       "      <th>metric</th>\n",
       "      <th>mean</th>\n",
       "      <th>std</th>\n",
       "    </tr>\n",
       "  </thead>\n",
       "  <tbody>\n",
       "    <tr>\n",
       "      <th>0</th>\n",
       "      <td>RMSE</td>\n",
       "      <td>2.011170e+09</td>\n",
       "      <td>9.628414e+08</td>\n",
       "    </tr>\n",
       "    <tr>\n",
       "      <th>1</th>\n",
       "      <td>MAE</td>\n",
       "      <td>3.774524e+08</td>\n",
       "      <td>1.028788e+08</td>\n",
       "    </tr>\n",
       "    <tr>\n",
       "      <th>2</th>\n",
       "      <td>R2</td>\n",
       "      <td>9.586107e-01</td>\n",
       "      <td>3.169618e-02</td>\n",
       "    </tr>\n",
       "  </tbody>\n",
       "</table>\n",
       "</div>"
      ],
      "text/plain": [
       "  metric          mean           std\n",
       "0   RMSE  2.011170e+09  9.628414e+08\n",
       "1    MAE  3.774524e+08  1.028788e+08\n",
       "2     R2  9.586107e-01  3.169618e-02"
      ]
     },
     "execution_count": 20,
     "metadata": {},
     "output_type": "execute_result"
    }
   ],
   "source": [
    "# --- data columns ---\n",
    "cat_cols = ['Sector', 'Exchange', 'Market Cap']\n",
    "\n",
    "# y_tr_col/y_te_col are your revenue targets, e.g. 'Revenue_2025Q2'\n",
    "y_tr_series = y_tr['Revenue_2025Q2']\n",
    "y_te_series = y_te['Revenue_2025Q2']\n",
    "\n",
    "# --- preproc ---\n",
    "pre = ColumnTransformer(\n",
    "    [(\"cat\", OneHotEncoder(handle_unknown=\"ignore\"), cat_cols)],\n",
    "    remainder=\"passthrough\",\n",
    ")\n",
    "\n",
    "# --- tuned model ---\n",
    "gbr = GradientBoostingRegressor(\n",
    "    random_state=random_state,\n",
    "    learning_rate=0.15,\n",
    "    loss=\"squared_error\",\n",
    "    max_depth=3,\n",
    "    max_features=0.5,\n",
    "    min_samples_leaf=1,\n",
    "    min_samples_split=50,\n",
    "    n_estimators=200,\n",
    "    subsample=1.0,\n",
    ")\n",
    "\n",
    "pipe = Pipeline([(\"pre\", pre), (\"model\", gbr)])\n",
    "\n",
    "# \n",
    "cv = KFold(n_splits=k_fold, shuffle=True, random_state=random_state)\n",
    "\n",
    "\n",
    "\n",
    "scores = cross_validate(\n",
    "    pipe, X_tr, y_tr_series, cv=cv, n_jobs=-1, return_train_score=False,\n",
    "    scoring={\"rmse\": \"neg_root_mean_squared_error\",\n",
    "             \"mae\":  \"neg_mean_absolute_error\",\n",
    "             \"r2\":   \"r2\"},\n",
    "    error_score=\"raise\"   # surface any hidden exceptions\n",
    ")\n",
    "rmse_cv = -scores[\"test_rmse\"]\n",
    "mae_cv  = -scores[\"test_mae\"]\n",
    "r2_cv   =  scores[\"test_r2\"]\n",
    "\n",
    "cv_summary = pd.DataFrame({\n",
    "    \"metric\": [\"RMSE\",\"MAE\",\"R2\"],\n",
    "    \"mean\":   [np.round(rmse_cv.mean(),2), np.round(mae_cv.mean(),2), r2_cv.mean()],\n",
    "    \"std\":    [rmse_cv.std(ddof=1), mae_cv.std(ddof=1), r2_cv.std(ddof=1)],\n",
    "})\n",
    "\n",
    "# --- test-set metrics (single numbers) ---\n",
    "pipe.fit(X_tr, y_tr_series)\n",
    "y_pred = pipe.predict(X_te)\n",
    "\n",
    "rmse_test = np.sqrt(mean_squared_error(y_te_series, y_pred))  # RMSE\n",
    "mae_test  = mean_absolute_error(y_te_series, y_pred)\n",
    "r2_test   = r2_score(y_te_series, y_pred)\n",
    "\n",
    "test_summary = pd.Series({\"RMSE\": rmse_test, \"MAE\": mae_test, \"R2\": r2_test})\n",
    "\n",
    "\n",
    "print(\"\\nTest set:\", test_summary.to_dict())\n",
    "cv_summary\n",
    "\n"
   ]
  },
  {
   "cell_type": "markdown",
   "id": "96919c03",
   "metadata": {},
   "source": [
    "Alright now, let's calculate success rates for the test set."
   ]
  },
  {
   "cell_type": "code",
   "execution_count": 21,
   "id": "01c2e5cb",
   "metadata": {},
   "outputs": [
    {
     "name": "stdout",
     "output_type": "stream",
     "text": [
      "n_used            344.000000\n",
      "n_zero_actuals      0.000000\n",
      "≤10%                0.491279\n",
      "≤20%                0.750000\n",
      "≤40%                0.880814\n",
      "dtype: float64\n"
     ]
    }
   ],
   "source": [
    "def success_rates(y_true, y_pred, thresholds=(0.10, 0.20, 0.40)):\n",
    "    y_true = np.asarray(y_true, dtype=float)\n",
    "    y_pred = np.asarray(y_pred, dtype=float)\n",
    "\n",
    "    mask = y_true != 0  # avoid div-by-zero; report how many dropped\n",
    "    rel_err = np.empty_like(y_true, dtype=float)\n",
    "    rel_err[mask] = np.abs(y_pred[mask] - y_true[mask]) / np.abs(y_true[mask])\n",
    "    rel_err[~mask] = np.nan\n",
    "\n",
    "    out = {\"n_used\": int(mask.sum()), \"n_zero_actuals\": int((~mask).sum())}\n",
    "    for t in thresholds:\n",
    "        out[f\"≤{int(t*100)}%\"] = np.nanmean(rel_err <= t)\n",
    "    return pd.Series(out)\n",
    "\n",
    "# example\n",
    "rates = success_rates(y_te_series, y_pred)  # after you predict\n",
    "print(rates)"
   ]
  },
  {
   "cell_type": "markdown",
   "id": "7db1ea83",
   "metadata": {},
   "source": [
    "alright, this is pretty darn good. Let's plot everything to see what it looks like."
   ]
  },
  {
   "cell_type": "code",
   "execution_count": 36,
   "id": "960e8a68",
   "metadata": {},
   "outputs": [
    {
     "data": {
      "text/html": [
       "\n",
       "<style>\n",
       "  #altair-viz-6b74528b08fe4b699135a3a99c09f865.vega-embed {\n",
       "    width: 100%;\n",
       "    display: flex;\n",
       "  }\n",
       "\n",
       "  #altair-viz-6b74528b08fe4b699135a3a99c09f865.vega-embed details,\n",
       "  #altair-viz-6b74528b08fe4b699135a3a99c09f865.vega-embed details summary {\n",
       "    position: relative;\n",
       "  }\n",
       "</style>\n",
       "<div id=\"altair-viz-6b74528b08fe4b699135a3a99c09f865\"></div>\n",
       "<script type=\"text/javascript\">\n",
       "  var VEGA_DEBUG = (typeof VEGA_DEBUG == \"undefined\") ? {} : VEGA_DEBUG;\n",
       "  (function(spec, embedOpt){\n",
       "    let outputDiv = document.currentScript.previousElementSibling;\n",
       "    if (outputDiv.id !== \"altair-viz-6b74528b08fe4b699135a3a99c09f865\") {\n",
       "      outputDiv = document.getElementById(\"altair-viz-6b74528b08fe4b699135a3a99c09f865\");\n",
       "    }\n",
       "\n",
       "    const paths = {\n",
       "      \"vega\": \"https://cdn.jsdelivr.net/npm/vega@5?noext\",\n",
       "      \"vega-lib\": \"https://cdn.jsdelivr.net/npm/vega-lib?noext\",\n",
       "      \"vega-lite\": \"https://cdn.jsdelivr.net/npm/vega-lite@5.20.1?noext\",\n",
       "      \"vega-embed\": \"https://cdn.jsdelivr.net/npm/vega-embed@6?noext\",\n",
       "    };\n",
       "\n",
       "    function maybeLoadScript(lib, version) {\n",
       "      var key = `${lib.replace(\"-\", \"\")}_version`;\n",
       "      return (VEGA_DEBUG[key] == version) ?\n",
       "        Promise.resolve(paths[lib]) :\n",
       "        new Promise(function(resolve, reject) {\n",
       "          var s = document.createElement('script');\n",
       "          document.getElementsByTagName(\"head\")[0].appendChild(s);\n",
       "          s.async = true;\n",
       "          s.onload = () => {\n",
       "            VEGA_DEBUG[key] = version;\n",
       "            return resolve(paths[lib]);\n",
       "          };\n",
       "          s.onerror = () => reject(`Error loading script: ${paths[lib]}`);\n",
       "          s.src = paths[lib];\n",
       "        });\n",
       "    }\n",
       "\n",
       "    function showError(err) {\n",
       "      outputDiv.innerHTML = `<div class=\"error\" style=\"color:red;\">${err}</div>`;\n",
       "      throw err;\n",
       "    }\n",
       "\n",
       "    function displayChart(vegaEmbed) {\n",
       "      vegaEmbed(outputDiv, spec, embedOpt)\n",
       "        .catch(err => showError(`Javascript Error: ${err.message}<br>This usually means there's a typo in your chart specification. See the javascript console for the full traceback.`));\n",
       "    }\n",
       "\n",
       "    if(typeof define === \"function\" && define.amd) {\n",
       "      requirejs.config({paths});\n",
       "      let deps = [\"vega-embed\"];\n",
       "      require(deps, displayChart, err => showError(`Error loading script: ${err.message}`));\n",
       "    } else {\n",
       "      maybeLoadScript(\"vega\", \"5\")\n",
       "        .then(() => maybeLoadScript(\"vega-lite\", \"5.20.1\"))\n",
       "        .then(() => maybeLoadScript(\"vega-embed\", \"6\"))\n",
       "        .catch(showError)\n",
       "        .then(() => displayChart(vegaEmbed));\n",
       "    }\n",
       "  })({\"config\": {\"view\": {\"continuousWidth\": 300, \"continuousHeight\": 300, \"stroke\": null}}, \"hconcat\": [{\"layer\": [{\"data\": {\"name\": \"data-28714a29327f9f10d232a4a40817b8d9\"}, \"mark\": {\"type\": \"circle\", \"color\": \"Magenta\", \"opacity\": 0.4, \"size\": 60}, \"encoding\": {\"x\": {\"axis\": {\"grid\": false}, \"field\": \"actual\", \"title\": \"Actual\", \"type\": \"quantitative\"}, \"y\": {\"axis\": {\"grid\": false}, \"field\": \"pred\", \"title\": \"Predicted (\\u0177)\", \"type\": \"quantitative\"}}, \"title\": \"Predicted vs Actual\"}, {\"data\": {\"name\": \"data-6ca53b0489116cc71af97411d8f54860\"}, \"mark\": {\"type\": \"line\", \"color\": \"black\"}, \"encoding\": {\"x\": {\"field\": \"x\", \"type\": \"quantitative\"}, \"y\": {\"field\": \"y\", \"type\": \"quantitative\"}}}, {\"data\": {\"name\": \"data-68747a9ea82cfdf3b0ee25f0d7ed1d55\"}, \"mark\": {\"type\": \"text\", \"align\": \"left\", \"baseline\": \"top\", \"dx\": 6, \"dy\": 6}, \"encoding\": {\"text\": {\"field\": \"label\", \"type\": \"nominal\"}, \"x\": {\"field\": \"x\", \"type\": \"quantitative\"}, \"y\": {\"field\": \"y\", \"type\": \"quantitative\"}}}], \"height\": 300, \"width\": 500}, {\"layer\": [{\"data\": {\"name\": \"data-28714a29327f9f10d232a4a40817b8d9\"}, \"mark\": {\"type\": \"circle\", \"color\": \"Magenta\", \"opacity\": 0.4, \"size\": 60}, \"encoding\": {\"x\": {\"axis\": {\"grid\": false}, \"field\": \"actual\", \"title\": \"Actual\", \"type\": \"quantitative\"}, \"y\": {\"axis\": {\"grid\": false}, \"field\": \"resid\", \"title\": \"Residual (y - \\u0177)\", \"type\": \"quantitative\"}}, \"title\": \"Residuals vs Actual\"}, {\"data\": {\"name\": \"data-a0a55d106695e8d630baff0f16eee66d\"}, \"mark\": {\"type\": \"rule\"}, \"encoding\": {\"y\": {\"field\": \"y\", \"type\": \"quantitative\"}}}], \"height\": 300, \"width\": 500}], \"$schema\": \"https://vega.github.io/schema/vega-lite/v5.20.1.json\", \"datasets\": {\"data-28714a29327f9f10d232a4a40817b8d9\": [{\"actual\": 1267140000.0, \"pred\": 1485505389.257128, \"resid\": -218365389.257128}, {\"actual\": 232088000.0, \"pred\": 149665963.75919253, \"resid\": 82422036.24080747}, {\"actual\": 255546000.0, \"pred\": 275884934.26909775, \"resid\": -20338934.269097745}, {\"actual\": 273929000.0, \"pred\": 238274435.63770023, \"resid\": 35654564.36229977}, {\"actual\": 61812000.0, \"pred\": 51243368.08782927, \"resid\": 10568631.91217073}, {\"actual\": 6740000000.0, \"pred\": 8972455681.786425, \"resid\": -2232455681.7864246}, {\"actual\": 731696000.0, \"pred\": 673039250.9305956, \"resid\": 58656749.06940436}, {\"actual\": 1838000000.0, \"pred\": 1953903829.6830955, \"resid\": -115903829.68309546}, {\"actual\": 1224730000.0, \"pred\": 1211416535.7840738, \"resid\": 13313464.21592617}, {\"actual\": -72319000.0, \"pred\": 17871909.765352137, \"resid\": -90190909.76535213}, {\"actual\": 352524000.0, \"pred\": 288757713.9562395, \"resid\": 63766286.04376048}, {\"actual\": 81796000.0, \"pred\": 75319159.19236468, \"resid\": 6476840.807635322}, {\"actual\": 79182000.0, \"pred\": 83915943.49385211, \"resid\": -4733943.493852109}, {\"actual\": 269217000.0, \"pred\": 260416295.08928776, \"resid\": 8800704.910712242}, {\"actual\": 2764600000.0, \"pred\": 2615063999.331681, \"resid\": 149536000.66831923}, {\"actual\": 15604000000.0, \"pred\": 17143802735.137417, \"resid\": -1539802735.1374168}, {\"actual\": 164317000.0, \"pred\": 130377720.90036346, \"resid\": 33939279.09963654}, {\"actual\": 57562000.0, \"pred\": 48335309.96795773, \"resid\": 9226690.032042272}, {\"actual\": 606900000.0, \"pred\": 707903530.5485749, \"resid\": -101003530.54857492}, {\"actual\": 2651885000.0, \"pred\": 3134574077.65467, \"resid\": -482689077.65466976}, {\"actual\": 94027000.0, \"pred\": 16025493.693764899, \"resid\": 78001506.3062351}, {\"actual\": 5899600000.0, \"pred\": 5872968238.23363, \"resid\": 26631761.76636982}, {\"actual\": 3248000000.0, \"pred\": 2545642217.8910885, \"resid\": 702357782.1089115}, {\"actual\": 2802100000.0, \"pred\": 2278306367.8798676, \"resid\": 523793632.12013245}, {\"actual\": 490212000.0, \"pred\": 393071579.4115836, \"resid\": 97140420.5884164}, {\"actual\": 542503000.0, \"pred\": 511926457.16145307, \"resid\": 30576542.83854693}, {\"actual\": 14245000.0, \"pred\": 3924297.400400556, \"resid\": 10320702.599599443}, {\"actual\": 1059000000.0, \"pred\": 1238827454.6030383, \"resid\": -179827454.6030383}, {\"actual\": 1045712000.0, \"pred\": 1150221165.4108036, \"resid\": -104509165.41080356}, {\"actual\": 634690000.0, \"pred\": 614041043.583823, \"resid\": 20648956.416177034}, {\"actual\": 323919000.0, \"pred\": 135837632.35932437, \"resid\": 188081367.64067563}, {\"actual\": 336579000.0, \"pred\": 307147204.4503596, \"resid\": 29431795.549640417}, {\"actual\": 1275441000.0, \"pred\": 1390541896.8729067, \"resid\": -115100896.87290668}, {\"actual\": 390633000.0, \"pred\": 406904083.4665396, \"resid\": -16271083.466539621}, {\"actual\": 70211000.0, \"pred\": 70018686.1917692, \"resid\": 192313.80823080242}, {\"actual\": 7887000000.0, \"pred\": 7209085250.035712, \"resid\": 677914749.9642878}, {\"actual\": 311399000.0, \"pred\": 342594402.6323173, \"resid\": -31195402.632317305}, {\"actual\": 18605000000.0, \"pred\": 22517368637.509308, \"resid\": -3912368637.509308}, {\"actual\": 157109000.0, \"pred\": 167081731.75812256, \"resid\": -9972731.758122563}, {\"actual\": 400395000.0, \"pred\": 379022509.934441, \"resid\": 21372490.06555903}, {\"actual\": 630000000.0, \"pred\": 587113261.9445101, \"resid\": 42886738.0554899}, {\"actual\": 18155000000.0, \"pred\": 21674361082.40819, \"resid\": -3519361082.4081917}, {\"actual\": 115097000.0, \"pred\": 90330727.04608306, \"resid\": 24766272.953916937}, {\"actual\": 282677000.0, \"pred\": 190570781.03104323, \"resid\": 92106218.96895677}, {\"actual\": 230225000.0, \"pred\": 237893564.59988055, \"resid\": -7668564.599880546}, {\"actual\": 2237000000.0, \"pred\": 1755568062.2561088, \"resid\": 481431937.74389124}, {\"actual\": 1236300000.0, \"pred\": 1445321573.6991956, \"resid\": -209021573.69919562}, {\"actual\": 130159000.0, \"pred\": 155942794.8412234, \"resid\": -25783794.84122339}, {\"actual\": 614180000.0, \"pred\": 698750934.650264, \"resid\": -84570934.65026402}, {\"actual\": 3544705000.0, \"pred\": 3703585296.310884, \"resid\": -158880296.310884}, {\"actual\": 44375000000.0, \"pred\": 48508453319.50136, \"resid\": -4133453319.501358}, {\"actual\": 142241000.0, \"pred\": 133566167.53619331, \"resid\": 8674832.463806689}, {\"actual\": 96428000000.0, \"pred\": 96600200607.51581, \"resid\": -172200607.5158081}, {\"actual\": 9812000000.0, \"pred\": 10110786381.095491, \"resid\": -298786381.0954914}, {\"actual\": 493853000.0, \"pred\": 447651261.18256, \"resid\": 46201738.81743997}, {\"actual\": 825800000.0, \"pred\": 778402621.8746681, \"resid\": 47397378.12533188}, {\"actual\": 179886000.0, \"pred\": 108555475.80066115, \"resid\": 71330524.19933885}, {\"actual\": 3574000000.0, \"pred\": 3757476030.3713055, \"resid\": -183476030.37130547}, {\"actual\": 780370000.0, \"pred\": 792266454.3928864, \"resid\": -11896454.3928864}, {\"actual\": 158661000.0, \"pred\": 168317050.0418475, \"resid\": -9656050.041847497}, {\"actual\": 114084000.0, \"pred\": 139356186.45454413, \"resid\": -25272186.454544127}, {\"actual\": 457106000.0, \"pred\": 506995974.27198523, \"resid\": -49889974.27198523}, {\"actual\": 811085000.0, \"pred\": 725670989.3418541, \"resid\": 85414010.6581459}, {\"actual\": 317884000.0, \"pred\": 290075069.2158093, \"resid\": 27808930.784190714}, {\"actual\": 6052000000.0, \"pred\": 5166319676.033615, \"resid\": 885680323.9663849}, {\"actual\": 210992000.0, \"pred\": 188581808.61716086, \"resid\": 22410191.382839143}, {\"actual\": 370900000.0, \"pred\": 336533234.90983266, \"resid\": 34366765.09016734}, {\"actual\": 342345000.0, \"pred\": 277996340.1800091, \"resid\": 64348659.81999087}, {\"actual\": 694039000.0, \"pred\": 786310662.8550662, \"resid\": -92271662.85506618}, {\"actual\": 8699000.0, \"pred\": -995570.8928610836, \"resid\": 9694570.892861083}, {\"actual\": 544833000.0, \"pred\": 648773751.7898803, \"resid\": -103940751.78988028}, {\"actual\": 55487000.0, \"pred\": 89722413.07273474, \"resid\": -34235413.07273474}, {\"actual\": 212500000.0, \"pred\": 199953170.74327874, \"resid\": 12546829.256721258}, {\"actual\": 6700000000.0, \"pred\": 6377418762.95031, \"resid\": 322581237.04969025}, {\"actual\": 101766000.0, \"pred\": 93861366.88700403, \"resid\": 7904633.112995967}, {\"actual\": 21166000000.0, \"pred\": 22693640729.44427, \"resid\": -1527640729.444271}, {\"actual\": 705973000.0, \"pred\": 746344965.7595891, \"resid\": -40371965.759589076}, {\"actual\": 1975948000.0, \"pred\": 1464283477.0922632, \"resid\": 511664522.9077368}, {\"actual\": 1107250000.0, \"pred\": 1070289775.5565588, \"resid\": 36960224.44344115}, {\"actual\": 170025000.0, \"pred\": 252128923.2895634, \"resid\": -82103923.28956339}, {\"actual\": 2739077000.0, \"pred\": 3715733100.564767, \"resid\": -976656100.5647669}, {\"actual\": -6286000.0, \"pred\": 18532396.85253476, \"resid\": -24818396.85253476}, {\"actual\": 1034906000.0, \"pred\": 1044692088.9363812, \"resid\": -9786088.93638122}, {\"actual\": 1730113000.0, \"pred\": 1785185214.8470795, \"resid\": -55072214.847079515}, {\"actual\": 458491000.0, \"pred\": 484757061.820384, \"resid\": -26266061.820384026}, {\"actual\": 4250000000.0, \"pred\": 4878910189.329083, \"resid\": -628910189.3290834}, {\"actual\": 97827000000.0, \"pred\": 114400394491.02663, \"resid\": -16573394491.026627}, {\"actual\": 212802000.0, \"pred\": 93205492.15987357, \"resid\": 119596507.84012643}, {\"actual\": 1877000000.0, \"pred\": 1689871632.124725, \"resid\": 187128367.8752749}, {\"actual\": 36276000.0, \"pred\": 61396856.29709148, \"resid\": -25120856.297091477}, {\"actual\": 913000000.0, \"pred\": 1075284556.5492911, \"resid\": -162284556.54929113}, {\"actual\": 375090000.0, \"pred\": 437428361.0909821, \"resid\": -62338361.09098208}, {\"actual\": 12535000000.0, \"pred\": 12068502646.613104, \"resid\": 466497353.38689613}, {\"actual\": 151296000.0, \"pred\": 130399066.86236122, \"resid\": 20896933.137638777}, {\"actual\": 1219000000.0, \"pred\": 1408026641.749721, \"resid\": -189026641.74972105}, {\"actual\": 54069000.0, \"pred\": 68239854.87038869, \"resid\": -14170854.870388687}, {\"actual\": 549014000.0, \"pred\": 537758209.3620495, \"resid\": 11255790.63795054}, {\"actual\": 468844000.0, \"pred\": 527250255.08247614, \"resid\": -58406255.08247614}, {\"actual\": 68549000.0, \"pred\": 112834588.1573165, \"resid\": -44285588.157316506}, {\"actual\": 177286000.0, \"pred\": 184607650.8495539, \"resid\": -7321650.849553913}, {\"actual\": 1407724000.0, \"pred\": 1382564801.8769085, \"resid\": 25159198.12309146}, {\"actual\": 202256000.0, \"pred\": 160742798.23221755, \"resid\": 41513201.76778245}, {\"actual\": 1512054000.0, \"pred\": 1482164521.1259897, \"resid\": 29889478.874010324}, {\"actual\": 205500000.0, \"pred\": 217744132.78834245, \"resid\": -12244132.788342446}, {\"actual\": 2781800000.0, \"pred\": 2890745420.4166474, \"resid\": -108945420.41664743}, {\"actual\": 965000000.0, \"pred\": 1002202956.9125319, \"resid\": -37202956.91253185}, {\"actual\": 3063393000.0, \"pred\": 3065950446.048554, \"resid\": -2557446.0485539436}, {\"actual\": 392000000.0, \"pred\": 288440792.1281932, \"resid\": 103559207.8718068}, {\"actual\": 772600000.0, \"pred\": 982147381.8982975, \"resid\": -209547381.89829755}, {\"actual\": 999527000.0, \"pred\": 1034697495.7102506, \"resid\": -35170495.710250616}, {\"actual\": 1890000000.0, \"pred\": 2041701867.8829975, \"resid\": -151701867.8829975}, {\"actual\": 667100000.0, \"pred\": 735447662.3859273, \"resid\": -68347662.38592732}, {\"actual\": 442122000.0, \"pred\": 411474305.5487046, \"resid\": 30647694.451295376}, {\"actual\": 272169000.0, \"pred\": 252402773.8572271, \"resid\": 19766226.142772913}, {\"actual\": 529000000.0, \"pred\": 535082370.04896, \"resid\": -6082370.0489599705}, {\"actual\": 973000000.0, \"pred\": 1128023675.3473704, \"resid\": -155023675.3473704}, {\"actual\": 3022700000.0, \"pred\": 2450561802.173415, \"resid\": 572138197.8265848}, {\"actual\": 73551000.0, \"pred\": 86047930.35644943, \"resid\": -12496930.356449425}, {\"actual\": 52758000.0, \"pred\": 52644120.1820644, \"resid\": 113879.81793560088}, {\"actual\": 454000000.0, \"pred\": 766835598.9068654, \"resid\": -312835598.90686536}, {\"actual\": 7554000.0, \"pred\": 41543754.33240835, \"resid\": -33989754.33240835}, {\"actual\": 91684000.0, \"pred\": 110210796.9200271, \"resid\": -18526796.920027107}, {\"actual\": 23650000000.0, \"pred\": 22318783687.456623, \"resid\": 1331216312.543377}, {\"actual\": 3862000000.0, \"pred\": 3703009170.042574, \"resid\": 158990829.95742607}, {\"actual\": 88715000.0, \"pred\": 96941620.96567124, \"resid\": -8226620.965671241}, {\"actual\": 186878000.0, \"pred\": 201828740.56118146, \"resid\": -14950740.561181456}, {\"actual\": 2065400000.0, \"pred\": 1972748521.8148139, \"resid\": 92651478.18518615}, {\"actual\": 154138000.0, \"pred\": 315473838.5997569, \"resid\": -161335838.5997569}, {\"actual\": 308971000.0, \"pred\": 274841911.26582426, \"resid\": 34129088.73417574}, {\"actual\": 1550000000.0, \"pred\": 1340936795.8720512, \"resid\": 209063204.12794876}, {\"actual\": 1341000000.0, \"pred\": 898822922.5270387, \"resid\": 442177077.4729613}, {\"actual\": 112097000.0, \"pred\": 113559855.70228848, \"resid\": -1462855.7022884786}, {\"actual\": 2924000000.0, \"pred\": 3271530648.662129, \"resid\": -347530648.6621289}, {\"actual\": 2428427000.0, \"pred\": 2179951848.9076753, \"resid\": 248475151.09232473}, {\"actual\": 339492000.0, \"pred\": 335411917.9920685, \"resid\": 4080082.007931471}, {\"actual\": 5171393000.0, \"pred\": 4267173058.0319023, \"resid\": 904219941.9680977}, {\"actual\": 181330000.0, \"pred\": 191457545.43392643, \"resid\": -10127545.433926433}, {\"actual\": 209583000.0, \"pred\": 231353582.53707495, \"resid\": -21770582.537074953}, {\"actual\": 6767000000.0, \"pred\": 5292617904.085868, \"resid\": 1474382095.914132}, {\"actual\": 2147203000.0, \"pred\": 2347618924.4141564, \"resid\": -200415924.41415644}, {\"actual\": 40153000.0, \"pred\": 152162649.48920244, \"resid\": -112009649.48920244}, {\"actual\": 613413000.0, \"pred\": 532760491.8795322, \"resid\": 80652508.12046778}, {\"actual\": 114488000.0, \"pred\": 13314557478.570875, \"resid\": -13200069478.570875}, {\"actual\": 436000000.0, \"pred\": 399727575.1416409, \"resid\": 36272424.8583591}, {\"actual\": 411000000.0, \"pred\": 548737003.4859192, \"resid\": -137737003.48591924}, {\"actual\": 6250100000.0, \"pred\": 6970681606.324149, \"resid\": -720581606.3241491}, {\"actual\": 171794000.0, \"pred\": 187154791.9564027, \"resid\": -15360791.95640269}, {\"actual\": 149544000.0, \"pred\": 98110554.9913739, \"resid\": 51433445.0086261}, {\"actual\": 6113000000.0, \"pred\": 5618183288.145203, \"resid\": 494816711.85479736}, {\"actual\": 3835025000.0, \"pred\": 4302625109.595743, \"resid\": -467600109.5957432}, {\"actual\": 21995000000.0, \"pred\": 22079988459.26799, \"resid\": -84988459.26799011}, {\"actual\": 366700000.0, \"pred\": 417417977.2541252, \"resid\": -50717977.25412518}, {\"actual\": 579000000.0, \"pred\": 394397337.15042996, \"resid\": 184602662.84957004}, {\"actual\": 940100000.0, \"pred\": 1002587736.8707591, \"resid\": -62487736.87075913}, {\"actual\": 518800000.0, \"pred\": 520597815.52431786, \"resid\": -1797815.5243178606}, {\"actual\": 6784000000.0, \"pred\": 6804330842.092435, \"resid\": -20330842.092434883}, {\"actual\": 20569000000.0, \"pred\": 22621341971.5757, \"resid\": -2052341971.5756989}, {\"actual\": 45118000000.0, \"pred\": 33145720730.42096, \"resid\": 11972279269.57904}, {\"actual\": 10739000.0, \"pred\": 16996114.059438497, \"resid\": -6257114.059438497}, {\"actual\": 275050000.0, \"pred\": 227114352.7135502, \"resid\": 47935647.28644979}, {\"actual\": 319240000.0, \"pred\": 294678451.6385083, \"resid\": 24561548.36149168}, {\"actual\": 875700000.0, \"pred\": 923207328.8988168, \"resid\": -47507328.898816824}, {\"actual\": 681401000.0, \"pred\": 694342813.0193838, \"resid\": -12941813.019383788}, {\"actual\": 698509000.0, \"pred\": 690717708.1822149, \"resid\": 7791291.817785144}, {\"actual\": 6430000000.0, \"pred\": 6825822025.816707, \"resid\": -395822025.81670666}, {\"actual\": 194430000.0, \"pred\": 213503033.94566622, \"resid\": -19073033.945666224}, {\"actual\": 12577000000.0, \"pred\": 10714924924.059393, \"resid\": 1862075075.940607}, {\"actual\": 1457700000.0, \"pred\": 1264098428.4568498, \"resid\": 193601571.5431502}, {\"actual\": 1511392000.0, \"pred\": 1803861214.5608249, \"resid\": -292469214.5608249}, {\"actual\": 807000000.0, \"pred\": 774081102.104047, \"resid\": 32918897.89595306}, {\"actual\": 577200000.0, \"pred\": 565206003.7611091, \"resid\": 11993996.238890886}, {\"actual\": 833830000.0, \"pred\": 694257956.2898388, \"resid\": 139572043.7101612}, {\"actual\": 126479000.0, \"pred\": 109735737.01721433, \"resid\": 16743262.982785672}, {\"actual\": 5510000000.0, \"pred\": 5683583168.813194, \"resid\": -173583168.81319427}, {\"actual\": 1188000000.0, \"pred\": 1217382601.2029507, \"resid\": -29382601.202950716}, {\"actual\": 72358000.0, \"pred\": 87375704.47884884, \"resid\": -15017704.478848845}, {\"actual\": 2614718000.0, \"pred\": 3138239815.594718, \"resid\": -523521815.594718}, {\"actual\": 10104000000.0, \"pred\": 10683494968.869753, \"resid\": -579494968.8697529}, {\"actual\": 76441000000.0, \"pred\": 67082519860.01887, \"resid\": 9358480139.981133}, {\"actual\": 771332000.0, \"pred\": 771569504.1227648, \"resid\": -237504.12276482582}, {\"actual\": 562254000.0, \"pred\": 535807234.7200623, \"resid\": 26446765.279937685}, {\"actual\": 483400000.0, \"pred\": 460266942.4289996, \"resid\": 23133057.571000397}, {\"actual\": 2964700000.0, \"pred\": 3300729092.1724076, \"resid\": -336029092.1724076}, {\"actual\": 2706000000.0, \"pred\": 2376853162.3245378, \"resid\": 329146837.67546225}, {\"actual\": 2077300000.0, \"pred\": 1884688794.5977836, \"resid\": 192611205.40221643}, {\"actual\": 152640000.0, \"pred\": 320565156.6297689, \"resid\": -167925156.6297689}, {\"actual\": 764039000.0, \"pred\": 783420987.4943739, \"resid\": -19381987.494373918}, {\"actual\": 4410857000.0, \"pred\": 4402736243.780828, \"resid\": 8120756.219171524}, {\"actual\": 1420893000.0, \"pred\": 1259707500.8700583, \"resid\": 161185499.1299417}, {\"actual\": 6843000000.0, \"pred\": 6969606226.591612, \"resid\": -126606226.59161186}, {\"actual\": 3342000000.0, \"pred\": 3770812818.4170284, \"resid\": -428812818.4170284}, {\"actual\": 282749000.0, \"pred\": 258630146.81253865, \"resid\": 24118853.187461346}, {\"actual\": 1353443000.0, \"pred\": 1283998615.631904, \"resid\": 69444384.36809611}, {\"actual\": 2848367000.0, \"pred\": 2271252414.4303775, \"resid\": 577114585.5696225}, {\"actual\": 1906400000.0, \"pred\": 168823210.5372004, \"resid\": 1737576789.4627995}, {\"actual\": 1420500000.0, \"pred\": 1548985479.0270057, \"resid\": -128485479.02700567}, {\"actual\": 2019984000.0, \"pred\": 1885210734.3650534, \"resid\": 134773265.63494658}, {\"actual\": 202800000.0, \"pred\": 179414607.13862854, \"resid\": 23385392.861371458}, {\"actual\": 407537000.0, \"pred\": 308937036.2648892, \"resid\": 98599963.73511082}, {\"actual\": 252434000.0, \"pred\": 335804173.1666909, \"resid\": -83370173.16669089}, {\"actual\": 33799000000.0, \"pred\": 33518411851.72488, \"resid\": 280588148.2751198}, {\"actual\": 167911000.0, \"pred\": 160523870.88359153, \"resid\": 7387129.116408467}, {\"actual\": 185544000.0, \"pred\": 178958418.1748439, \"resid\": 6585581.825156093}, {\"actual\": 115501000.0, \"pred\": 98094488.67629111, \"resid\": 17406511.323708892}, {\"actual\": 1930707000.0, \"pred\": 1844898947.570186, \"resid\": 85808052.4298141}, {\"actual\": 26195000.0, \"pred\": 32023774.25626665, \"resid\": -5828774.25626665}, {\"actual\": 58879000.0, \"pred\": 66217194.483300604, \"resid\": -7338194.483300604}, {\"actual\": 3786000000.0, \"pred\": 3465735629.283117, \"resid\": 320264370.7168832}, {\"actual\": 172209000.0, \"pred\": 205496146.39357397, \"resid\": -33287146.39357397}, {\"actual\": 330844000.0, \"pred\": 351283310.69583654, \"resid\": -20439310.695836544}, {\"actual\": 10854000000.0, \"pred\": 10580375147.633333, \"resid\": 273624852.3666668}, {\"actual\": 2144000000.0, \"pred\": 1933041669.6796474, \"resid\": 210958330.32035255}, {\"actual\": 112059000.0, \"pred\": 111604194.33584678, \"resid\": 454805.66415321827}, {\"actual\": 671992000.0, \"pred\": 722906568.5383018, \"resid\": -50914568.538301826}, {\"actual\": 773500000.0, \"pred\": 721030755.856563, \"resid\": 52469244.14343703}, {\"actual\": 1215529000.0, \"pred\": 1160745937.9501712, \"resid\": 54783062.04982877}, {\"actual\": 15717000.0, \"pred\": 630369806.3826021, \"resid\": -614652806.3826021}, {\"actual\": 71531000.0, \"pred\": 73721510.13794523, \"resid\": -2190510.137945235}, {\"actual\": 6054457000.0, \"pred\": 6729417094.011438, \"resid\": -674960094.0114384}, {\"actual\": 1686454000.0, \"pred\": 1721652728.790131, \"resid\": -35198728.79013109}, {\"actual\": 80663532000.0, \"pred\": 70964585439.68358, \"resid\": 9698946560.316422}, {\"actual\": 1201094000.0, \"pred\": 1292293102.9984627, \"resid\": -91199102.99846268}, {\"actual\": 58393000.0, \"pred\": 86021829.44508073, \"resid\": -27628829.445080727}, {\"actual\": 127785000.0, \"pred\": 122506615.20228043, \"resid\": 5278384.797719568}, {\"actual\": 1784530000.0, \"pred\": 1363307013.5227535, \"resid\": 421222986.4772465}, {\"actual\": 17176000000.0, \"pred\": 21475779079.476692, \"resid\": -4299779079.476692}, {\"actual\": 444328000.0, \"pred\": 644057347.9419025, \"resid\": -199729347.94190252}, {\"actual\": 102018000.0, \"pred\": 272223940.6371514, \"resid\": -170205940.63715142}, {\"actual\": 1303000000.0, \"pred\": 1901989767.289981, \"resid\": -598989767.2899809}, {\"actual\": 3686000000.0, \"pred\": 1656930219.2043066, \"resid\": 2029069780.7956934}, {\"actual\": 6798000000.0, \"pred\": 6272452280.019324, \"resid\": 525547719.9806757}, {\"actual\": 676237000.0, \"pred\": 639639073.5566101, \"resid\": 36597926.44338989}, {\"actual\": 1503800000.0, \"pred\": 1013503464.4349301, \"resid\": 490296535.5650699}, {\"actual\": 14583000000.0, \"pred\": 16102851941.299536, \"resid\": -1519851941.2995358}, {\"actual\": 22726000000.0, \"pred\": 22458130435.823837, \"resid\": 267869564.17616272}, {\"actual\": 274760000.0, \"pred\": 330323031.1724559, \"resid\": -55563031.17245591}, {\"actual\": 239240000.0, \"pred\": 542351533.203696, \"resid\": -303111533.203696}, {\"actual\": 302854000.0, \"pred\": 289048842.4244776, \"resid\": 13805157.575522423}, {\"actual\": 2080000000.0, \"pred\": 1949943988.002286, \"resid\": 130056011.99771404}, {\"actual\": 1283000000.0, \"pred\": 1717101339.8022275, \"resid\": -434101339.8022275}, {\"actual\": 65210000.0, \"pred\": 70425992.44779068, \"resid\": -5215992.447790682}, {\"actual\": 512971000.0, \"pred\": 546866523.2119606, \"resid\": -33895523.211960554}, {\"actual\": 197344000.0, \"pred\": 196050857.73891458, \"resid\": 1293142.2610854208}, {\"actual\": -1313000.0, \"pred\": -17818161.979496635, \"resid\": 16505161.979496635}, {\"actual\": 66816000.0, \"pred\": 86673933.2131178, \"resid\": -19857933.213117793}, {\"actual\": 2173319000.0, \"pred\": 1882257231.9526713, \"resid\": 291061768.0473287}, {\"actual\": 214169000.0, \"pred\": 166684699.81945112, \"resid\": 47484300.18054888}, {\"actual\": 2953000000.0, \"pred\": 3229023318.6523137, \"resid\": -276023318.6523137}, {\"actual\": 443402000.0, \"pred\": 500369658.6086781, \"resid\": -56967658.6086781}, {\"actual\": 135700000.0, \"pred\": 193298984.44618437, \"resid\": -57598984.44618437}, {\"actual\": 1020600000.0, \"pred\": 1152543195.3694227, \"resid\": -131943195.36942267}, {\"actual\": 266604000.0, \"pred\": 264365215.30639246, \"resid\": 2238784.693607539}, {\"actual\": 1437000000.0, \"pred\": 1438761820.8908875, \"resid\": -1761820.8908874989}, {\"actual\": 966009000.0, \"pred\": 1099247524.374556, \"resid\": -133238524.37455606}, {\"actual\": 179045000.0, \"pred\": 192458775.6151778, \"resid\": -13413775.61517781}, {\"actual\": 1000724000.0, \"pred\": 1062398369.1931525, \"resid\": -61674369.19315255}, {\"actual\": 211371000.0, \"pred\": 264103975.44676018, \"resid\": -52732975.44676018}, {\"actual\": 216906000.0, \"pred\": 226063138.8498067, \"resid\": -9157138.849806696}, {\"actual\": 300732000.0, \"pred\": 276001722.96872526, \"resid\": 24730277.031274736}, {\"actual\": 1308877000.0, \"pred\": 927111287.0591061, \"resid\": 381765712.9408939}, {\"actual\": 502420000.0, \"pred\": 624570431.8364396, \"resid\": -122150431.83643961}, {\"actual\": 358900000.0, \"pred\": 329407749.81308824, \"resid\": 29492250.18691176}, {\"actual\": 49036000.0, \"pred\": -70906271.27021867, \"resid\": 119942271.27021867}, {\"actual\": 755000000.0, \"pred\": 795503840.0659866, \"resid\": -40503840.06598663}, {\"actual\": 110829000.0, \"pred\": 309074444.9956848, \"resid\": -198245444.9956848}, {\"actual\": 1317289000.0, \"pred\": 1474381049.4517422, \"resid\": -157092049.45174217}, {\"actual\": 4465000000.0, \"pred\": 4240533007.68487, \"resid\": 224466992.31513023}, {\"actual\": 825000000.0, \"pred\": 772097602.6352172, \"resid\": 52902397.36478281}, {\"actual\": 934800000.0, \"pred\": 886888640.01266, \"resid\": 47911359.98733997}, {\"actual\": 30753000.0, \"pred\": 6559793.391882072, \"resid\": 24193206.608117927}, {\"actual\": 392861000.0, \"pred\": 415187121.1377123, \"resid\": -22326121.1377123}, {\"actual\": 925678000.0, \"pred\": 1131720055.1175814, \"resid\": -206042055.11758137}, {\"actual\": 3642000000.0, \"pred\": 4011684881.9044113, \"resid\": -369684881.9044113}, {\"actual\": 686471000.0, \"pred\": 662396991.0291797, \"resid\": 24074008.970820308}, {\"actual\": 408000000.0, \"pred\": 411442130.0828605, \"resid\": -3442130.0828605294}, {\"actual\": 137062000.0, \"pred\": 195458605.50782794, \"resid\": -58396605.50782794}, {\"actual\": 3978000000.0, \"pred\": 3869045650.85651, \"resid\": 108954349.14348984}, {\"actual\": 1890745000.0, \"pred\": 1792869131.4497128, \"resid\": 97875868.55028725}, {\"actual\": 155582000.0, \"pred\": -230744324.59311303, \"resid\": 386326324.59311306}, {\"actual\": 426738000.0, \"pred\": 433528952.3933378, \"resid\": -6790952.393337786}, {\"actual\": 75000.0, \"pred\": 42223498.18897985, \"resid\": -42148498.18897985}, {\"actual\": 6328000000.0, \"pred\": 7124292480.258539, \"resid\": -796292480.2585392}, {\"actual\": 2605000000.0, \"pred\": 4173590852.0661163, \"resid\": -1568590852.0661163}, {\"actual\": 934400000.0, \"pred\": 829633978.4016286, \"resid\": 104766021.59837139}, {\"actual\": 3147698000.0, \"pred\": 3122285105.7499495, \"resid\": 25412894.250050545}, {\"actual\": 591811000.0, \"pred\": 613456138.8606765, \"resid\": -21645138.860676527}, {\"actual\": 165188000.0, \"pred\": 168504611.35726738, \"resid\": -3316611.3572673798}, {\"actual\": 1238000000.0, \"pred\": 1200329385.6598728, \"resid\": 37670614.34012723}, {\"actual\": 118719000.0, \"pred\": 142976997.9728585, \"resid\": -24257997.97285849}, {\"actual\": 1011300000.0, \"pred\": 1107578049.673701, \"resid\": -96278049.67370105}, {\"actual\": 4448000000.0, \"pred\": 3878609928.8794703, \"resid\": 569390071.1205297}, {\"actual\": 759043000.0, \"pred\": 2076011554.490354, \"resid\": -1316968554.490354}, {\"actual\": 273575000.0, \"pred\": 328182882.59962374, \"resid\": -54607882.59962374}, {\"actual\": 22263000.0, \"pred\": -49821821.33016, \"resid\": 72084821.33015999}, {\"actual\": 85983000.0, \"pred\": 81900671.63318777, \"resid\": 4082328.366812229}, {\"actual\": 4375000000.0, \"pred\": 4801614868.5653515, \"resid\": -426614868.5653515}, {\"actual\": 304027000.0, \"pred\": 296458034.1906582, \"resid\": 7568965.809341788}, {\"actual\": 98213000.0, \"pred\": 95007941.29269749, \"resid\": 3205058.7073025107}, {\"actual\": 184559000.0, \"pred\": 161499283.1517689, \"resid\": 23059716.848231107}, {\"actual\": 178739000.0, \"pred\": 182189320.41829234, \"resid\": -3450320.4182923436}, {\"actual\": 188000000.0, \"pred\": 163563986.79209203, \"resid\": 24436013.207907975}, {\"actual\": 2204800000.0, \"pred\": 2051864888.1340828, \"resid\": 152935111.8659172}, {\"actual\": 587949000.0, \"pred\": 570308627.9116068, \"resid\": 17640372.08839321}, {\"actual\": 107680000.0, \"pred\": 111716694.34786166, \"resid\": -4036694.3478616625}, {\"actual\": 96057000.0, \"pred\": 110029986.38385455, \"resid\": -13972986.383854553}, {\"actual\": 698161000.0, \"pred\": 726252480.2429148, \"resid\": -28091480.242914796}, {\"actual\": 638983000.0, \"pred\": 677555525.8075649, \"resid\": -38572525.807564855}, {\"actual\": 1306000000.0, \"pred\": 1144954427.3269954, \"resid\": 161045572.67300463}, {\"actual\": 7754000000.0, \"pred\": 3453218887.3819976, \"resid\": 4300781112.618002}, {\"actual\": 1498459000.0, \"pred\": 1707936952.6331844, \"resid\": -209477952.63318443}, {\"actual\": 809000000.0, \"pred\": 767569673.7958541, \"resid\": 41430326.20414591}, {\"actual\": 98605000.0, \"pred\": 97231101.41715467, \"resid\": 1373898.5828453302}, {\"actual\": 185583000.0, \"pred\": 215795137.74585196, \"resid\": -30212137.745851964}, {\"actual\": 4053000000.0, \"pred\": 4263822757.7330394, \"resid\": -210822757.73303938}, {\"actual\": 2220602000.0, \"pred\": 1915261242.9665291, \"resid\": 305340757.03347087}, {\"actual\": 766500000.0, \"pred\": 791639097.127907, \"resid\": -25139097.127907038}, {\"actual\": 1833000000.0, \"pred\": 1925805608.014383, \"resid\": -92805608.01438308}, {\"actual\": 635042000.0, \"pred\": 486434129.7622473, \"resid\": 148607870.23775268}, {\"actual\": 3116000000.0, \"pred\": 2856800472.029047, \"resid\": 259199527.970953}, {\"actual\": 3284000000.0, \"pred\": 3087422387.2820992, \"resid\": 196577612.71790075}, {\"actual\": 156000000.0, \"pred\": 242615927.78453022, \"resid\": -86615927.78453022}, {\"actual\": 1259100000.0, \"pred\": 1340074403.2068102, \"resid\": -80974403.20681024}, {\"actual\": 362243000.0, \"pred\": 266625630.7516824, \"resid\": 95617369.2483176}, {\"actual\": 303308000.0, \"pred\": 265112283.8738275, \"resid\": 38195716.12617251}, {\"actual\": 528553000.0, \"pred\": 616683960.4473776, \"resid\": -88130960.44737756}, {\"actual\": 72046000.0, \"pred\": 128327132.70308512, \"resid\": -56281132.703085124}, {\"actual\": 2102400000.0, \"pred\": 2074519469.5362253, \"resid\": 27880530.46377468}, {\"actual\": 20930000000.0, \"pred\": 21749230596.90695, \"resid\": -819230596.9069519}, {\"actual\": 168299000.0, \"pred\": 142219921.08297315, \"resid\": 26079078.917026848}, {\"actual\": 567700000.0, \"pred\": 671560119.9480817, \"resid\": -103860119.94808173}, {\"actual\": 610778000.0, \"pred\": 647721056.4340726, \"resid\": -36943056.43407261}, {\"actual\": 282506000.0, \"pred\": 272415657.1576212, \"resid\": 10090342.842378795}, {\"actual\": 148709000.0, \"pred\": 163943725.4097811, \"resid\": -15234725.409781098}, {\"actual\": 664574000.0, \"pred\": 812164756.755728, \"resid\": -147590756.755728}, {\"actual\": 1258608000.0, \"pred\": 972563438.9371742, \"resid\": 286044561.0628258}, {\"actual\": 1384344000.0, \"pred\": 1443505926.6151557, \"resid\": -59161926.6151557}, {\"actual\": 2445000000.0, \"pred\": 1983780905.3175743, \"resid\": 461219094.68242574}, {\"actual\": 933307000.0, \"pred\": 1077029603.2033615, \"resid\": -143722603.2033615}, {\"actual\": 175527000.0, \"pred\": 156765043.9586114, \"resid\": 18761956.0413886}, {\"actual\": 905648000.0, \"pred\": 1037469441.9018946, \"resid\": -131821441.90189457}, {\"actual\": 110565000.0, \"pred\": -64756608.04373743, \"resid\": 175321608.0437374}, {\"actual\": 182366000.0, \"pred\": 205189269.15583494, \"resid\": -22823269.155834943}, {\"actual\": 4234064000.0, \"pred\": 5008181266.906577, \"resid\": -774117266.9065771}, {\"actual\": 1026100000.0, \"pred\": 981077646.3178519, \"resid\": 45022353.6821481}], \"data-6ca53b0489116cc71af97411d8f54860\": [{\"x\": -230744324.59311303, \"y\": -230744324.59311303}, {\"x\": 114400394491.02663, \"y\": 114400394491.02663}], \"data-68747a9ea82cfdf3b0ee25f0d7ed1d55\": [{\"x\": -230744324.59311303, \"y\": 114400394491.02663, \"label\": \"R\\u00b2 = 0.977\"}], \"data-a0a55d106695e8d630baff0f16eee66d\": [{\"y\": 0}]}}, {\"mode\": \"vega-lite\"});\n",
       "</script>"
      ],
      "text/plain": [
       "alt.HConcatChart(...)"
      ]
     },
     "execution_count": 36,
     "metadata": {},
     "output_type": "execute_result"
    }
   ],
   "source": [
    "# Data\n",
    "dfp = pd.DataFrame({\n",
    "    \"actual\": np.asarray(y_te_series, dtype=float),\n",
    "    \"pred\":   np.asarray(y_pred, dtype=float)\n",
    "})\n",
    "dfp[\"resid\"] = dfp[\"actual\"] - dfp[\"pred\"]  # residual = y - ŷ\n",
    "\n",
    "# R² for annotation\n",
    "r2 = r2_score(dfp[\"actual\"], dfp[\"pred\"])\n",
    "\n",
    "# ---------- Residuals vs Actual ----------\n",
    "res_scatter = alt.Chart(dfp).mark_circle(opacity=0.4,color='Magenta',size=60).encode(\n",
    "    x=alt.X(\"actual:Q\", title=\"Actual\", axis=alt.Axis(grid=False)),\n",
    "    y=alt.Y(\"resid:Q\",  title=\"Residual (y - ŷ)\", axis=alt.Axis(grid=False))\n",
    ").properties(width=500, height=300, title=\"Residuals vs Actual\")\n",
    "\n",
    "zero_line = alt.Chart(pd.DataFrame({\"y\":[0]})).mark_rule().encode(y=\"y:Q\")\n",
    "\n",
    "residuals_chart = res_scatter + zero_line\n",
    "\n",
    "# ---------- Predicted vs Actual with 45° line + R² ----------\n",
    "xy_min = float(min(dfp[\"actual\"].min(), dfp[\"pred\"].min()))\n",
    "xy_max = float(max(dfp[\"actual\"].max(), dfp[\"pred\"].max()))\n",
    "diag_df = pd.DataFrame({\"x\":[xy_min, xy_max], \"y\":[xy_min, xy_max]})\n",
    "\n",
    "scatter_xy = alt.Chart(dfp).mark_circle(opacity=0.4,color='Magenta',size=60).encode(\n",
    "    x=alt.X(\"actual:Q\", title=\"Actual\", axis=alt.Axis(grid=False)),\n",
    "    y=alt.Y(\"pred:Q\",   title=\"Predicted (ŷ)\", axis=alt.Axis(grid=False))\n",
    ").properties(width=500, height=300, title=\"Predicted vs Actual\")\n",
    "\n",
    "diag = alt.Chart(diag_df).mark_line(color='black').encode(x=\"x:Q\", y=\"y:Q\")\n",
    "\n",
    "# R² text placed near top-left\n",
    "annot_df = pd.DataFrame({\"x\":[xy_min], \"y\":[xy_max], \"label\":[f\"R² = {r2:.3f}\"]})\n",
    "r2_text = alt.Chart(annot_df).mark_text(align=\"left\", baseline=\"top\", dx=6, dy=6).encode(\n",
    "    x=\"x:Q\", y=\"y:Q\", text=\"label:N\"\n",
    ")\n",
    "\n",
    "pred_vs_actual_chart = scatter_xy + diag + r2_text\n",
    "\n",
    "(pred_vs_actual_chart | residuals_chart).configure_view(stroke=None)"
   ]
  }
 ],
 "metadata": {
  "kernelspec": {
   "display_name": "milestoneII",
   "language": "python",
   "name": "python3"
  },
  "language_info": {
   "codemirror_mode": {
    "name": "ipython",
    "version": 3
   },
   "file_extension": ".py",
   "mimetype": "text/x-python",
   "name": "python",
   "nbconvert_exporter": "python",
   "pygments_lexer": "ipython3",
   "version": "3.13.5"
  }
 },
 "nbformat": 4,
 "nbformat_minor": 5
}
