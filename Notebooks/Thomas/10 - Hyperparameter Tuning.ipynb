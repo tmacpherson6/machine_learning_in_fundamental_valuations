{
 "cells": [
  {
   "cell_type": "markdown",
   "id": "d8bb4794",
   "metadata": {},
   "source": [
    "#  Hyperparameter Tunning of Gradient Boosted Tree Model\n",
    "Based on our initial assessment of model families, it appears as though the ensemble techinques of decisions trees tends to significantly outperform all other models. In this section I am going to dive deeper into two of the ensemble techniques. Random Forest and Gradient Boosted Trees. We are going to use this notebook to accomplish multiple tasks."
   ]
  },
  {
   "cell_type": "markdown",
   "id": "71b6e57a",
   "metadata": {},
   "source": [
    "## Tasks\n",
    "1) Hyperparameter test using Grid Search Cross Validation to try and get better performance out of these ensemble techniques. (It could be that the baseline hyperparameters are already optimized but we will confirm this)\n",
    "2) Perform feature importance analysis using the decision tree (Mean-Decrease Impurity) to potentially improve our model\n",
    "3) Perform Ablation analysis to show decrease in performance when removing specific features  \n",
    "4) Conduct a failure analysis as to why certain companies perform poorly in our model (hypothesis are welcome)"
   ]
  },
  {
   "cell_type": "markdown",
   "id": "2ea9bfa3",
   "metadata": {},
   "source": [
    "## Import Libraries\n",
    "Let's start as we usually do by importing the libraries we will be using in this section."
   ]
  },
  {
   "cell_type": "code",
   "execution_count": 1,
   "id": "0f1c0170",
   "metadata": {},
   "outputs": [],
   "source": [
    "# Data Manipulation libraries\n",
    "import numpy as np\n",
    "import pandas as pd\n",
    "\n",
    "# Sci-Kit Learn Processing and Evaluating\n",
    "from sklearn.compose import ColumnTransformer, TransformedTargetRegressor\n",
    "from sklearn.model_selection import GridSearchCV, KFold, cross_validate\n",
    "from sklearn.pipeline import Pipeline\n",
    "from sklearn.preprocessing import OneHotEncoder\n",
    "from sklearn.metrics import mean_squared_error, mean_absolute_error, make_scorer, r2_score\n",
    "\n",
    "# Supervised Learning Models  \n",
    "from sklearn.dummy import DummyRegressor\n",
    "from sklearn.ensemble import RandomForestRegressor  \n",
    "from sklearn.ensemble import GradientBoostingRegressor\n",
    "\n",
    "\n",
    "# Visualization libraries\n",
    "import matplotlib.pyplot as plt\n",
    "import seaborn as sns\n",
    "import altair as alt\n",
    "\n",
    "# Let's set our Random State and k_folds here as well\n",
    "random_state = 42\n",
    "k_fold = 10"
   ]
  },
  {
   "cell_type": "markdown",
   "id": "17d5865a",
   "metadata": {},
   "source": [
    "## Import Data\n",
    "Okay, now that we are working on our true model we are going to import training and test data so that we can see how we do."
   ]
  },
  {
   "cell_type": "code",
   "execution_count": 2,
   "id": "b9c82c7e",
   "metadata": {},
   "outputs": [
    {
     "name": "stdout",
     "output_type": "stream",
     "text": [
      "(1910, 326) (1974, 19) (479, 326) (494, 19)\n"
     ]
    }
   ],
   "source": [
    "root_path = '../../datasets/'\n",
    "X_train_file = 'X_train_filled_KPIs_QoQ_PCA.csv'\n",
    "y_train_file = 'y_train.csv'\n",
    "X_test_file = 'X_test_filled_KPIs_QoQ_PCA.csv'\n",
    "y_test_file = 'y_test.csv'\n",
    "X_tr = pd.read_csv(root_path+X_train_file)\n",
    "y_tr = pd.read_csv(root_path+y_train_file)\n",
    "X_te = pd.read_csv(root_path+X_test_file)\n",
    "y_te = pd.read_csv(root_path+y_test_file)\n",
    "print(X_tr.shape, y_tr.shape,X_te.shape,y_te.shape)\n"
   ]
  },
  {
   "cell_type": "markdown",
   "id": "26f3ee7d",
   "metadata": {},
   "source": [
    "Once, again, we are dealing with these issues of abnormal numbers between the two datasets because we dropped data from the X_train and X_test file without addressing them in the y_files. So, let's go through and qualize both of these like we did in the previous notebooks."
   ]
  },
  {
   "cell_type": "code",
   "execution_count": 3,
   "id": "56b342c8",
   "metadata": {},
   "outputs": [
    {
     "name": "stdout",
     "output_type": "stream",
     "text": [
      "length of in_train set: 1910; length of in_test set: 479\n",
      "(1910, 19) (479, 19)\n"
     ]
    }
   ],
   "source": [
    "in_train = set(X_tr['Ticker'])\n",
    "in_test = set(X_te['Ticker'])\n",
    "y_tr = y_tr[y_tr['Ticker'].isin(in_train)].copy()\n",
    "y_te = y_te[y_te['Ticker'].isin(in_test)].copy()\n",
    "print(f\"length of in_train set: {len(in_train)}; length of in_test set: {len(in_test)}\")\n",
    "print(y_tr.shape,y_te.shape)"
   ]
  },
  {
   "cell_type": "code",
   "execution_count": 4,
   "id": "f5240df1",
   "metadata": {},
   "outputs": [
    {
     "name": "stdout",
     "output_type": "stream",
     "text": [
      "(1910, 3) (479, 3)\n",
      "(1388, 3) (344, 3)\n",
      "(1388, 326) (344, 326)\n",
      "(1388, 3) (344, 3)\n"
     ]
    }
   ],
   "source": [
    "y_tr = y_tr[['Ticker','Revenue_2025Q2','NetIncome_2025Q2']]\n",
    "y_te = y_te[['Ticker','Revenue_2025Q2','NetIncome_2025Q2']]\n",
    "print(y_tr.shape,y_te.shape)\n",
    "y_tr.dropna(inplace=True)\n",
    "y_te.dropna(inplace=True)\n",
    "print(y_tr.shape,y_te.shape)\n",
    "iny_tr = set(y_tr['Ticker'])\n",
    "iny_te = set(y_te['Ticker'])\n",
    "X_tr = X_tr[X_tr['Ticker'].isin(iny_tr)].copy()\n",
    "X_te = X_te[X_te['Ticker'].isin(iny_te)].copy()\n",
    "print(X_tr.shape, X_te.shape)\n",
    "print(y_tr.shape, y_te.shape)"
   ]
  },
  {
   "cell_type": "markdown",
   "id": "f41f0e48",
   "metadata": {},
   "source": [
    "Okay, we have now equated the two. Let's make sure they are both in the right order as well."
   ]
  },
  {
   "cell_type": "code",
   "execution_count": 5,
   "id": "cf53b0b9",
   "metadata": {},
   "outputs": [
    {
     "name": "stdout",
     "output_type": "stream",
     "text": [
      "1     HONE\n",
      "3     RBRK\n",
      "4      CSL\n",
      "5      BMI\n",
      "8     BLKB\n",
      "9     PARR\n",
      "11     CNH\n",
      "12     XEL\n",
      "14     NSA\n",
      "15     AIZ\n",
      "16     DKS\n",
      "17     PEG\n",
      "18      CI\n",
      "19      FG\n",
      "20    STRA\n",
      "21      MP\n",
      "23    ADCT\n",
      "25     PFE\n",
      "26    APPN\n",
      "27     WSR\n",
      "Name: Ticker, dtype: object\n",
      "1     HONE\n",
      "3     RBRK\n",
      "5      CSL\n",
      "6      BMI\n",
      "11    BLKB\n",
      "12    PARR\n",
      "15     CNH\n",
      "16     XEL\n",
      "18     NSA\n",
      "19     AIZ\n",
      "21     DKS\n",
      "22     PEG\n",
      "23      CI\n",
      "24      FG\n",
      "25    STRA\n",
      "26      MP\n",
      "28    ADCT\n",
      "30     PFE\n",
      "31    APPN\n",
      "32     WSR\n",
      "Name: Ticker, dtype: object\n"
     ]
    }
   ],
   "source": [
    "print(X_tr['Ticker'].head(20))\n",
    "print(y_tr['Ticker'].head(20))"
   ]
  },
  {
   "cell_type": "markdown",
   "id": "eafa7c13",
   "metadata": {},
   "source": [
    "## Hyperparameter Tuning\n",
    "Alright, now that we have all of our data imported and ready to go, it's time to setup the GridSearchCV in order to tune our hyper parameters. This is going to be slightly dependent on which model we are using so let's set up a different one for each the Random Forest (RF) and Gradient Boosting Trees (GBT). Interestingly, because Tree's don't need scaling, I am going to avoid much of the transformations that we did in the earlier notebook to see how we do on raw values. \n",
    "\n",
    "Random Forest Hyperparameters:\n",
    "- n_estimators  \n",
    "- max_depth  \n",
    "- min_samples_leaf  \n",
    "- min_samples_split  \n",
    "- max_features  \n",
    "- bootstrap  \n",
    "- max_samples\n",
    "\n",
    "Gradient Boosting Hyperparameters:  \n",
    "- learning_rate  \n",
    "- n_estimators  \n",
    "- max_depth  \n",
    "- min_samples_leaf  \n",
    "- min_samples_split  \n",
    "- max_features  \n",
    "- subsample  \n",
    "- loss  \n",
    "- validation_fraction  \n",
    "- n_iter_no_change  \n",
    "- tol"
   ]
  },
  {
   "cell_type": "markdown",
   "id": "855629b4",
   "metadata": {},
   "source": [
    "## Hyperparameter Tuning Pipeline\n",
    "Okay, now that we have defined all of that we can set up our pipeline to run through the hyperparameter tuning for us and see what is best. First, lets drop the name and ticker column as they won't provide anything useful in our datasets."
   ]
  },
  {
   "cell_type": "code",
   "execution_count": 6,
   "id": "f7c094ed",
   "metadata": {},
   "outputs": [],
   "source": [
    "# Drop the ticker and name columns so we don't explode the feature space unneccesarily\n",
    "X_tr.drop(columns=['Ticker','Name'],axis=1,inplace=True)\n",
    "X_te.drop(columns=['Ticker','Name'],axis=1,inplace=True)"
   ]
  },
  {
   "cell_type": "code",
   "execution_count": 7,
   "id": "2b807ba2",
   "metadata": {},
   "outputs": [],
   "source": [
    "## identify categorical columns using dtypes\n",
    "#cat_cols = [c for c in X_tr.columns if str(X_tr[c].dtype) in (\"object\", \"category\")]\n",
    "#pre = ColumnTransformer(\n",
    "#    [(\"cat\", OneHotEncoder(handle_unknown=\"ignore\"), cat_cols)],\n",
    "#    remainder=\"passthrough\",\n",
    "#)\n",
    "#\n",
    "## base pipeline for gridsearch\n",
    "#pipe = Pipeline([(\"pre\", pre),\n",
    "#                 (\"model\", RandomForestRegressor(random_state=random_state, n_jobs=-1))])\n",
    "#\n",
    "## Have a couple of different scorers for analyzing\n",
    "#def rmse(y_true, y_pred): return mean_squared_error(y_true, y_pred, squared=False)\n",
    "#rmse_s = make_scorer(rmse, greater_is_better=False)\n",
    "#mae_s  = make_scorer(mean_absolute_error, greater_is_better=False)\n",
    "#\n",
    "#scoring = {\"rmse\": rmse_s, \"mae\": mae_s, \"r2\": \"r2\"}\n",
    "#cv = KFold(n_splits=k_fold, shuffle=True, random_state=random_state)\n",
    "#\n",
    "## Create our grids for the gridsearch (including our two models)\n",
    "#gbt = GradientBoostingRegressor(random_state=random_state)\n",
    "#\n",
    "#gbt_grid = {\n",
    "#    \"model\": [gbt],\n",
    "#    \"model__learning_rate\": [0.07, 0.1, 0.15],\n",
    "#    \"model__n_estimators\": [100, 200, 500],\n",
    "#    \"model__max_depth\": [2, 3, 4],\n",
    "#    \"model__min_samples_leaf\": [1, 5, 20],\n",
    "#    \"model__min_samples_split\": [2, 10, 50],\n",
    "#    \"model__max_features\": [\"sqrt\", \"log2\", 0.3, 0.5, 0.7],\n",
    "#    \"model__subsample\": [0.6, 0.8, 1.0],\n",
    "#    \"model__loss\": [\"squared_error\", \"absolute_error\"],\n",
    "#}\n",
    "#\n",
    "## Run the gridsearch and we are going to choose best RMSE\n",
    "#grid = GridSearchCV(\n",
    "#    estimator=pipe,\n",
    "#    param_grid=[gbt_grid],\n",
    "#    scoring=scoring,\n",
    "#    refit=\"r2\",          \n",
    "#    cv=cv,\n",
    "#    n_jobs=-1,\n",
    "#    verbose=1,\n",
    "#    return_train_score=False,\n",
    "#)\n",
    "#\n",
    "#y_series = np.abs(y_tr[\"Revenue_2025Q2\"])\n",
    "#grid.fit(X_tr, y_series)\n",
    "#\n",
    "#print(\"Best params:\", grid.best_params_)\n",
    "#print(f\"Best R2: {grid.best_score_:.3f}\")"
   ]
  },
  {
   "cell_type": "markdown",
   "id": "9c587ec9",
   "metadata": {},
   "source": [
    "Alright, now that we have pulled out the Test set parameters: \n",
    "\n",
    "Best params: {'model': GradientBoostingRegressor(random_state=0), 'model__learning_rate': 0.15, 'model__loss': 'squared_error', 'model__max_depth': 3, 'model__max_features': 0.5, 'model__min_samples_leaf': 1, 'model__min_samples_split': 50, 'model__n_estimators': 200, 'model__subsample': 1.0}\n",
    "\n",
    "We can start to get all of the data from it."
   ]
  },
  {
   "cell_type": "code",
   "execution_count": 8,
   "id": "bacb1b73",
   "metadata": {},
   "outputs": [
    {
     "name": "stdout",
     "output_type": "stream",
     "text": [
      "\n",
      "Test set: {'RMSE': 1547342272.9154935, 'MAE': 386593985.2893442, 'R2': 0.9787956495132973}\n"
     ]
    },
    {
     "data": {
      "text/html": [
       "<div>\n",
       "<style scoped>\n",
       "    .dataframe tbody tr th:only-of-type {\n",
       "        vertical-align: middle;\n",
       "    }\n",
       "\n",
       "    .dataframe tbody tr th {\n",
       "        vertical-align: top;\n",
       "    }\n",
       "\n",
       "    .dataframe thead th {\n",
       "        text-align: right;\n",
       "    }\n",
       "</style>\n",
       "<table border=\"1\" class=\"dataframe\">\n",
       "  <thead>\n",
       "    <tr style=\"text-align: right;\">\n",
       "      <th></th>\n",
       "      <th>metric</th>\n",
       "      <th>mean</th>\n",
       "      <th>std</th>\n",
       "    </tr>\n",
       "  </thead>\n",
       "  <tbody>\n",
       "    <tr>\n",
       "      <th>0</th>\n",
       "      <td>RMSE</td>\n",
       "      <td>1.749359e+09</td>\n",
       "      <td>1.401309e+09</td>\n",
       "    </tr>\n",
       "    <tr>\n",
       "      <th>1</th>\n",
       "      <td>MAE</td>\n",
       "      <td>3.779795e+08</td>\n",
       "      <td>1.852431e+08</td>\n",
       "    </tr>\n",
       "    <tr>\n",
       "      <th>2</th>\n",
       "      <td>R2</td>\n",
       "      <td>9.665178e-01</td>\n",
       "      <td>2.525271e-02</td>\n",
       "    </tr>\n",
       "  </tbody>\n",
       "</table>\n",
       "</div>"
      ],
      "text/plain": [
       "  metric          mean           std\n",
       "0   RMSE  1.749359e+09  1.401309e+09\n",
       "1    MAE  3.779795e+08  1.852431e+08\n",
       "2     R2  9.665178e-01  2.525271e-02"
      ]
     },
     "execution_count": 8,
     "metadata": {},
     "output_type": "execute_result"
    }
   ],
   "source": [
    "# --- data columns ---\n",
    "cat_cols = ['Sector', 'Exchange', 'Market Cap']\n",
    "\n",
    "# y_tr_col/y_te_col are your revenue targets, e.g. 'Revenue_2025Q2'\n",
    "y_tr_series = np.abs(y_tr['Revenue_2025Q2'])\n",
    "y_te_series = np.abs(y_te['Revenue_2025Q2'])\n",
    "\n",
    "# --- preproc ---\n",
    "pre = ColumnTransformer(\n",
    "    [(\"cat\", OneHotEncoder(handle_unknown=\"ignore\"), cat_cols)],\n",
    "    remainder=\"passthrough\",\n",
    ")\n",
    "\n",
    "# --- tuned model ---\n",
    "gbr = GradientBoostingRegressor(\n",
    "    random_state=random_state,\n",
    "    learning_rate=0.15,\n",
    "    loss=\"squared_error\",\n",
    "    max_depth=3,\n",
    "    max_features=0.5,\n",
    "    min_samples_leaf=1,\n",
    "    min_samples_split=50,\n",
    "    n_estimators=200,\n",
    "    subsample=1.0,\n",
    ")\n",
    "\n",
    "pipe = Pipeline([(\"pre\", pre), (\"model\", gbr)])\n",
    "\n",
    "# \n",
    "cv = KFold(n_splits=k_fold, shuffle=True, random_state=random_state)\n",
    "\n",
    "\n",
    "\n",
    "scores = cross_validate(\n",
    "    pipe, X_tr, y_tr_series, cv=cv, n_jobs=-1, return_train_score=False,\n",
    "    scoring={\"rmse\": \"neg_root_mean_squared_error\",\n",
    "             \"mae\":  \"neg_mean_absolute_error\",\n",
    "             \"r2\":   \"r2\"},\n",
    "    error_score=\"raise\"   # surface any hidden exceptions\n",
    ")\n",
    "rmse_cv = -scores[\"test_rmse\"]\n",
    "mae_cv  = -scores[\"test_mae\"]\n",
    "r2_cv   =  scores[\"test_r2\"]\n",
    "\n",
    "cv_summary = pd.DataFrame({\n",
    "    \"metric\": [\"RMSE\",\"MAE\",\"R2\"],\n",
    "    \"mean\":   [np.round(rmse_cv.mean(),2), np.round(mae_cv.mean(),2), r2_cv.mean()],\n",
    "    \"std\":    [rmse_cv.std(ddof=1), mae_cv.std(ddof=1), r2_cv.std(ddof=1)],\n",
    "})\n",
    "\n",
    "# --- test-set metrics (single numbers) ---\n",
    "pipe.fit(X_tr, y_tr_series)\n",
    "y_pred = pipe.predict(X_te)\n",
    "\n",
    "rmse_test = np.sqrt(mean_squared_error(y_te_series, y_pred))  # RMSE\n",
    "mae_test  = mean_absolute_error(y_te_series, y_pred)\n",
    "r2_test   = r2_score(y_te_series, y_pred)\n",
    "\n",
    "test_summary = pd.Series({\"RMSE\": rmse_test, \"MAE\": mae_test, \"R2\": r2_test})\n",
    "\n",
    "\n",
    "print(\"\\nTest set:\", test_summary.to_dict())\n",
    "cv_summary\n",
    "\n"
   ]
  },
  {
   "cell_type": "markdown",
   "id": "96919c03",
   "metadata": {},
   "source": [
    "Alright now, let's calculate success rates for the test set."
   ]
  },
  {
   "cell_type": "code",
   "execution_count": 9,
   "id": "01c2e5cb",
   "metadata": {},
   "outputs": [
    {
     "name": "stdout",
     "output_type": "stream",
     "text": [
      "n_used            344.000000\n",
      "n_zero_actuals      0.000000\n",
      "≤10%                0.494186\n",
      "≤20%                0.750000\n",
      "≤40%                0.892442\n",
      "dtype: float64\n"
     ]
    }
   ],
   "source": [
    "def success_rates(y_true, y_pred, thresholds=(0.10, 0.20, 0.40)):\n",
    "    y_true = np.asarray(y_true, dtype=float)\n",
    "    y_pred = np.asarray(y_pred, dtype=float)\n",
    "\n",
    "    mask = y_true != 0  # avoid div-by-zero; report how many dropped\n",
    "    rel_err = np.empty_like(y_true, dtype=float)\n",
    "    rel_err[mask] = np.abs(y_pred[mask] - y_true[mask]) / np.abs(y_true[mask])\n",
    "    rel_err[~mask] = np.nan\n",
    "\n",
    "    out = {\"n_used\": int(mask.sum()), \"n_zero_actuals\": int((~mask).sum())}\n",
    "    for t in thresholds:\n",
    "        out[f\"≤{int(t*100)}%\"] = np.nanmean(rel_err <= t)\n",
    "    return pd.Series(out)\n",
    "\n",
    "# example\n",
    "rates = success_rates(y_te_series, y_pred)  # after you predict\n",
    "print(rates)"
   ]
  },
  {
   "cell_type": "markdown",
   "id": "7db1ea83",
   "metadata": {},
   "source": [
    "alright, this is pretty darn good. Let's plot everything to see what it looks like."
   ]
  },
  {
   "cell_type": "code",
   "execution_count": 10,
   "id": "960e8a68",
   "metadata": {},
   "outputs": [
    {
     "data": {
      "text/html": [
       "\n",
       "<style>\n",
       "  #altair-viz-dca32a0b51754a039e51260620cb8f0d.vega-embed {\n",
       "    width: 100%;\n",
       "    display: flex;\n",
       "  }\n",
       "\n",
       "  #altair-viz-dca32a0b51754a039e51260620cb8f0d.vega-embed details,\n",
       "  #altair-viz-dca32a0b51754a039e51260620cb8f0d.vega-embed details summary {\n",
       "    position: relative;\n",
       "  }\n",
       "</style>\n",
       "<div id=\"altair-viz-dca32a0b51754a039e51260620cb8f0d\"></div>\n",
       "<script type=\"text/javascript\">\n",
       "  var VEGA_DEBUG = (typeof VEGA_DEBUG == \"undefined\") ? {} : VEGA_DEBUG;\n",
       "  (function(spec, embedOpt){\n",
       "    let outputDiv = document.currentScript.previousElementSibling;\n",
       "    if (outputDiv.id !== \"altair-viz-dca32a0b51754a039e51260620cb8f0d\") {\n",
       "      outputDiv = document.getElementById(\"altair-viz-dca32a0b51754a039e51260620cb8f0d\");\n",
       "    }\n",
       "\n",
       "    const paths = {\n",
       "      \"vega\": \"https://cdn.jsdelivr.net/npm/vega@5?noext\",\n",
       "      \"vega-lib\": \"https://cdn.jsdelivr.net/npm/vega-lib?noext\",\n",
       "      \"vega-lite\": \"https://cdn.jsdelivr.net/npm/vega-lite@5.20.1?noext\",\n",
       "      \"vega-embed\": \"https://cdn.jsdelivr.net/npm/vega-embed@6?noext\",\n",
       "    };\n",
       "\n",
       "    function maybeLoadScript(lib, version) {\n",
       "      var key = `${lib.replace(\"-\", \"\")}_version`;\n",
       "      return (VEGA_DEBUG[key] == version) ?\n",
       "        Promise.resolve(paths[lib]) :\n",
       "        new Promise(function(resolve, reject) {\n",
       "          var s = document.createElement('script');\n",
       "          document.getElementsByTagName(\"head\")[0].appendChild(s);\n",
       "          s.async = true;\n",
       "          s.onload = () => {\n",
       "            VEGA_DEBUG[key] = version;\n",
       "            return resolve(paths[lib]);\n",
       "          };\n",
       "          s.onerror = () => reject(`Error loading script: ${paths[lib]}`);\n",
       "          s.src = paths[lib];\n",
       "        });\n",
       "    }\n",
       "\n",
       "    function showError(err) {\n",
       "      outputDiv.innerHTML = `<div class=\"error\" style=\"color:red;\">${err}</div>`;\n",
       "      throw err;\n",
       "    }\n",
       "\n",
       "    function displayChart(vegaEmbed) {\n",
       "      vegaEmbed(outputDiv, spec, embedOpt)\n",
       "        .catch(err => showError(`Javascript Error: ${err.message}<br>This usually means there's a typo in your chart specification. See the javascript console for the full traceback.`));\n",
       "    }\n",
       "\n",
       "    if(typeof define === \"function\" && define.amd) {\n",
       "      requirejs.config({paths});\n",
       "      let deps = [\"vega-embed\"];\n",
       "      require(deps, displayChart, err => showError(`Error loading script: ${err.message}`));\n",
       "    } else {\n",
       "      maybeLoadScript(\"vega\", \"5\")\n",
       "        .then(() => maybeLoadScript(\"vega-lite\", \"5.20.1\"))\n",
       "        .then(() => maybeLoadScript(\"vega-embed\", \"6\"))\n",
       "        .catch(showError)\n",
       "        .then(() => displayChart(vegaEmbed));\n",
       "    }\n",
       "  })({\"config\": {\"view\": {\"continuousWidth\": 300, \"continuousHeight\": 300, \"stroke\": null}}, \"hconcat\": [{\"layer\": [{\"data\": {\"name\": \"data-7e3c9d66d493adf941d5245a9271dc06\"}, \"mark\": {\"type\": \"circle\", \"color\": \"Magenta\", \"opacity\": 0.4, \"size\": 60}, \"encoding\": {\"x\": {\"axis\": {\"grid\": false}, \"field\": \"actual\", \"title\": \"Actual\", \"type\": \"quantitative\"}, \"y\": {\"axis\": {\"grid\": false}, \"field\": \"pred\", \"title\": \"Predicted (\\u0177)\", \"type\": \"quantitative\"}}, \"title\": \"Predicted vs Actual\"}, {\"data\": {\"name\": \"data-93460a9b3b9da7e619a53a76cd476123\"}, \"mark\": {\"type\": \"line\", \"color\": \"black\"}, \"encoding\": {\"x\": {\"field\": \"x\", \"type\": \"quantitative\"}, \"y\": {\"field\": \"y\", \"type\": \"quantitative\"}}}, {\"data\": {\"name\": \"data-acee39eb8a4850bd0fe0fc5470a28ffb\"}, \"mark\": {\"type\": \"text\", \"align\": \"left\", \"baseline\": \"top\", \"dx\": 6, \"dy\": 6}, \"encoding\": {\"text\": {\"field\": \"label\", \"type\": \"nominal\"}, \"x\": {\"field\": \"x\", \"type\": \"quantitative\"}, \"y\": {\"field\": \"y\", \"type\": \"quantitative\"}}}], \"height\": 300, \"width\": 500}, {\"layer\": [{\"data\": {\"name\": \"data-7e3c9d66d493adf941d5245a9271dc06\"}, \"mark\": {\"type\": \"circle\", \"color\": \"Magenta\", \"opacity\": 0.4, \"size\": 60}, \"encoding\": {\"x\": {\"axis\": {\"grid\": false}, \"field\": \"actual\", \"title\": \"Actual\", \"type\": \"quantitative\"}, \"y\": {\"axis\": {\"grid\": false}, \"field\": \"resid\", \"title\": \"Residual (y - \\u0177)\", \"type\": \"quantitative\"}}, \"title\": \"Residuals vs Actual\"}, {\"data\": {\"name\": \"data-a0a55d106695e8d630baff0f16eee66d\"}, \"mark\": {\"type\": \"rule\"}, \"encoding\": {\"y\": {\"field\": \"y\", \"type\": \"quantitative\"}}}], \"height\": 300, \"width\": 500}], \"$schema\": \"https://vega.github.io/schema/vega-lite/v5.20.1.json\", \"datasets\": {\"data-7e3c9d66d493adf941d5245a9271dc06\": [{\"actual\": 1267140000.0, \"pred\": 1447603063.6594841, \"resid\": -180463063.65948415}, {\"actual\": 232088000.0, \"pred\": 191198393.96995422, \"resid\": 40889606.03004578}, {\"actual\": 255546000.0, \"pred\": 276692990.1634255, \"resid\": -21146990.163425505}, {\"actual\": 273929000.0, \"pred\": 280926128.10903496, \"resid\": -6997128.1090349555}, {\"actual\": 61812000.0, \"pred\": 65507405.34891905, \"resid\": -3695405.348919049}, {\"actual\": 6740000000.0, \"pred\": 9113539877.829556, \"resid\": -2373539877.8295555}, {\"actual\": 731696000.0, \"pred\": 655682364.9589041, \"resid\": 76013635.04109585}, {\"actual\": 1838000000.0, \"pred\": 1927154420.5189974, \"resid\": -89154420.51899743}, {\"actual\": 1224730000.0, \"pred\": 1229076877.2330973, \"resid\": -4346877.233097315}, {\"actual\": 72319000.0, \"pred\": 41032703.165947534, \"resid\": 31286296.834052466}, {\"actual\": 352524000.0, \"pred\": 275265600.01346797, \"resid\": 77258399.98653203}, {\"actual\": 81796000.0, \"pred\": 81464776.17582215, \"resid\": 331223.8241778463}, {\"actual\": 79182000.0, \"pred\": 82208948.32115251, \"resid\": -3026948.3211525083}, {\"actual\": 269217000.0, \"pred\": 285515902.97257656, \"resid\": -16298902.972576559}, {\"actual\": 2764600000.0, \"pred\": 2721975691.7155037, \"resid\": 42624308.28449631}, {\"actual\": 15604000000.0, \"pred\": 16794184870.969246, \"resid\": -1190184870.969246}, {\"actual\": 164317000.0, \"pred\": 144889855.1524414, \"resid\": 19427144.847558588}, {\"actual\": 57562000.0, \"pred\": 58808412.09776696, \"resid\": -1246412.0977669582}, {\"actual\": 606900000.0, \"pred\": 728762686.9997301, \"resid\": -121862686.99973011}, {\"actual\": 2651885000.0, \"pred\": 3126981382.795349, \"resid\": -475096382.7953491}, {\"actual\": 94027000.0, \"pred\": -17367987.539689068, \"resid\": 111394987.53968906}, {\"actual\": 5899600000.0, \"pred\": 5932741633.2734785, \"resid\": -33141633.273478508}, {\"actual\": 3248000000.0, \"pred\": 2448571546.9300146, \"resid\": 799428453.0699854}, {\"actual\": 2802100000.0, \"pred\": 2348222248.8061423, \"resid\": 453877751.19385767}, {\"actual\": 490212000.0, \"pred\": 478582684.87214184, \"resid\": 11629315.127858162}, {\"actual\": 542503000.0, \"pred\": 507041789.5347965, \"resid\": 35461210.46520352}, {\"actual\": 14245000.0, \"pred\": -23921338.840359326, \"resid\": 38166338.84035933}, {\"actual\": 1059000000.0, \"pred\": 1239670036.8827887, \"resid\": -180670036.88278866}, {\"actual\": 1045712000.0, \"pred\": 1113448916.4008255, \"resid\": -67736916.4008255}, {\"actual\": 634690000.0, \"pred\": 608486709.7995119, \"resid\": 26203290.20048809}, {\"actual\": 323919000.0, \"pred\": 233876066.8229929, \"resid\": 90042933.17700711}, {\"actual\": 336579000.0, \"pred\": 318410420.1966663, \"resid\": 18168579.8033337}, {\"actual\": 1275441000.0, \"pred\": 1300314689.8011265, \"resid\": -24873689.80112648}, {\"actual\": 390633000.0, \"pred\": 418871217.03851914, \"resid\": -28238217.038519144}, {\"actual\": 70211000.0, \"pred\": 88553791.34401445, \"resid\": -18342791.34401445}, {\"actual\": 7887000000.0, \"pred\": 6800057955.839776, \"resid\": 1086942044.160224}, {\"actual\": 311399000.0, \"pred\": 313236717.3092368, \"resid\": -1837717.3092368245}, {\"actual\": 18605000000.0, \"pred\": 22584189488.241657, \"resid\": -3979189488.2416573}, {\"actual\": 157109000.0, \"pred\": 121898611.61326678, \"resid\": 35210388.38673322}, {\"actual\": 400395000.0, \"pred\": 373437587.5863098, \"resid\": 26957412.41369021}, {\"actual\": 630000000.0, \"pred\": 635384475.2404629, \"resid\": -5384475.240462899}, {\"actual\": 18155000000.0, \"pred\": 21702493208.269558, \"resid\": -3547493208.269558}, {\"actual\": 115097000.0, \"pred\": 51103374.72350434, \"resid\": 63993625.27649566}, {\"actual\": 282677000.0, \"pred\": 219464817.5347653, \"resid\": 63212182.4652347}, {\"actual\": 230225000.0, \"pred\": 276236267.75611883, \"resid\": -46011267.756118834}, {\"actual\": 2237000000.0, \"pred\": 1742328390.7829084, \"resid\": 494671609.21709156}, {\"actual\": 1236300000.0, \"pred\": 1489356312.7553635, \"resid\": -253056312.75536346}, {\"actual\": 130159000.0, \"pred\": 138754675.83892843, \"resid\": -8595675.838928431}, {\"actual\": 614180000.0, \"pred\": 716473241.3694135, \"resid\": -102293241.3694135}, {\"actual\": 3544705000.0, \"pred\": 3741292642.4482727, \"resid\": -196587642.4482727}, {\"actual\": 44375000000.0, \"pred\": 48735769837.28, \"resid\": -4360769837.279999}, {\"actual\": 142241000.0, \"pred\": 134656250.27994737, \"resid\": 7584749.72005263}, {\"actual\": 96428000000.0, \"pred\": 96326970281.66367, \"resid\": 101029718.33633423}, {\"actual\": 9812000000.0, \"pred\": 10152788243.302074, \"resid\": -340788243.30207443}, {\"actual\": 493853000.0, \"pred\": 434039179.82350546, \"resid\": 59813820.17649454}, {\"actual\": 825800000.0, \"pred\": 836896463.1381707, \"resid\": -11096463.13817072}, {\"actual\": 179886000.0, \"pred\": 131922266.32208236, \"resid\": 47963733.677917644}, {\"actual\": 3574000000.0, \"pred\": 3630080544.785466, \"resid\": -56080544.785466194}, {\"actual\": 780370000.0, \"pred\": 823019584.0699029, \"resid\": -42649584.0699029}, {\"actual\": 158661000.0, \"pred\": 157260044.24558562, \"resid\": 1400955.7544143796}, {\"actual\": 114084000.0, \"pred\": 135693031.95605192, \"resid\": -21609031.956051916}, {\"actual\": 457106000.0, \"pred\": 482572391.64632267, \"resid\": -25466391.646322668}, {\"actual\": 811085000.0, \"pred\": 723104367.7435403, \"resid\": 87980632.25645971}, {\"actual\": 317884000.0, \"pred\": 288613945.06412745, \"resid\": 29270054.935872555}, {\"actual\": 6052000000.0, \"pred\": 5204829918.374573, \"resid\": 847170081.6254272}, {\"actual\": 210992000.0, \"pred\": 242630410.63588384, \"resid\": -31638410.635883838}, {\"actual\": 370900000.0, \"pred\": 359843384.2732022, \"resid\": 11056615.72679782}, {\"actual\": 342345000.0, \"pred\": 296839583.8860297, \"resid\": 45505416.11397028}, {\"actual\": 694039000.0, \"pred\": 750661872.1687804, \"resid\": -56622872.168780446}, {\"actual\": 8699000.0, \"pred\": -3738629.4683362884, \"resid\": 12437629.468336288}, {\"actual\": 544833000.0, \"pred\": 577510576.9346776, \"resid\": -32677576.9346776}, {\"actual\": 55487000.0, \"pred\": 85136361.6880881, \"resid\": -29649361.688088104}, {\"actual\": 212500000.0, \"pred\": 205555324.1966103, \"resid\": 6944675.803389698}, {\"actual\": 6700000000.0, \"pred\": 6450384412.19611, \"resid\": 249615587.80389023}, {\"actual\": 101766000.0, \"pred\": 92711625.48812626, \"resid\": 9054374.511873737}, {\"actual\": 21166000000.0, \"pred\": 22647935834.830788, \"resid\": -1481935834.8307877}, {\"actual\": 705973000.0, \"pred\": 744210779.3517102, \"resid\": -38237779.3517102}, {\"actual\": 1975948000.0, \"pred\": 1380562148.8713522, \"resid\": 595385851.1286478}, {\"actual\": 1107250000.0, \"pred\": 1088841442.8138824, \"resid\": 18408557.18611765}, {\"actual\": 170025000.0, \"pred\": 194895721.82010138, \"resid\": -24870721.82010138}, {\"actual\": 2739077000.0, \"pred\": 3803535049.635162, \"resid\": -1064458049.6351619}, {\"actual\": 6286000.0, \"pred\": 79599508.69403335, \"resid\": -73313508.69403335}, {\"actual\": 1034906000.0, \"pred\": 1043965468.6425562, \"resid\": -9059468.64255619}, {\"actual\": 1730113000.0, \"pred\": 1844220726.4730659, \"resid\": -114107726.47306585}, {\"actual\": 458491000.0, \"pred\": 477823102.7633001, \"resid\": -19332102.76330012}, {\"actual\": 4250000000.0, \"pred\": 5102774532.052631, \"resid\": -852774532.0526314}, {\"actual\": 97827000000.0, \"pred\": 98597204283.6341, \"resid\": -770204283.6340942}, {\"actual\": 212802000.0, \"pred\": 133993738.96541329, \"resid\": 78808261.03458671}, {\"actual\": 1877000000.0, \"pred\": 1723253094.2520769, \"resid\": 153746905.74792314}, {\"actual\": 36276000.0, \"pred\": 66432505.17710885, \"resid\": -30156505.177108847}, {\"actual\": 913000000.0, \"pred\": 1098225542.0035388, \"resid\": -185225542.00353885}, {\"actual\": 375090000.0, \"pred\": 420875402.52778804, \"resid\": -45785402.52778804}, {\"actual\": 12535000000.0, \"pred\": 12235746891.448364, \"resid\": 299253108.55163574}, {\"actual\": 151296000.0, \"pred\": 99299361.47022322, \"resid\": 51996638.52977678}, {\"actual\": 1219000000.0, \"pred\": 1376242953.130784, \"resid\": -157242953.13078403}, {\"actual\": 54069000.0, \"pred\": 57455712.29951755, \"resid\": -3386712.2995175496}, {\"actual\": 549014000.0, \"pred\": 513473301.3365436, \"resid\": 35540698.66345638}, {\"actual\": 468844000.0, \"pred\": 490417867.4624995, \"resid\": -21573867.4624995}, {\"actual\": 68549000.0, \"pred\": 82411254.23327291, \"resid\": -13862254.23327291}, {\"actual\": 177286000.0, \"pred\": 222639994.00090373, \"resid\": -45353994.000903726}, {\"actual\": 1407724000.0, \"pred\": 1327730656.737406, \"resid\": 79993343.26259398}, {\"actual\": 202256000.0, \"pred\": 145986617.63538685, \"resid\": 56269382.364613146}, {\"actual\": 1512054000.0, \"pred\": 1470642169.067749, \"resid\": 41411830.93225098}, {\"actual\": 205500000.0, \"pred\": 250849458.30246234, \"resid\": -45349458.30246234}, {\"actual\": 2781800000.0, \"pred\": 2775466776.7164583, \"resid\": 6333223.283541679}, {\"actual\": 965000000.0, \"pred\": 1062101797.1693894, \"resid\": -97101797.16938937}, {\"actual\": 3063393000.0, \"pred\": 3068210624.756874, \"resid\": -4817624.7568740845}, {\"actual\": 392000000.0, \"pred\": 370503264.0802718, \"resid\": 21496735.91972822}, {\"actual\": 772600000.0, \"pred\": 1004495410.9535923, \"resid\": -231895410.9535923}, {\"actual\": 999527000.0, \"pred\": 1021665129.1781503, \"resid\": -22138129.178150296}, {\"actual\": 1890000000.0, \"pred\": 1969539237.5125456, \"resid\": -79539237.51254559}, {\"actual\": 667100000.0, \"pred\": 753993656.4063303, \"resid\": -86893656.40633035}, {\"actual\": 442122000.0, \"pred\": 385743236.1128571, \"resid\": 56378763.8871429}, {\"actual\": 272169000.0, \"pred\": 272090259.0850441, \"resid\": 78740.91495591402}, {\"actual\": 529000000.0, \"pred\": 555496134.6372074, \"resid\": -26496134.63720739}, {\"actual\": 973000000.0, \"pred\": 1147497262.0108087, \"resid\": -174497262.0108087}, {\"actual\": 3022700000.0, \"pred\": 2588231270.846852, \"resid\": 434468729.1531482}, {\"actual\": 73551000.0, \"pred\": 90252316.11693318, \"resid\": -16701316.116933182}, {\"actual\": 52758000.0, \"pred\": 61190861.226995334, \"resid\": -8432861.226995334}, {\"actual\": 454000000.0, \"pred\": 987732921.7197344, \"resid\": -533732921.71973443}, {\"actual\": 7554000.0, \"pred\": 57617732.61815762, \"resid\": -50063732.61815762}, {\"actual\": 91684000.0, \"pred\": 120151533.85523103, \"resid\": -28467533.85523103}, {\"actual\": 23650000000.0, \"pred\": 22521717689.27936, \"resid\": 1128282310.7206383}, {\"actual\": 3862000000.0, \"pred\": 3734718642.1402264, \"resid\": 127281357.85977364}, {\"actual\": 88715000.0, \"pred\": 102328271.11586265, \"resid\": -13613271.115862653}, {\"actual\": 186878000.0, \"pred\": 204881935.075562, \"resid\": -18003935.075562}, {\"actual\": 2065400000.0, \"pred\": 1976154142.849859, \"resid\": 89245857.150141}, {\"actual\": 154138000.0, \"pred\": 269586410.86587113, \"resid\": -115448410.86587113}, {\"actual\": 308971000.0, \"pred\": 288268184.915674, \"resid\": 20702815.08432603}, {\"actual\": 1550000000.0, \"pred\": 1303650074.1973956, \"resid\": 246349925.80260444}, {\"actual\": 1341000000.0, \"pred\": 989543535.2611804, \"resid\": 351456464.7388196}, {\"actual\": 112097000.0, \"pred\": 134131057.10938723, \"resid\": -22034057.109387234}, {\"actual\": 2924000000.0, \"pred\": 3132513873.1370573, \"resid\": -208513873.1370573}, {\"actual\": 2428427000.0, \"pred\": 2116444306.8989384, \"resid\": 311982693.1010616}, {\"actual\": 339492000.0, \"pred\": 316421266.9509213, \"resid\": 23070733.049078703}, {\"actual\": 5171393000.0, \"pred\": 4287595679.323117, \"resid\": 883797320.6768832}, {\"actual\": 181330000.0, \"pred\": 179768622.68596435, \"resid\": 1561377.314035654}, {\"actual\": 209583000.0, \"pred\": 236665494.46328384, \"resid\": -27082494.463283837}, {\"actual\": 6767000000.0, \"pred\": 5138371067.374573, \"resid\": 1628628932.6254272}, {\"actual\": 2147203000.0, \"pred\": 2366842502.0836873, \"resid\": -219639502.0836873}, {\"actual\": 40153000.0, \"pred\": 170360180.7543321, \"resid\": -130207180.7543321}, {\"actual\": 613413000.0, \"pred\": 523470780.7492112, \"resid\": 89942219.25078881}, {\"actual\": 114488000.0, \"pred\": 19023770389.936157, \"resid\": -18909282389.936157}, {\"actual\": 436000000.0, \"pred\": 393693325.5279344, \"resid\": 42306674.47206563}, {\"actual\": 411000000.0, \"pred\": 511365646.883324, \"resid\": -100365646.88332403}, {\"actual\": 6250100000.0, \"pred\": 7226704698.832882, \"resid\": -976604698.8328819}, {\"actual\": 171794000.0, \"pred\": 183009408.6281184, \"resid\": -11215408.628118396}, {\"actual\": 149544000.0, \"pred\": 142648242.64279717, \"resid\": 6895757.357202828}, {\"actual\": 6113000000.0, \"pred\": 5563737678.411886, \"resid\": 549262321.5881138}, {\"actual\": 3835025000.0, \"pred\": 4185933245.1042013, \"resid\": -350908245.1042013}, {\"actual\": 21995000000.0, \"pred\": 21794681123.786446, \"resid\": 200318876.21355438}, {\"actual\": 366700000.0, \"pred\": 414777537.60913754, \"resid\": -48077537.609137535}, {\"actual\": 579000000.0, \"pred\": 485043043.0410205, \"resid\": 93956956.95897949}, {\"actual\": 940100000.0, \"pred\": 960370872.1824443, \"resid\": -20270872.182444334}, {\"actual\": 518800000.0, \"pred\": 540457890.0864388, \"resid\": -21657890.086438775}, {\"actual\": 6784000000.0, \"pred\": 6834626073.409058, \"resid\": -50626073.40905762}, {\"actual\": 20569000000.0, \"pred\": 22044077157.36011, \"resid\": -1475077157.3601112}, {\"actual\": 45118000000.0, \"pred\": 33274213305.502693, \"resid\": 11843786694.497307}, {\"actual\": 10739000.0, \"pred\": 15791314.881605173, \"resid\": -5052314.8816051725}, {\"actual\": 275050000.0, \"pred\": 211267458.6290862, \"resid\": 63782541.3709138}, {\"actual\": 319240000.0, \"pred\": 295728615.8166512, \"resid\": 23511384.183348775}, {\"actual\": 875700000.0, \"pred\": 862655986.0564337, \"resid\": 13044013.943566322}, {\"actual\": 681401000.0, \"pred\": 700509172.1804878, \"resid\": -19108172.180487752}, {\"actual\": 698509000.0, \"pred\": 698442254.8447801, \"resid\": 66745.15521991253}, {\"actual\": 6430000000.0, \"pred\": 6695563003.254211, \"resid\": -265563003.25421143}, {\"actual\": 194430000.0, \"pred\": 174812421.70062372, \"resid\": 19617578.29937628}, {\"actual\": 12577000000.0, \"pred\": 10592084708.231964, \"resid\": 1984915291.768036}, {\"actual\": 1457700000.0, \"pred\": 1526051035.2041867, \"resid\": -68351035.20418668}, {\"actual\": 1511392000.0, \"pred\": 1543158485.3284166, \"resid\": -31766485.328416586}, {\"actual\": 807000000.0, \"pred\": 836156805.7131467, \"resid\": -29156805.713146687}, {\"actual\": 577200000.0, \"pred\": 502057230.70022434, \"resid\": 75142769.29977566}, {\"actual\": 833830000.0, \"pred\": 740495077.7455784, \"resid\": 93334922.25442159}, {\"actual\": 126479000.0, \"pred\": 132063818.99166648, \"resid\": -5584818.991666481}, {\"actual\": 5510000000.0, \"pred\": 5788913836.6881695, \"resid\": -278913836.6881695}, {\"actual\": 1188000000.0, \"pred\": 1078628586.7234254, \"resid\": 109371413.27657461}, {\"actual\": 72358000.0, \"pred\": 93357135.01186016, \"resid\": -20999135.011860162}, {\"actual\": 2614718000.0, \"pred\": 3091457439.9820037, \"resid\": -476739439.9820037}, {\"actual\": 10104000000.0, \"pred\": 10776999542.316448, \"resid\": -672999542.3164482}, {\"actual\": 76441000000.0, \"pred\": 66573267954.437004, \"resid\": 9867732045.562996}, {\"actual\": 771332000.0, \"pred\": 769545058.1513257, \"resid\": 1786941.8486742973}, {\"actual\": 562254000.0, \"pred\": 534783966.2706004, \"resid\": 27470033.72939962}, {\"actual\": 483400000.0, \"pred\": 438553564.0920179, \"resid\": 44846435.90798211}, {\"actual\": 2964700000.0, \"pred\": 3273418092.6207204, \"resid\": -308718092.6207204}, {\"actual\": 2706000000.0, \"pred\": 2343276087.7011886, \"resid\": 362723912.29881144}, {\"actual\": 2077300000.0, \"pred\": 1843426379.4085405, \"resid\": 233873620.5914595}, {\"actual\": 152640000.0, \"pred\": 528486850.2065536, \"resid\": -375846850.2065536}, {\"actual\": 764039000.0, \"pred\": 803717160.7523503, \"resid\": -39678160.75235033}, {\"actual\": 4410857000.0, \"pred\": 4306884520.140648, \"resid\": 103972479.85935211}, {\"actual\": 1420893000.0, \"pred\": 1181648330.2859426, \"resid\": 239244669.71405745}, {\"actual\": 6843000000.0, \"pred\": 7014918252.287254, \"resid\": -171918252.28725433}, {\"actual\": 3342000000.0, \"pred\": 3752702517.5263686, \"resid\": -410702517.5263686}, {\"actual\": 282749000.0, \"pred\": 296569240.6408785, \"resid\": -13820240.640878499}, {\"actual\": 1353443000.0, \"pred\": 1171198073.6447742, \"resid\": 182244926.3552258}, {\"actual\": 2848367000.0, \"pred\": 2147914543.3879895, \"resid\": 700452456.6120105}, {\"actual\": 1906400000.0, \"pred\": -68760601.3219306, \"resid\": 1975160601.3219306}, {\"actual\": 1420500000.0, \"pred\": 1482844070.0245197, \"resid\": -62344070.02451968}, {\"actual\": 2019984000.0, \"pred\": 1884515075.735998, \"resid\": 135468924.26400208}, {\"actual\": 202800000.0, \"pred\": 191683602.8511181, \"resid\": 11116397.148881912}, {\"actual\": 407537000.0, \"pred\": 293573168.70749855, \"resid\": 113963831.29250145}, {\"actual\": 252434000.0, \"pred\": 298795017.0030888, \"resid\": -46361017.00308877}, {\"actual\": 33799000000.0, \"pred\": 33564296224.058258, \"resid\": 234703775.94174194}, {\"actual\": 167911000.0, \"pred\": 175623538.82207248, \"resid\": -7712538.822072476}, {\"actual\": 185544000.0, \"pred\": 212660929.7124819, \"resid\": -27116929.712481886}, {\"actual\": 115501000.0, \"pred\": 103494331.23879729, \"resid\": 12006668.761202708}, {\"actual\": 1930707000.0, \"pred\": 1810732071.5097442, \"resid\": 119974928.49025583}, {\"actual\": 26195000.0, \"pred\": 33749949.241928555, \"resid\": -7554949.241928555}, {\"actual\": 58879000.0, \"pred\": 58101871.93467922, \"resid\": 777128.0653207824}, {\"actual\": 3786000000.0, \"pred\": 3232852256.0297475, \"resid\": 553147743.9702525}, {\"actual\": 172209000.0, \"pred\": 229647272.93910772, \"resid\": -57438272.939107716}, {\"actual\": 330844000.0, \"pred\": 353250292.50756705, \"resid\": -22406292.507567048}, {\"actual\": 10854000000.0, \"pred\": 10607917173.676655, \"resid\": 246082826.32334518}, {\"actual\": 2144000000.0, \"pred\": 1977672675.531085, \"resid\": 166327324.468915}, {\"actual\": 112059000.0, \"pred\": 105145816.10612793, \"resid\": 6913183.893872067}, {\"actual\": 671992000.0, \"pred\": 723811761.8719239, \"resid\": -51819761.87192392}, {\"actual\": 773500000.0, \"pred\": 726939395.5826691, \"resid\": 46560604.41733086}, {\"actual\": 1215529000.0, \"pred\": 1151958136.07496, \"resid\": 63570863.92504001}, {\"actual\": 15717000.0, \"pred\": 617621344.1464, \"resid\": -601904344.1464}, {\"actual\": 71531000.0, \"pred\": 84073424.4332546, \"resid\": -12542424.4332546}, {\"actual\": 6054457000.0, \"pred\": 6778734793.497774, \"resid\": -724277793.4977741}, {\"actual\": 1686454000.0, \"pred\": 1580033711.5914311, \"resid\": 106420288.40856886}, {\"actual\": 80663532000.0, \"pred\": 71019029140.0172, \"resid\": 9644502859.982803}, {\"actual\": 1201094000.0, \"pred\": 1328689600.6000423, \"resid\": -127595600.60004234}, {\"actual\": 58393000.0, \"pred\": 101716821.42414495, \"resid\": -43323821.42414495}, {\"actual\": 127785000.0, \"pred\": 121088875.01863004, \"resid\": 6696124.981369957}, {\"actual\": 1784530000.0, \"pred\": 1399243993.167757, \"resid\": 385286006.83224297}, {\"actual\": 17176000000.0, \"pred\": 21509313456.941765, \"resid\": -4333313456.941765}, {\"actual\": 444328000.0, \"pred\": 643476964.2594993, \"resid\": -199148964.2594993}, {\"actual\": 102018000.0, \"pred\": 276797894.72247523, \"resid\": -174779894.72247523}, {\"actual\": 1303000000.0, \"pred\": 1494490994.1825464, \"resid\": -191490994.18254638}, {\"actual\": 3686000000.0, \"pred\": 1569598698.1928413, \"resid\": 2116401301.8071587}, {\"actual\": 6798000000.0, \"pred\": 6351866541.174627, \"resid\": 446133458.8253727}, {\"actual\": 676237000.0, \"pred\": 711493295.5955961, \"resid\": -35256295.595596075}, {\"actual\": 1503800000.0, \"pred\": 1539184226.3356047, \"resid\": -35384226.33560467}, {\"actual\": 14583000000.0, \"pred\": 15836611721.613323, \"resid\": -1253611721.6133232}, {\"actual\": 22726000000.0, \"pred\": 23017703937.207504, \"resid\": -291703937.2075043}, {\"actual\": 274760000.0, \"pred\": 277668105.450968, \"resid\": -2908105.450968027}, {\"actual\": 239240000.0, \"pred\": 431952544.6148176, \"resid\": -192712544.61481762}, {\"actual\": 302854000.0, \"pred\": 275494510.0579912, \"resid\": 27359489.942008793}, {\"actual\": 2080000000.0, \"pred\": 1899500903.0424523, \"resid\": 180499096.95754766}, {\"actual\": 1283000000.0, \"pred\": 1582623617.8486943, \"resid\": -299623617.8486943}, {\"actual\": 65210000.0, \"pred\": 68573998.26288998, \"resid\": -3363998.2628899813}, {\"actual\": 512971000.0, \"pred\": 498285370.37814105, \"resid\": 14685629.621858954}, {\"actual\": 197344000.0, \"pred\": 190807285.0106886, \"resid\": 6536714.989311397}, {\"actual\": 1313000.0, \"pred\": 13401733.696098866, \"resid\": -12088733.696098866}, {\"actual\": 66816000.0, \"pred\": 95495702.49813917, \"resid\": -28679702.498139173}, {\"actual\": 2173319000.0, \"pred\": 1913742137.4291878, \"resid\": 259576862.57081223}, {\"actual\": 214169000.0, \"pred\": 238855612.90590328, \"resid\": -24686612.90590328}, {\"actual\": 2953000000.0, \"pred\": 3253539302.582965, \"resid\": -300539302.5829649}, {\"actual\": 443402000.0, \"pred\": 461216577.8710984, \"resid\": -17814577.8710984}, {\"actual\": 135700000.0, \"pred\": 215510320.32630748, \"resid\": -79810320.32630748}, {\"actual\": 1020600000.0, \"pred\": 1145282550.5539098, \"resid\": -124682550.55390978}, {\"actual\": 266604000.0, \"pred\": 270601615.1602496, \"resid\": -3997615.160249591}, {\"actual\": 1437000000.0, \"pred\": 1420469832.6642818, \"resid\": 16530167.335718155}, {\"actual\": 966009000.0, \"pred\": 1066970747.337274, \"resid\": -100961747.33727396}, {\"actual\": 179045000.0, \"pred\": 201745758.9519915, \"resid\": -22700758.9519915}, {\"actual\": 1000724000.0, \"pred\": 1108216330.0274315, \"resid\": -107492330.02743149}, {\"actual\": 211371000.0, \"pred\": 468361679.81943053, \"resid\": -256990679.81943053}, {\"actual\": 216906000.0, \"pred\": 221983033.4580885, \"resid\": -5077033.458088487}, {\"actual\": 300732000.0, \"pred\": 285719280.32454044, \"resid\": 15012719.675459564}, {\"actual\": 1308877000.0, \"pred\": 1018542322.4999666, \"resid\": 290334677.5000334}, {\"actual\": 502420000.0, \"pred\": 591911166.0902792, \"resid\": -89491166.09027922}, {\"actual\": 358900000.0, \"pred\": 311691677.6830149, \"resid\": 47208322.31698507}, {\"actual\": 49036000.0, \"pred\": -341629195.1438578, \"resid\": 390665195.1438578}, {\"actual\": 755000000.0, \"pred\": 750592965.6853476, \"resid\": 4407034.314652443}, {\"actual\": 110829000.0, \"pred\": 597898312.5980306, \"resid\": -487069312.59803057}, {\"actual\": 1317289000.0, \"pred\": 1460579296.3159075, \"resid\": -143290296.31590748}, {\"actual\": 4465000000.0, \"pred\": 4284081112.7072067, \"resid\": 180918887.29279327}, {\"actual\": 825000000.0, \"pred\": 676866351.7675471, \"resid\": 148133648.23245287}, {\"actual\": 934800000.0, \"pred\": 715577670.783691, \"resid\": 219222329.21630895}, {\"actual\": 30753000.0, \"pred\": 3425034.518425773, \"resid\": 27327965.481574226}, {\"actual\": 392861000.0, \"pred\": 380500742.6241445, \"resid\": 12360257.375855505}, {\"actual\": 925678000.0, \"pred\": 998320866.4494822, \"resid\": -72642866.4494822}, {\"actual\": 3642000000.0, \"pred\": 3981755613.9015284, \"resid\": -339755613.90152836}, {\"actual\": 686471000.0, \"pred\": 607142057.3276441, \"resid\": 79328942.67235589}, {\"actual\": 408000000.0, \"pred\": 420423721.74301994, \"resid\": -12423721.743019938}, {\"actual\": 137062000.0, \"pred\": 158503589.93206778, \"resid\": -21441589.93206778}, {\"actual\": 3978000000.0, \"pred\": 3811570486.0212164, \"resid\": 166429513.9787836}, {\"actual\": 1890745000.0, \"pred\": 1755331420.4588592, \"resid\": 135413579.5411408}, {\"actual\": 155582000.0, \"pred\": 66406668.74781513, \"resid\": 89175331.25218487}, {\"actual\": 426738000.0, \"pred\": 418790913.2342106, \"resid\": 7947086.76578939}, {\"actual\": 75000.0, \"pred\": 32010734.539193537, \"resid\": -31935734.539193537}, {\"actual\": 6328000000.0, \"pred\": 7064092739.937073, \"resid\": -736092739.9370728}, {\"actual\": 2605000000.0, \"pred\": 4172209492.414916, \"resid\": -1567209492.414916}, {\"actual\": 934400000.0, \"pred\": 803483309.9638728, \"resid\": 130916690.03612721}, {\"actual\": 3147698000.0, \"pred\": 3034633594.5009904, \"resid\": 113064405.49900961}, {\"actual\": 591811000.0, \"pred\": 574875572.4576917, \"resid\": 16935427.54230833}, {\"actual\": 165188000.0, \"pred\": 139645632.44132298, \"resid\": 25542367.558677018}, {\"actual\": 1238000000.0, \"pred\": 1204960550.74672, \"resid\": 33039449.253279924}, {\"actual\": 118719000.0, \"pred\": 109272859.79967348, \"resid\": 9446140.200326517}, {\"actual\": 1011300000.0, \"pred\": 1092913721.6437547, \"resid\": -81613721.64375472}, {\"actual\": 4448000000.0, \"pred\": 4118709791.7233753, \"resid\": 329290208.2766247}, {\"actual\": 759043000.0, \"pred\": 1889008215.3360734, \"resid\": -1129965215.3360734}, {\"actual\": 273575000.0, \"pred\": 284054313.57443464, \"resid\": -10479313.574434638}, {\"actual\": 22263000.0, \"pred\": -16274120.64825386, \"resid\": 38537120.64825386}, {\"actual\": 85983000.0, \"pred\": 107950919.36055453, \"resid\": -21967919.36055453}, {\"actual\": 4375000000.0, \"pred\": 4593271636.295442, \"resid\": -218271636.29544163}, {\"actual\": 304027000.0, \"pred\": 269866272.40306133, \"resid\": 34160727.59693867}, {\"actual\": 98213000.0, \"pred\": 99459664.2933618, \"resid\": -1246664.293361798}, {\"actual\": 184559000.0, \"pred\": 189811156.32028535, \"resid\": -5252156.32028535}, {\"actual\": 178739000.0, \"pred\": 192587361.01256213, \"resid\": -13848361.012562126}, {\"actual\": 188000000.0, \"pred\": 219245500.33040524, \"resid\": -31245500.330405235}, {\"actual\": 2204800000.0, \"pred\": 2149372778.2119174, \"resid\": 55427221.7880826}, {\"actual\": 587949000.0, \"pred\": 539303369.4380032, \"resid\": 48645630.56199682}, {\"actual\": 107680000.0, \"pred\": 82822223.98155531, \"resid\": 24857776.018444687}, {\"actual\": 96057000.0, \"pred\": 99667045.40113093, \"resid\": -3610045.4011309296}, {\"actual\": 698161000.0, \"pred\": 740836549.6211017, \"resid\": -42675549.62110174}, {\"actual\": 638983000.0, \"pred\": 729177197.8155934, \"resid\": -90194197.81559336}, {\"actual\": 1306000000.0, \"pred\": 1147757844.238823, \"resid\": 158242155.76117706}, {\"actual\": 7754000000.0, \"pred\": 3490186222.002147, \"resid\": 4263813777.997853}, {\"actual\": 1498459000.0, \"pred\": 1569193154.8407419, \"resid\": -70734154.84074187}, {\"actual\": 809000000.0, \"pred\": 727322964.518415, \"resid\": 81677035.48158503}, {\"actual\": 98605000.0, \"pred\": 106205080.06104034, \"resid\": -7600080.061040342}, {\"actual\": 185583000.0, \"pred\": 190492130.7274408, \"resid\": -4909130.727440804}, {\"actual\": 4053000000.0, \"pred\": 4028524345.8715367, \"resid\": 24475654.12846327}, {\"actual\": 2220602000.0, \"pred\": 1828850573.396832, \"resid\": 391751426.603168}, {\"actual\": 766500000.0, \"pred\": 778487015.6761495, \"resid\": -11987015.676149487}, {\"actual\": 1833000000.0, \"pred\": 1892741606.5498464, \"resid\": -59741606.54984641}, {\"actual\": 635042000.0, \"pred\": 498785713.7080696, \"resid\": 136256286.29193038}, {\"actual\": 3116000000.0, \"pred\": 2733567681.486468, \"resid\": 382432318.51353216}, {\"actual\": 3284000000.0, \"pred\": 3166257814.602079, \"resid\": 117742185.39792109}, {\"actual\": 156000000.0, \"pred\": 271877628.2357932, \"resid\": -115877628.23579317}, {\"actual\": 1259100000.0, \"pred\": 1310846115.4937387, \"resid\": -51746115.49373865}, {\"actual\": 362243000.0, \"pred\": 296414228.7521264, \"resid\": 65828771.247873604}, {\"actual\": 303308000.0, \"pred\": 268409071.56128561, \"resid\": 34898928.438714385}, {\"actual\": 528553000.0, \"pred\": 690288845.8896534, \"resid\": -161735845.88965344}, {\"actual\": 72046000.0, \"pred\": 5154876.666846182, \"resid\": 66891123.333153814}, {\"actual\": 2102400000.0, \"pred\": 2195442441.6015387, \"resid\": -93042441.60153866}, {\"actual\": 20930000000.0, \"pred\": 21647708772.311962, \"resid\": -717708772.3119621}, {\"actual\": 168299000.0, \"pred\": 129052619.33880064, \"resid\": 39246380.66119936}, {\"actual\": 567700000.0, \"pred\": 624852788.3822906, \"resid\": -57152788.3822906}, {\"actual\": 610778000.0, \"pred\": 635081385.4656076, \"resid\": -24303385.465607643}, {\"actual\": 282506000.0, \"pred\": 354585519.41578805, \"resid\": -72079519.41578805}, {\"actual\": 148709000.0, \"pred\": 136706947.55971357, \"resid\": 12002052.440286428}, {\"actual\": 664574000.0, \"pred\": 666021647.7614179, \"resid\": -1447647.7614178658}, {\"actual\": 1258608000.0, \"pred\": 975455313.9650196, \"resid\": 283152686.0349804}, {\"actual\": 1384344000.0, \"pred\": 1358981644.4657834, \"resid\": 25362355.534216642}, {\"actual\": 2445000000.0, \"pred\": 1872079906.5126436, \"resid\": 572920093.4873564}, {\"actual\": 933307000.0, \"pred\": 1069490079.6430221, \"resid\": -136183079.64302206}, {\"actual\": 175527000.0, \"pred\": 245203116.19931322, \"resid\": -69676116.19931322}, {\"actual\": 905648000.0, \"pred\": 1027471845.4453977, \"resid\": -121823845.44539773}, {\"actual\": 110565000.0, \"pred\": 97707229.47409207, \"resid\": 12857770.525907934}, {\"actual\": 182366000.0, \"pred\": 188818771.35451713, \"resid\": -6452771.354517132}, {\"actual\": 4234064000.0, \"pred\": 5016645581.022815, \"resid\": -782581581.0228148}, {\"actual\": 1026100000.0, \"pred\": 1029335312.7596769, \"resid\": -3235312.7596769333}], \"data-93460a9b3b9da7e619a53a76cd476123\": [{\"x\": -341629195.1438578, \"y\": -341629195.1438578}, {\"x\": 98597204283.6341, \"y\": 98597204283.6341}], \"data-acee39eb8a4850bd0fe0fc5470a28ffb\": [{\"x\": -341629195.1438578, \"y\": 98597204283.6341, \"label\": \"R\\u00b2 = 0.979\"}], \"data-a0a55d106695e8d630baff0f16eee66d\": [{\"y\": 0}]}}, {\"mode\": \"vega-lite\"});\n",
       "</script>"
      ],
      "text/plain": [
       "alt.HConcatChart(...)"
      ]
     },
     "execution_count": 10,
     "metadata": {},
     "output_type": "execute_result"
    }
   ],
   "source": [
    "# Data\n",
    "dfp = pd.DataFrame({\n",
    "    \"actual\": np.asarray(y_te_series, dtype=float),\n",
    "    \"pred\":   np.asarray(y_pred, dtype=float)\n",
    "})\n",
    "dfp[\"resid\"] = dfp[\"actual\"] - dfp[\"pred\"]  # residual = y - ŷ\n",
    "\n",
    "# R² for annotation\n",
    "r2 = r2_score(dfp[\"actual\"], dfp[\"pred\"])\n",
    "\n",
    "# ---------- Residuals vs Actual ----------\n",
    "res_scatter = alt.Chart(dfp).mark_circle(opacity=0.4,color='Magenta',size=60).encode(\n",
    "    x=alt.X(\"actual:Q\", title=\"Actual\", axis=alt.Axis(grid=False)),\n",
    "    y=alt.Y(\"resid:Q\",  title=\"Residual (y - ŷ)\", axis=alt.Axis(grid=False))\n",
    ").properties(width=500, height=300, title=\"Residuals vs Actual\")\n",
    "\n",
    "zero_line = alt.Chart(pd.DataFrame({\"y\":[0]})).mark_rule().encode(y=\"y:Q\")\n",
    "\n",
    "residuals_chart = res_scatter + zero_line\n",
    "\n",
    "# ---------- Predicted vs Actual with 45° line + R² ----------\n",
    "xy_min = float(min(dfp[\"actual\"].min(), dfp[\"pred\"].min()))\n",
    "xy_max = float(max(dfp[\"actual\"].max(), dfp[\"pred\"].max()))\n",
    "diag_df = pd.DataFrame({\"x\":[xy_min, xy_max], \"y\":[xy_min, xy_max]})\n",
    "\n",
    "scatter_xy = alt.Chart(dfp).mark_circle(opacity=0.4,color='Magenta',size=60).encode(\n",
    "    x=alt.X(\"actual:Q\", title=\"Actual\", axis=alt.Axis(grid=False)),\n",
    "    y=alt.Y(\"pred:Q\",   title=\"Predicted (ŷ)\", axis=alt.Axis(grid=False))\n",
    ").properties(width=500, height=300, title=\"Predicted vs Actual\")\n",
    "\n",
    "diag = alt.Chart(diag_df).mark_line(color='black').encode(x=\"x:Q\", y=\"y:Q\")\n",
    "\n",
    "# R² text placed near top-left\n",
    "annot_df = pd.DataFrame({\"x\":[xy_min], \"y\":[xy_max], \"label\":[f\"R² = {r2:.3f}\"]})\n",
    "r2_text = alt.Chart(annot_df).mark_text(align=\"left\", baseline=\"top\", dx=6, dy=6).encode(\n",
    "    x=\"x:Q\", y=\"y:Q\", text=\"label:N\"\n",
    ")\n",
    "\n",
    "pred_vs_actual_chart = scatter_xy + diag + r2_text\n",
    "\n",
    "(pred_vs_actual_chart | residuals_chart).configure_view(stroke=None)"
   ]
  }
 ],
 "metadata": {
  "kernelspec": {
   "display_name": "milestoneII",
   "language": "python",
   "name": "python3"
  },
  "language_info": {
   "codemirror_mode": {
    "name": "ipython",
    "version": 3
   },
   "file_extension": ".py",
   "mimetype": "text/x-python",
   "name": "python",
   "nbconvert_exporter": "python",
   "pygments_lexer": "ipython3",
   "version": "3.13.5"
  }
 },
 "nbformat": 4,
 "nbformat_minor": 5
}
