{
 "cells": [
  {
   "cell_type": "code",
   "execution_count": 184,
   "id": "bafc36db",
   "metadata": {},
   "outputs": [],
   "source": [
    "# Data Manipulation libraries\n",
    "import numpy as np\n",
    "import pandas as pd\n",
    "\n",
    "# Sci-Kit Learn Processing and Evaluating\n",
    "from sklearn.compose import ColumnTransformer\n",
    "from sklearn.model_selection import KFold, cross_val_score\n",
    "from sklearn.pipeline import Pipeline\n",
    "from sklearn.preprocessing import OneHotEncoder, StandardScaler, QuantileTransformer\n",
    "\n",
    "\n",
    "# Supervised Learning Models  \n",
    "from sklearn.dummy import DummyRegressor\n",
    "from sklearn.linear_model import LinearRegression \n",
    "from sklearn.linear_model import Ridge\n",
    "from sklearn.linear_model import Lasso  \n",
    "from sklearn.linear_model import ElasticNet\n",
    "from sklearn.tree import DecisionTreeRegressor  \n",
    "from sklearn.neighbors import KNeighborsRegressor \n",
    "from sklearn.svm import SVR  \n",
    "from sklearn.ensemble import RandomForestRegressor  \n",
    "from sklearn.ensemble import GradientBoostingRegressor\n",
    "from sklearn.ensemble import ExtraTreesRegressor\n",
    "from sklearn.ensemble import AdaBoostRegressor\n",
    "from sklearn.neural_network import MLPRegressor\n",
    "\n",
    "# Visualization libraries\n",
    "import matplotlib.pyplot as plt\n",
    "import seaborn as sns\n",
    "import altair as alt\n",
    "\n",
    "# Let's set our Random State here as well\n",
    "random_state = 9"
   ]
  },
  {
   "cell_type": "code",
   "execution_count": null,
   "id": "5a773065",
   "metadata": {},
   "outputs": [
    {
     "name": "stdout",
     "output_type": "stream",
     "text": [
      "(1910, 265) (1974, 19) (1450, 287)\n"
     ]
    }
   ],
   "source": [
    "root_path = '../../datasets/'\n",
    "X_train_file = 'X_train_filled_KPIs_QoQ_PCA.csv'\n",
    "y_train_file = 'y_train.csv'\n",
    "X_old = 'train_1003.csv'\n",
    "X = pd.read_csv(root_path+X_train_file)\n",
    "y = pd.read_csv(root_path+y_train_file)\n",
    "old = pd.read_csv(root_path+X_old)\n",
    "print(X.shape, y.shape, old.shape)\n",
    "\n"
   ]
  },
  {
   "cell_type": "code",
   "execution_count": 186,
   "id": "043719e8",
   "metadata": {},
   "outputs": [
    {
     "data": {
      "text/html": [
       "<div>\n",
       "<style scoped>\n",
       "    .dataframe tbody tr th:only-of-type {\n",
       "        vertical-align: middle;\n",
       "    }\n",
       "\n",
       "    .dataframe tbody tr th {\n",
       "        vertical-align: top;\n",
       "    }\n",
       "\n",
       "    .dataframe thead th {\n",
       "        text-align: right;\n",
       "    }\n",
       "</style>\n",
       "<table border=\"1\" class=\"dataframe\">\n",
       "  <thead>\n",
       "    <tr style=\"text-align: right;\">\n",
       "      <th></th>\n",
       "      <th>Ticker</th>\n",
       "      <th>Name</th>\n",
       "      <th>Sector</th>\n",
       "      <th>CapitalExpenditure_2024Q2</th>\n",
       "      <th>CapitalExpenditure_2024Q3</th>\n",
       "      <th>CapitalExpenditure_2024Q4</th>\n",
       "      <th>CapitalExpenditure_2025Q1</th>\n",
       "      <th>CashAndSTInvestments_2024Q2</th>\n",
       "      <th>CashAndSTInvestments_2024Q3</th>\n",
       "      <th>CashAndSTInvestments_2024Q4</th>\n",
       "      <th>...</th>\n",
       "      <th>KPI_TotalAssetTurnover_Rate</th>\n",
       "      <th>KPI_GrossProfitMargin_Rate</th>\n",
       "      <th>NetIncome_Rate</th>\n",
       "      <th>InterestExpense_Rate</th>\n",
       "      <th>CurrentAssets_Rate</th>\n",
       "      <th>LongTermDebt_Rate</th>\n",
       "      <th>TotalEquity_Rate</th>\n",
       "      <th>KPI_Leverage_Rate</th>\n",
       "      <th>Revenue_Rate</th>\n",
       "      <th>IncomeTaxExpense_Rate</th>\n",
       "    </tr>\n",
       "  </thead>\n",
       "  <tbody>\n",
       "    <tr>\n",
       "      <th>0</th>\n",
       "      <td>ACIW</td>\n",
       "      <td>ACI WORLDWIDE INC</td>\n",
       "      <td>Information Technology</td>\n",
       "      <td>-3777000.0</td>\n",
       "      <td>-4045500.0</td>\n",
       "      <td>-4663500.0</td>\n",
       "      <td>-4112000.0</td>\n",
       "      <td>1.851080e+08</td>\n",
       "      <td>1.970750e+08</td>\n",
       "      <td>188364000.0</td>\n",
       "      <td>...</td>\n",
       "      <td>-0.003947</td>\n",
       "      <td>0.015100</td>\n",
       "      <td>-759200.0</td>\n",
       "      <td>34750.0</td>\n",
       "      <td>7.415600e+06</td>\n",
       "      <td>18436000.0</td>\n",
       "      <td>1.731235e+07</td>\n",
       "      <td>0.026378</td>\n",
       "      <td>3923100.0</td>\n",
       "      <td>-277950.0</td>\n",
       "    </tr>\n",
       "    <tr>\n",
       "      <th>1</th>\n",
       "      <td>HONE</td>\n",
       "      <td>HARBORONE BANCORP INC</td>\n",
       "      <td>Financials</td>\n",
       "      <td>-220000.0</td>\n",
       "      <td>-569000.0</td>\n",
       "      <td>-339000.0</td>\n",
       "      <td>-208000.0</td>\n",
       "      <td>2.350620e+08</td>\n",
       "      <td>2.242790e+08</td>\n",
       "      <td>231071000.0</td>\n",
       "      <td>...</td>\n",
       "      <td>-0.000070</td>\n",
       "      <td>0.000000</td>\n",
       "      <td>-42500.0</td>\n",
       "      <td>-1234200.0</td>\n",
       "      <td>9.490765e+06</td>\n",
       "      <td>-89428400.0</td>\n",
       "      <td>-1.327700e+06</td>\n",
       "      <td>-0.026218</td>\n",
       "      <td>-290200.0</td>\n",
       "      <td>-30400.0</td>\n",
       "    </tr>\n",
       "    <tr>\n",
       "      <th>2</th>\n",
       "      <td>REPL</td>\n",
       "      <td>REPLIMUNE GROUP INC</td>\n",
       "      <td>Health Care</td>\n",
       "      <td>-1618000.0</td>\n",
       "      <td>-1114000.0</td>\n",
       "      <td>-2266000.0</td>\n",
       "      <td>-1503000.0</td>\n",
       "      <td>8.278500e+07</td>\n",
       "      <td>7.524700e+07</td>\n",
       "      <td>78303500.0</td>\n",
       "      <td>...</td>\n",
       "      <td>0.007640</td>\n",
       "      <td>-0.040655</td>\n",
       "      <td>2600350.0</td>\n",
       "      <td>32650.0</td>\n",
       "      <td>-4.396650e+06</td>\n",
       "      <td>-2281000.0</td>\n",
       "      <td>3.049210e+07</td>\n",
       "      <td>-0.164635</td>\n",
       "      <td>3422350.0</td>\n",
       "      <td>-8850.0</td>\n",
       "    </tr>\n",
       "    <tr>\n",
       "      <th>3</th>\n",
       "      <td>RBRK</td>\n",
       "      <td>RUBRIK INC CLASS A</td>\n",
       "      <td>Information Technology</td>\n",
       "      <td>-15766000.0</td>\n",
       "      <td>-4929000.0</td>\n",
       "      <td>-7527000.0</td>\n",
       "      <td>-8401000.0</td>\n",
       "      <td>4.293020e+08</td>\n",
       "      <td>1.423490e+08</td>\n",
       "      <td>103896000.0</td>\n",
       "      <td>...</td>\n",
       "      <td>0.069558</td>\n",
       "      <td>0.078404</td>\n",
       "      <td>-58974600.0</td>\n",
       "      <td>28700.0</td>\n",
       "      <td>-2.287530e+08</td>\n",
       "      <td>-334860250.0</td>\n",
       "      <td>-1.030123e+09</td>\n",
       "      <td>-1.456054</td>\n",
       "      <td>-174352950.0</td>\n",
       "      <td>-7468150.0</td>\n",
       "    </tr>\n",
       "    <tr>\n",
       "      <th>4</th>\n",
       "      <td>CSL</td>\n",
       "      <td>CARLISLE COMPANIES INC</td>\n",
       "      <td>Industrials</td>\n",
       "      <td>-24900000.0</td>\n",
       "      <td>-19300000.0</td>\n",
       "      <td>-36600000.0</td>\n",
       "      <td>-29000000.0</td>\n",
       "      <td>1.736300e+09</td>\n",
       "      <td>1.530600e+09</td>\n",
       "      <td>753500000.0</td>\n",
       "      <td>...</td>\n",
       "      <td>-0.003726</td>\n",
       "      <td>-0.014521</td>\n",
       "      <td>-178880000.0</td>\n",
       "      <td>-1330000.0</td>\n",
       "      <td>-5.846600e+08</td>\n",
       "      <td>1010000.0</td>\n",
       "      <td>-2.813000e+08</td>\n",
       "      <td>0.084583</td>\n",
       "      <td>-127510000.0</td>\n",
       "      <td>-19280000.0</td>\n",
       "    </tr>\n",
       "  </tbody>\n",
       "</table>\n",
       "<p>5 rows × 265 columns</p>\n",
       "</div>"
      ],
      "text/plain": [
       "  Ticker                    Name                  Sector  \\\n",
       "0   ACIW       ACI WORLDWIDE INC  Information Technology   \n",
       "1   HONE   HARBORONE BANCORP INC              Financials   \n",
       "2   REPL     REPLIMUNE GROUP INC             Health Care   \n",
       "3   RBRK      RUBRIK INC CLASS A  Information Technology   \n",
       "4    CSL  CARLISLE COMPANIES INC             Industrials   \n",
       "\n",
       "   CapitalExpenditure_2024Q2  CapitalExpenditure_2024Q3  \\\n",
       "0                 -3777000.0                 -4045500.0   \n",
       "1                  -220000.0                  -569000.0   \n",
       "2                 -1618000.0                 -1114000.0   \n",
       "3                -15766000.0                 -4929000.0   \n",
       "4                -24900000.0                -19300000.0   \n",
       "\n",
       "   CapitalExpenditure_2024Q4  CapitalExpenditure_2025Q1  \\\n",
       "0                 -4663500.0                 -4112000.0   \n",
       "1                  -339000.0                  -208000.0   \n",
       "2                 -2266000.0                 -1503000.0   \n",
       "3                 -7527000.0                 -8401000.0   \n",
       "4                -36600000.0                -29000000.0   \n",
       "\n",
       "   CashAndSTInvestments_2024Q2  CashAndSTInvestments_2024Q3  \\\n",
       "0                 1.851080e+08                 1.970750e+08   \n",
       "1                 2.350620e+08                 2.242790e+08   \n",
       "2                 8.278500e+07                 7.524700e+07   \n",
       "3                 4.293020e+08                 1.423490e+08   \n",
       "4                 1.736300e+09                 1.530600e+09   \n",
       "\n",
       "   CashAndSTInvestments_2024Q4  ...  KPI_TotalAssetTurnover_Rate  \\\n",
       "0                  188364000.0  ...                    -0.003947   \n",
       "1                  231071000.0  ...                    -0.000070   \n",
       "2                   78303500.0  ...                     0.007640   \n",
       "3                  103896000.0  ...                     0.069558   \n",
       "4                  753500000.0  ...                    -0.003726   \n",
       "\n",
       "   KPI_GrossProfitMargin_Rate  NetIncome_Rate  InterestExpense_Rate  \\\n",
       "0                    0.015100       -759200.0               34750.0   \n",
       "1                    0.000000        -42500.0            -1234200.0   \n",
       "2                   -0.040655       2600350.0               32650.0   \n",
       "3                    0.078404     -58974600.0               28700.0   \n",
       "4                   -0.014521    -178880000.0            -1330000.0   \n",
       "\n",
       "   CurrentAssets_Rate  LongTermDebt_Rate  TotalEquity_Rate  KPI_Leverage_Rate  \\\n",
       "0        7.415600e+06         18436000.0      1.731235e+07           0.026378   \n",
       "1        9.490765e+06        -89428400.0     -1.327700e+06          -0.026218   \n",
       "2       -4.396650e+06         -2281000.0      3.049210e+07          -0.164635   \n",
       "3       -2.287530e+08       -334860250.0     -1.030123e+09          -1.456054   \n",
       "4       -5.846600e+08          1010000.0     -2.813000e+08           0.084583   \n",
       "\n",
       "   Revenue_Rate  IncomeTaxExpense_Rate  \n",
       "0     3923100.0              -277950.0  \n",
       "1     -290200.0               -30400.0  \n",
       "2     3422350.0                -8850.0  \n",
       "3  -174352950.0             -7468150.0  \n",
       "4  -127510000.0            -19280000.0  \n",
       "\n",
       "[5 rows x 265 columns]"
      ]
     },
     "execution_count": 186,
     "metadata": {},
     "output_type": "execute_result"
    }
   ],
   "source": [
    "X.head()\n"
   ]
  },
  {
   "cell_type": "code",
   "execution_count": 187,
   "id": "94785327",
   "metadata": {},
   "outputs": [
    {
     "data": {
      "text/html": [
       "<div>\n",
       "<style scoped>\n",
       "    .dataframe tbody tr th:only-of-type {\n",
       "        vertical-align: middle;\n",
       "    }\n",
       "\n",
       "    .dataframe tbody tr th {\n",
       "        vertical-align: top;\n",
       "    }\n",
       "\n",
       "    .dataframe thead th {\n",
       "        text-align: right;\n",
       "    }\n",
       "</style>\n",
       "<table border=\"1\" class=\"dataframe\">\n",
       "  <thead>\n",
       "    <tr style=\"text-align: right;\">\n",
       "      <th></th>\n",
       "      <th>Ticker</th>\n",
       "      <th>CapitalExpenditure_2025Q2</th>\n",
       "      <th>CashAndSTInvestments_2025Q2</th>\n",
       "      <th>CashFromOps_2025Q2</th>\n",
       "      <th>CostOfRevenue_2025Q2</th>\n",
       "      <th>CurrentAssets_2025Q2</th>\n",
       "      <th>CurrentLiabilities_2025Q2</th>\n",
       "      <th>EPS_2025Q2</th>\n",
       "      <th>IncomeTaxExpense_2025Q2</th>\n",
       "      <th>InterestExpense_2025Q2</th>\n",
       "      <th>LongTermDebt_2025Q2</th>\n",
       "      <th>NetIncome_2025Q2</th>\n",
       "      <th>OperatingIncome_2025Q2</th>\n",
       "      <th>OtherOperatingExpense_2025Q2</th>\n",
       "      <th>Revenue_2025Q2</th>\n",
       "      <th>TotalAssets_2025Q2</th>\n",
       "      <th>TotalDebt_2025Q2</th>\n",
       "      <th>TotalEquity_2025Q2</th>\n",
       "      <th>TotalLiabilities_2025Q2</th>\n",
       "    </tr>\n",
       "  </thead>\n",
       "  <tbody>\n",
       "    <tr>\n",
       "      <th>0</th>\n",
       "      <td>ACIW</td>\n",
       "      <td>NaN</td>\n",
       "      <td>NaN</td>\n",
       "      <td>NaN</td>\n",
       "      <td>NaN</td>\n",
       "      <td>NaN</td>\n",
       "      <td>NaN</td>\n",
       "      <td>NaN</td>\n",
       "      <td>NaN</td>\n",
       "      <td>NaN</td>\n",
       "      <td>NaN</td>\n",
       "      <td>NaN</td>\n",
       "      <td>NaN</td>\n",
       "      <td>NaN</td>\n",
       "      <td>NaN</td>\n",
       "      <td>NaN</td>\n",
       "      <td>NaN</td>\n",
       "      <td>NaN</td>\n",
       "      <td>NaN</td>\n",
       "    </tr>\n",
       "    <tr>\n",
       "      <th>1</th>\n",
       "      <td>HONE</td>\n",
       "      <td>-139000.0</td>\n",
       "      <td>203053000.0</td>\n",
       "      <td>-4987000.0</td>\n",
       "      <td>44301000.0</td>\n",
       "      <td>NaN</td>\n",
       "      <td>NaN</td>\n",
       "      <td>0.20</td>\n",
       "      <td>2569000.0</td>\n",
       "      <td>32385000.0</td>\n",
       "      <td>439652000.0</td>\n",
       "      <td>8058000.0</td>\n",
       "      <td>NaN</td>\n",
       "      <td>32385000.0</td>\n",
       "      <td>44301000.0</td>\n",
       "      <td>5.609075e+09</td>\n",
       "      <td>439652000.0</td>\n",
       "      <td>580147000.0</td>\n",
       "      <td>5.028928e+09</td>\n",
       "    </tr>\n",
       "    <tr>\n",
       "      <th>2</th>\n",
       "      <td>REPL</td>\n",
       "      <td>NaN</td>\n",
       "      <td>NaN</td>\n",
       "      <td>NaN</td>\n",
       "      <td>NaN</td>\n",
       "      <td>NaN</td>\n",
       "      <td>NaN</td>\n",
       "      <td>NaN</td>\n",
       "      <td>NaN</td>\n",
       "      <td>NaN</td>\n",
       "      <td>NaN</td>\n",
       "      <td>NaN</td>\n",
       "      <td>NaN</td>\n",
       "      <td>NaN</td>\n",
       "      <td>NaN</td>\n",
       "      <td>NaN</td>\n",
       "      <td>NaN</td>\n",
       "      <td>NaN</td>\n",
       "      <td>NaN</td>\n",
       "    </tr>\n",
       "    <tr>\n",
       "      <th>3</th>\n",
       "      <td>RBRK</td>\n",
       "      <td>-6315000.0</td>\n",
       "      <td>283998000.0</td>\n",
       "      <td>39655000.0</td>\n",
       "      <td>60483000.0</td>\n",
       "      <td>1.116895e+09</td>\n",
       "      <td>961289000.0</td>\n",
       "      <td>-0.53</td>\n",
       "      <td>1274000.0</td>\n",
       "      <td>9813000.0</td>\n",
       "      <td>322821000.0</td>\n",
       "      <td>-102104000.0</td>\n",
       "      <td>-93091000.0</td>\n",
       "      <td>311089000.0</td>\n",
       "      <td>278481000.0</td>\n",
       "      <td>1.474606e+09</td>\n",
       "      <td>334571000.0</td>\n",
       "      <td>-556530000.0</td>\n",
       "      <td>2.031136e+09</td>\n",
       "    </tr>\n",
       "    <tr>\n",
       "      <th>4</th>\n",
       "      <td>BRCC</td>\n",
       "      <td>NaN</td>\n",
       "      <td>NaN</td>\n",
       "      <td>NaN</td>\n",
       "      <td>NaN</td>\n",
       "      <td>NaN</td>\n",
       "      <td>NaN</td>\n",
       "      <td>NaN</td>\n",
       "      <td>NaN</td>\n",
       "      <td>NaN</td>\n",
       "      <td>NaN</td>\n",
       "      <td>NaN</td>\n",
       "      <td>NaN</td>\n",
       "      <td>NaN</td>\n",
       "      <td>NaN</td>\n",
       "      <td>NaN</td>\n",
       "      <td>NaN</td>\n",
       "      <td>NaN</td>\n",
       "      <td>NaN</td>\n",
       "    </tr>\n",
       "  </tbody>\n",
       "</table>\n",
       "</div>"
      ],
      "text/plain": [
       "  Ticker  CapitalExpenditure_2025Q2  CashAndSTInvestments_2025Q2  \\\n",
       "0   ACIW                        NaN                          NaN   \n",
       "1   HONE                  -139000.0                  203053000.0   \n",
       "2   REPL                        NaN                          NaN   \n",
       "3   RBRK                 -6315000.0                  283998000.0   \n",
       "4   BRCC                        NaN                          NaN   \n",
       "\n",
       "   CashFromOps_2025Q2  CostOfRevenue_2025Q2  CurrentAssets_2025Q2  \\\n",
       "0                 NaN                   NaN                   NaN   \n",
       "1          -4987000.0            44301000.0                   NaN   \n",
       "2                 NaN                   NaN                   NaN   \n",
       "3          39655000.0            60483000.0          1.116895e+09   \n",
       "4                 NaN                   NaN                   NaN   \n",
       "\n",
       "   CurrentLiabilities_2025Q2  EPS_2025Q2  IncomeTaxExpense_2025Q2  \\\n",
       "0                        NaN         NaN                      NaN   \n",
       "1                        NaN        0.20                2569000.0   \n",
       "2                        NaN         NaN                      NaN   \n",
       "3                961289000.0       -0.53                1274000.0   \n",
       "4                        NaN         NaN                      NaN   \n",
       "\n",
       "   InterestExpense_2025Q2  LongTermDebt_2025Q2  NetIncome_2025Q2  \\\n",
       "0                     NaN                  NaN               NaN   \n",
       "1              32385000.0          439652000.0         8058000.0   \n",
       "2                     NaN                  NaN               NaN   \n",
       "3               9813000.0          322821000.0      -102104000.0   \n",
       "4                     NaN                  NaN               NaN   \n",
       "\n",
       "   OperatingIncome_2025Q2  OtherOperatingExpense_2025Q2  Revenue_2025Q2  \\\n",
       "0                     NaN                           NaN             NaN   \n",
       "1                     NaN                    32385000.0      44301000.0   \n",
       "2                     NaN                           NaN             NaN   \n",
       "3             -93091000.0                   311089000.0     278481000.0   \n",
       "4                     NaN                           NaN             NaN   \n",
       "\n",
       "   TotalAssets_2025Q2  TotalDebt_2025Q2  TotalEquity_2025Q2  \\\n",
       "0                 NaN               NaN                 NaN   \n",
       "1        5.609075e+09       439652000.0         580147000.0   \n",
       "2                 NaN               NaN                 NaN   \n",
       "3        1.474606e+09       334571000.0        -556530000.0   \n",
       "4                 NaN               NaN                 NaN   \n",
       "\n",
       "   TotalLiabilities_2025Q2  \n",
       "0                      NaN  \n",
       "1             5.028928e+09  \n",
       "2                      NaN  \n",
       "3             2.031136e+09  \n",
       "4                      NaN  "
      ]
     },
     "execution_count": 187,
     "metadata": {},
     "output_type": "execute_result"
    }
   ],
   "source": [
    "y.head()"
   ]
  },
  {
   "cell_type": "code",
   "execution_count": 188,
   "id": "fa9ec20c",
   "metadata": {},
   "outputs": [
    {
     "name": "stdout",
     "output_type": "stream",
     "text": [
      "(1450, 287) (1910, 283)\n"
     ]
    }
   ],
   "source": [
    "new = X.merge(y, on='Ticker')\n",
    "print(old.shape,new.shape)"
   ]
  },
  {
   "cell_type": "code",
   "execution_count": 189,
   "id": "c57c9e7e",
   "metadata": {},
   "outputs": [],
   "source": [
    "old.set_index('Ticker',inplace=True)\n",
    "new.set_index('Ticker',inplace=True)\n",
    "old.sort_index(inplace=True)\n",
    "new.sort_index(inplace=True)\n",
    "\n"
   ]
  },
  {
   "cell_type": "code",
   "execution_count": 190,
   "id": "ff04e244",
   "metadata": {},
   "outputs": [
    {
     "data": {
      "text/html": [
       "<div>\n",
       "<style scoped>\n",
       "    .dataframe tbody tr th:only-of-type {\n",
       "        vertical-align: middle;\n",
       "    }\n",
       "\n",
       "    .dataframe tbody tr th {\n",
       "        vertical-align: top;\n",
       "    }\n",
       "\n",
       "    .dataframe thead th {\n",
       "        text-align: right;\n",
       "    }\n",
       "</style>\n",
       "<table border=\"1\" class=\"dataframe\">\n",
       "  <thead>\n",
       "    <tr style=\"text-align: right;\">\n",
       "      <th></th>\n",
       "      <th>ID</th>\n",
       "      <th>Name</th>\n",
       "      <th>Sector</th>\n",
       "      <th>CapitalExpenditure_2024Q2</th>\n",
       "      <th>CapitalExpenditure_2024Q3</th>\n",
       "      <th>CapitalExpenditure_2024Q4</th>\n",
       "      <th>CapitalExpenditure_2025Q1</th>\n",
       "      <th>CashAndSTInvestments_2024Q2</th>\n",
       "      <th>CashAndSTInvestments_2024Q3</th>\n",
       "      <th>CashAndSTInvestments_2024Q4</th>\n",
       "      <th>...</th>\n",
       "      <th>InterestExpense_Rate</th>\n",
       "      <th>CashFromOps_Rate</th>\n",
       "      <th>TotalAssets_Rate</th>\n",
       "      <th>TotalLiabilities_Rate</th>\n",
       "      <th>OperatingIncome_Rate</th>\n",
       "      <th>TotalDebt_Rate</th>\n",
       "      <th>KPI_NetProfitMargin_Rate</th>\n",
       "      <th>NetIncome_2025Q2</th>\n",
       "      <th>Revenue_2025Q2</th>\n",
       "      <th>KPI_NetProfitMargin_2025Q2</th>\n",
       "    </tr>\n",
       "    <tr>\n",
       "      <th>Ticker</th>\n",
       "      <th></th>\n",
       "      <th></th>\n",
       "      <th></th>\n",
       "      <th></th>\n",
       "      <th></th>\n",
       "      <th></th>\n",
       "      <th></th>\n",
       "      <th></th>\n",
       "      <th></th>\n",
       "      <th></th>\n",
       "      <th></th>\n",
       "      <th></th>\n",
       "      <th></th>\n",
       "      <th></th>\n",
       "      <th></th>\n",
       "      <th></th>\n",
       "      <th></th>\n",
       "      <th></th>\n",
       "      <th></th>\n",
       "      <th></th>\n",
       "      <th></th>\n",
       "    </tr>\n",
       "  </thead>\n",
       "  <tbody>\n",
       "    <tr>\n",
       "      <th>A</th>\n",
       "      <td>262</td>\n",
       "      <td>AGILENT TECHNOLOGIES INC</td>\n",
       "      <td>Health Care</td>\n",
       "      <td>-39486000</td>\n",
       "      <td>-92000000.0</td>\n",
       "      <td>-93000000.0</td>\n",
       "      <td>-97000000</td>\n",
       "      <td>796798000.0</td>\n",
       "      <td>1.779000e+09</td>\n",
       "      <td>1.329000e+09</td>\n",
       "      <td>...</td>\n",
       "      <td>1984900.0</td>\n",
       "      <td>82214900.0</td>\n",
       "      <td>992170000.0</td>\n",
       "      <td>661200000.0</td>\n",
       "      <td>66848100.0</td>\n",
       "      <td>309299600.0</td>\n",
       "      <td>0.030873</td>\n",
       "      <td>215000000</td>\n",
       "      <td>1.668000e+09</td>\n",
       "      <td>0.128897</td>\n",
       "    </tr>\n",
       "  </tbody>\n",
       "</table>\n",
       "<p>1 rows × 286 columns</p>\n",
       "</div>"
      ],
      "text/plain": [
       "         ID                      Name       Sector  CapitalExpenditure_2024Q2  \\\n",
       "Ticker                                                                          \n",
       "A       262  AGILENT TECHNOLOGIES INC  Health Care                  -39486000   \n",
       "\n",
       "        CapitalExpenditure_2024Q3  CapitalExpenditure_2024Q4  \\\n",
       "Ticker                                                         \n",
       "A                     -92000000.0                -93000000.0   \n",
       "\n",
       "        CapitalExpenditure_2025Q1  CashAndSTInvestments_2024Q2  \\\n",
       "Ticker                                                           \n",
       "A                       -97000000                  796798000.0   \n",
       "\n",
       "        CashAndSTInvestments_2024Q3  CashAndSTInvestments_2024Q4  ...  \\\n",
       "Ticker                                                            ...   \n",
       "A                      1.779000e+09                 1.329000e+09  ...   \n",
       "\n",
       "        InterestExpense_Rate  CashFromOps_Rate  TotalAssets_Rate  \\\n",
       "Ticker                                                             \n",
       "A                  1984900.0        82214900.0       992170000.0   \n",
       "\n",
       "        TotalLiabilities_Rate  OperatingIncome_Rate  TotalDebt_Rate  \\\n",
       "Ticker                                                                \n",
       "A                 661200000.0            66848100.0     309299600.0   \n",
       "\n",
       "        KPI_NetProfitMargin_Rate  NetIncome_2025Q2  Revenue_2025Q2  \\\n",
       "Ticker                                                               \n",
       "A                       0.030873         215000000    1.668000e+09   \n",
       "\n",
       "        KPI_NetProfitMargin_2025Q2  \n",
       "Ticker                              \n",
       "A                         0.128897  \n",
       "\n",
       "[1 rows x 286 columns]"
      ]
     },
     "execution_count": 190,
     "metadata": {},
     "output_type": "execute_result"
    }
   ],
   "source": [
    "old.head(1)"
   ]
  },
  {
   "cell_type": "code",
   "execution_count": 191,
   "id": "33814baf",
   "metadata": {},
   "outputs": [
    {
     "data": {
      "text/html": [
       "<div>\n",
       "<style scoped>\n",
       "    .dataframe tbody tr th:only-of-type {\n",
       "        vertical-align: middle;\n",
       "    }\n",
       "\n",
       "    .dataframe tbody tr th {\n",
       "        vertical-align: top;\n",
       "    }\n",
       "\n",
       "    .dataframe thead th {\n",
       "        text-align: right;\n",
       "    }\n",
       "</style>\n",
       "<table border=\"1\" class=\"dataframe\">\n",
       "  <thead>\n",
       "    <tr style=\"text-align: right;\">\n",
       "      <th></th>\n",
       "      <th>Name</th>\n",
       "      <th>Sector</th>\n",
       "      <th>CapitalExpenditure_2024Q2</th>\n",
       "      <th>CapitalExpenditure_2024Q3</th>\n",
       "      <th>CapitalExpenditure_2024Q4</th>\n",
       "      <th>CapitalExpenditure_2025Q1</th>\n",
       "      <th>CashAndSTInvestments_2024Q2</th>\n",
       "      <th>CashAndSTInvestments_2024Q3</th>\n",
       "      <th>CashAndSTInvestments_2024Q4</th>\n",
       "      <th>CashAndSTInvestments_2025Q1</th>\n",
       "      <th>...</th>\n",
       "      <th>InterestExpense_2025Q2</th>\n",
       "      <th>LongTermDebt_2025Q2</th>\n",
       "      <th>NetIncome_2025Q2</th>\n",
       "      <th>OperatingIncome_2025Q2</th>\n",
       "      <th>OtherOperatingExpense_2025Q2</th>\n",
       "      <th>Revenue_2025Q2</th>\n",
       "      <th>TotalAssets_2025Q2</th>\n",
       "      <th>TotalDebt_2025Q2</th>\n",
       "      <th>TotalEquity_2025Q2</th>\n",
       "      <th>TotalLiabilities_2025Q2</th>\n",
       "    </tr>\n",
       "    <tr>\n",
       "      <th>Ticker</th>\n",
       "      <th></th>\n",
       "      <th></th>\n",
       "      <th></th>\n",
       "      <th></th>\n",
       "      <th></th>\n",
       "      <th></th>\n",
       "      <th></th>\n",
       "      <th></th>\n",
       "      <th></th>\n",
       "      <th></th>\n",
       "      <th></th>\n",
       "      <th></th>\n",
       "      <th></th>\n",
       "      <th></th>\n",
       "      <th></th>\n",
       "      <th></th>\n",
       "      <th></th>\n",
       "      <th></th>\n",
       "      <th></th>\n",
       "      <th></th>\n",
       "      <th></th>\n",
       "    </tr>\n",
       "  </thead>\n",
       "  <tbody>\n",
       "    <tr>\n",
       "      <th>A</th>\n",
       "      <td>AGILENT TECHNOLOGIES INC</td>\n",
       "      <td>Health Care</td>\n",
       "      <td>-39486000.0</td>\n",
       "      <td>-92000000.0</td>\n",
       "      <td>-93000000.0</td>\n",
       "      <td>-97000000.0</td>\n",
       "      <td>796798000.0</td>\n",
       "      <td>1.779000e+09</td>\n",
       "      <td>1.329000e+09</td>\n",
       "      <td>1.467000e+09</td>\n",
       "      <td>...</td>\n",
       "      <td>29000000.0</td>\n",
       "      <td>3.349000e+09</td>\n",
       "      <td>215000000.0</td>\n",
       "      <td>300000000.0</td>\n",
       "      <td>566000000.0</td>\n",
       "      <td>1.668000e+09</td>\n",
       "      <td>1.215800e+10</td>\n",
       "      <td>3.495000e+09</td>\n",
       "      <td>6.136000e+09</td>\n",
       "      <td>6.022000e+09</td>\n",
       "    </tr>\n",
       "  </tbody>\n",
       "</table>\n",
       "<p>1 rows × 282 columns</p>\n",
       "</div>"
      ],
      "text/plain": [
       "                            Name       Sector  CapitalExpenditure_2024Q2  \\\n",
       "Ticker                                                                     \n",
       "A       AGILENT TECHNOLOGIES INC  Health Care                -39486000.0   \n",
       "\n",
       "        CapitalExpenditure_2024Q3  CapitalExpenditure_2024Q4  \\\n",
       "Ticker                                                         \n",
       "A                     -92000000.0                -93000000.0   \n",
       "\n",
       "        CapitalExpenditure_2025Q1  CashAndSTInvestments_2024Q2  \\\n",
       "Ticker                                                           \n",
       "A                     -97000000.0                  796798000.0   \n",
       "\n",
       "        CashAndSTInvestments_2024Q3  CashAndSTInvestments_2024Q4  \\\n",
       "Ticker                                                             \n",
       "A                      1.779000e+09                 1.329000e+09   \n",
       "\n",
       "        CashAndSTInvestments_2025Q1  ...  InterestExpense_2025Q2  \\\n",
       "Ticker                               ...                           \n",
       "A                      1.467000e+09  ...              29000000.0   \n",
       "\n",
       "        LongTermDebt_2025Q2  NetIncome_2025Q2  OperatingIncome_2025Q2  \\\n",
       "Ticker                                                                  \n",
       "A              3.349000e+09       215000000.0             300000000.0   \n",
       "\n",
       "        OtherOperatingExpense_2025Q2  Revenue_2025Q2  TotalAssets_2025Q2  \\\n",
       "Ticker                                                                     \n",
       "A                        566000000.0    1.668000e+09        1.215800e+10   \n",
       "\n",
       "        TotalDebt_2025Q2  TotalEquity_2025Q2  TotalLiabilities_2025Q2  \n",
       "Ticker                                                                 \n",
       "A           3.495000e+09        6.136000e+09             6.022000e+09  \n",
       "\n",
       "[1 rows x 282 columns]"
      ]
     },
     "execution_count": 191,
     "metadata": {},
     "output_type": "execute_result"
    }
   ],
   "source": [
    "new.head(1)"
   ]
  },
  {
   "cell_type": "code",
   "execution_count": 192,
   "id": "c71e80d8",
   "metadata": {},
   "outputs": [
    {
     "data": {
      "text/html": [
       "<div>\n",
       "<style scoped>\n",
       "    .dataframe tbody tr th:only-of-type {\n",
       "        vertical-align: middle;\n",
       "    }\n",
       "\n",
       "    .dataframe tbody tr th {\n",
       "        vertical-align: top;\n",
       "    }\n",
       "\n",
       "    .dataframe thead th {\n",
       "        text-align: right;\n",
       "    }\n",
       "</style>\n",
       "<table border=\"1\" class=\"dataframe\">\n",
       "  <thead>\n",
       "    <tr style=\"text-align: right;\">\n",
       "      <th></th>\n",
       "      <th>ID</th>\n",
       "      <th>Name</th>\n",
       "      <th>Sector</th>\n",
       "      <th>CapitalExpenditure_2024Q2</th>\n",
       "      <th>CapitalExpenditure_2024Q3</th>\n",
       "      <th>CapitalExpenditure_2024Q4</th>\n",
       "      <th>CapitalExpenditure_2025Q1</th>\n",
       "      <th>CashAndSTInvestments_2024Q2</th>\n",
       "      <th>CashAndSTInvestments_2024Q3</th>\n",
       "      <th>CashAndSTInvestments_2024Q4</th>\n",
       "      <th>...</th>\n",
       "      <th>InterestExpense_Rate</th>\n",
       "      <th>CashFromOps_Rate</th>\n",
       "      <th>TotalAssets_Rate</th>\n",
       "      <th>TotalLiabilities_Rate</th>\n",
       "      <th>OperatingIncome_Rate</th>\n",
       "      <th>TotalDebt_Rate</th>\n",
       "      <th>KPI_NetProfitMargin_Rate</th>\n",
       "      <th>NetIncome_2025Q2</th>\n",
       "      <th>Revenue_2025Q2</th>\n",
       "      <th>KPI_NetProfitMargin_2025Q2</th>\n",
       "    </tr>\n",
       "    <tr>\n",
       "      <th>Ticker</th>\n",
       "      <th></th>\n",
       "      <th></th>\n",
       "      <th></th>\n",
       "      <th></th>\n",
       "      <th></th>\n",
       "      <th></th>\n",
       "      <th></th>\n",
       "      <th></th>\n",
       "      <th></th>\n",
       "      <th></th>\n",
       "      <th></th>\n",
       "      <th></th>\n",
       "      <th></th>\n",
       "      <th></th>\n",
       "      <th></th>\n",
       "      <th></th>\n",
       "      <th></th>\n",
       "      <th></th>\n",
       "      <th></th>\n",
       "      <th></th>\n",
       "      <th></th>\n",
       "    </tr>\n",
       "  </thead>\n",
       "  <tbody>\n",
       "    <tr>\n",
       "      <th>IOT</th>\n",
       "      <td>631</td>\n",
       "      <td>SAMSARA INC CLASS A</td>\n",
       "      <td>Information Technology</td>\n",
       "      <td>-16051500</td>\n",
       "      <td>-4992000.0</td>\n",
       "      <td>-4776000.0</td>\n",
       "      <td>-5347000</td>\n",
       "      <td>436700000.0</td>\n",
       "      <td>159272000.0</td>\n",
       "      <td>160348000.0</td>\n",
       "      <td>...</td>\n",
       "      <td>617900.0</td>\n",
       "      <td>-30172700.0</td>\n",
       "      <td>-1.394057e+09</td>\n",
       "      <td>-647180600.0</td>\n",
       "      <td>-49164600.0</td>\n",
       "      <td>-564424000.0</td>\n",
       "      <td>-0.043154</td>\n",
       "      <td>-22121000</td>\n",
       "      <td>366884000.0</td>\n",
       "      <td>-0.060294</td>\n",
       "    </tr>\n",
       "  </tbody>\n",
       "</table>\n",
       "<p>1 rows × 286 columns</p>\n",
       "</div>"
      ],
      "text/plain": [
       "         ID                 Name                  Sector  \\\n",
       "Ticker                                                     \n",
       "IOT     631  SAMSARA INC CLASS A  Information Technology   \n",
       "\n",
       "        CapitalExpenditure_2024Q2  CapitalExpenditure_2024Q3  \\\n",
       "Ticker                                                         \n",
       "IOT                     -16051500                 -4992000.0   \n",
       "\n",
       "        CapitalExpenditure_2024Q4  CapitalExpenditure_2025Q1  \\\n",
       "Ticker                                                         \n",
       "IOT                    -4776000.0                   -5347000   \n",
       "\n",
       "        CashAndSTInvestments_2024Q2  CashAndSTInvestments_2024Q3  \\\n",
       "Ticker                                                             \n",
       "IOT                     436700000.0                  159272000.0   \n",
       "\n",
       "        CashAndSTInvestments_2024Q4  ...  InterestExpense_Rate  \\\n",
       "Ticker                               ...                         \n",
       "IOT                     160348000.0  ...              617900.0   \n",
       "\n",
       "        CashFromOps_Rate  TotalAssets_Rate  TotalLiabilities_Rate  \\\n",
       "Ticker                                                              \n",
       "IOT          -30172700.0     -1.394057e+09           -647180600.0   \n",
       "\n",
       "        OperatingIncome_Rate  TotalDebt_Rate  KPI_NetProfitMargin_Rate  \\\n",
       "Ticker                                                                   \n",
       "IOT              -49164600.0    -564424000.0                 -0.043154   \n",
       "\n",
       "        NetIncome_2025Q2  Revenue_2025Q2  KPI_NetProfitMargin_2025Q2  \n",
       "Ticker                                                                \n",
       "IOT            -22121000     366884000.0                   -0.060294  \n",
       "\n",
       "[1 rows x 286 columns]"
      ]
     },
     "execution_count": 192,
     "metadata": {},
     "output_type": "execute_result"
    }
   ],
   "source": [
    "old.sample(1)"
   ]
  },
  {
   "cell_type": "code",
   "execution_count": 193,
   "id": "6e9d95e1",
   "metadata": {},
   "outputs": [
    {
     "name": "stdout",
     "output_type": "stream",
     "text": [
      "0.007886824 / 0.0078868240160804\n"
     ]
    }
   ],
   "source": [
    "compare1 = old.loc['SSNC','KPI_NetProfitMargin_Rate']\n",
    "compare2 = new.loc['SSNC','KPI_NetProfitMargin_Rate']\n",
    "print(compare1,'/',compare2)"
   ]
  },
  {
   "cell_type": "code",
   "execution_count": 194,
   "id": "fa33c2d1",
   "metadata": {},
   "outputs": [
    {
     "data": {
      "text/plain": [
       "0"
      ]
     },
     "execution_count": 194,
     "metadata": {},
     "output_type": "execute_result"
    }
   ],
   "source": [
    "old.isna().sum().max()"
   ]
  },
  {
   "cell_type": "code",
   "execution_count": 195,
   "id": "14773d06",
   "metadata": {},
   "outputs": [
    {
     "data": {
      "text/plain": [
       "691"
      ]
     },
     "execution_count": 195,
     "metadata": {},
     "output_type": "execute_result"
    }
   ],
   "source": [
    "new.isna().sum().max()\n",
    "#new.dropna(inplace=True)"
   ]
  },
  {
   "cell_type": "code",
   "execution_count": 196,
   "id": "911f9729",
   "metadata": {},
   "outputs": [
    {
     "name": "stdout",
     "output_type": "stream",
     "text": [
      "(1450, 286) (1910, 282)\n"
     ]
    }
   ],
   "source": [
    "print(old.shape,new.shape)"
   ]
  },
  {
   "cell_type": "code",
   "execution_count": 197,
   "id": "8116fda6",
   "metadata": {},
   "outputs": [
    {
     "data": {
      "text/plain": [
       "array(['Mid-Cap', 'Small-Cap', 'Mega-Cap', 'Large-Cap', 'Micro-Cap'],\n",
       "      dtype=object)"
      ]
     },
     "execution_count": 197,
     "metadata": {},
     "output_type": "execute_result"
    }
   ],
   "source": [
    "old['Market Cap'].unique()"
   ]
  },
  {
   "cell_type": "code",
   "execution_count": 198,
   "id": "4c25d8c4",
   "metadata": {},
   "outputs": [
    {
     "data": {
      "text/plain": [
       "array(['Mid-Cap', 'Small-Cap', 'Mega-Cap', 'Large-Cap', 'Micro-Cap'],\n",
       "      dtype=object)"
      ]
     },
     "execution_count": 198,
     "metadata": {},
     "output_type": "execute_result"
    }
   ],
   "source": [
    "new['Market Cap'].unique()"
   ]
  },
  {
   "cell_type": "code",
   "execution_count": 199,
   "id": "e172fdab",
   "metadata": {},
   "outputs": [
    {
     "data": {
      "text/plain": [
       "1909"
      ]
     },
     "execution_count": 199,
     "metadata": {},
     "output_type": "execute_result"
    }
   ],
   "source": [
    "len(new['Name'].unique())"
   ]
  },
  {
   "cell_type": "code",
   "execution_count": 200,
   "id": "f00c6518",
   "metadata": {},
   "outputs": [
    {
     "data": {
      "text/plain": [
       "7"
      ]
     },
     "execution_count": 200,
     "metadata": {},
     "output_type": "execute_result"
    }
   ],
   "source": [
    "len(old[old['Market Cap']=='Mega-Cap'])"
   ]
  },
  {
   "cell_type": "code",
   "execution_count": 201,
   "id": "edd4d7e3",
   "metadata": {},
   "outputs": [
    {
     "data": {
      "text/plain": [
       "7"
      ]
     },
     "execution_count": 201,
     "metadata": {},
     "output_type": "execute_result"
    }
   ],
   "source": [
    "len(new[new['Market Cap'] =='Mega-Cap'])"
   ]
  },
  {
   "cell_type": "code",
   "execution_count": 202,
   "id": "cf3571b6",
   "metadata": {},
   "outputs": [
    {
     "name": "stdout",
     "output_type": "stream",
     "text": [
      "68\n"
     ]
    }
   ],
   "source": [
    "old_tickers = list(old.index)\n",
    "new_tickers = list(new.index)\n",
    "in_old_not_new = []\n",
    "for ticker in old_tickers:\n",
    "    if ticker not in new_tickers:\n",
    "        in_old_not_new.append(ticker)\n",
    "print(len(in_old_not_new))"
   ]
  },
  {
   "cell_type": "code",
   "execution_count": 203,
   "id": "3a4f1839",
   "metadata": {},
   "outputs": [
    {
     "name": "stdout",
     "output_type": "stream",
     "text": [
      "528\n"
     ]
    }
   ],
   "source": [
    "in_new_not_old = []\n",
    "for ticker in new_tickers:\n",
    "    if ticker not in old_tickers:\n",
    "        in_new_not_old.append(ticker)\n",
    "print(len(in_new_not_old))"
   ]
  },
  {
   "cell_type": "code",
   "execution_count": 204,
   "id": "f9654909",
   "metadata": {},
   "outputs": [
    {
     "data": {
      "text/html": [
       "<div>\n",
       "<style scoped>\n",
       "    .dataframe tbody tr th:only-of-type {\n",
       "        vertical-align: middle;\n",
       "    }\n",
       "\n",
       "    .dataframe tbody tr th {\n",
       "        vertical-align: top;\n",
       "    }\n",
       "\n",
       "    .dataframe thead th {\n",
       "        text-align: right;\n",
       "    }\n",
       "</style>\n",
       "<table border=\"1\" class=\"dataframe\">\n",
       "  <thead>\n",
       "    <tr style=\"text-align: right;\">\n",
       "      <th></th>\n",
       "      <th>Sector</th>\n",
       "      <th>Exchange</th>\n",
       "      <th>Market Cap</th>\n",
       "      <th>Location</th>\n",
       "    </tr>\n",
       "    <tr>\n",
       "      <th>Ticker</th>\n",
       "      <th></th>\n",
       "      <th></th>\n",
       "      <th></th>\n",
       "      <th></th>\n",
       "    </tr>\n",
       "  </thead>\n",
       "  <tbody>\n",
       "    <tr>\n",
       "      <th>AAP</th>\n",
       "      <td>Consumer Discretionary</td>\n",
       "      <td>New York Stock Exchange Inc.</td>\n",
       "      <td>Small-Cap</td>\n",
       "      <td>1</td>\n",
       "    </tr>\n",
       "    <tr>\n",
       "      <th>ABM</th>\n",
       "      <td>Industrials</td>\n",
       "      <td>New York Stock Exchange Inc.</td>\n",
       "      <td>Small-Cap</td>\n",
       "      <td>1</td>\n",
       "    </tr>\n",
       "    <tr>\n",
       "      <th>ABR</th>\n",
       "      <td>Financials</td>\n",
       "      <td>New York Stock Exchange Inc.</td>\n",
       "      <td>Small-Cap</td>\n",
       "      <td>1</td>\n",
       "    </tr>\n",
       "    <tr>\n",
       "      <th>ABSI</th>\n",
       "      <td>Health Care</td>\n",
       "      <td>NASDAQ</td>\n",
       "      <td>Micro-Cap</td>\n",
       "      <td>1</td>\n",
       "    </tr>\n",
       "    <tr>\n",
       "      <th>ACA</th>\n",
       "      <td>Industrials</td>\n",
       "      <td>New York Stock Exchange Inc.</td>\n",
       "      <td>Small-Cap</td>\n",
       "      <td>1</td>\n",
       "    </tr>\n",
       "  </tbody>\n",
       "</table>\n",
       "</div>"
      ],
      "text/plain": [
       "                        Sector                      Exchange Market Cap  \\\n",
       "Ticker                                                                    \n",
       "AAP     Consumer Discretionary  New York Stock Exchange Inc.  Small-Cap   \n",
       "ABM                Industrials  New York Stock Exchange Inc.  Small-Cap   \n",
       "ABR                 Financials  New York Stock Exchange Inc.  Small-Cap   \n",
       "ABSI               Health Care                        NASDAQ  Micro-Cap   \n",
       "ACA                Industrials  New York Stock Exchange Inc.  Small-Cap   \n",
       "\n",
       "        Location  \n",
       "Ticker            \n",
       "AAP            1  \n",
       "ABM            1  \n",
       "ABR            1  \n",
       "ABSI           1  \n",
       "ACA            1  "
      ]
     },
     "execution_count": 204,
     "metadata": {},
     "output_type": "execute_result"
    }
   ],
   "source": [
    "# We need to look at the tickers that were in old\n",
    "sample = new[new.index.isin(in_new_not_old)]\n",
    "sample[['Sector','Exchange','Market Cap','Location',]].head()"
   ]
  },
  {
   "cell_type": "code",
   "execution_count": 205,
   "id": "4cc2327b",
   "metadata": {},
   "outputs": [
    {
     "name": "stdout",
     "output_type": "stream",
     "text": [
      "528\n"
     ]
    }
   ],
   "source": [
    "print(len(sample))"
   ]
  },
  {
   "cell_type": "code",
   "execution_count": 206,
   "id": "b025fea7",
   "metadata": {},
   "outputs": [
    {
     "data": {
      "text/plain": [
       "CurrentAssets_2025Q2            457\n",
       "CurrentLiabilities_2025Q2       452\n",
       "EPS_2025Q2                      452\n",
       "IncomeTaxExpense_2025Q2         452\n",
       "InterestExpense_2025Q2          450\n",
       "LongTermDebt_2025Q2             447\n",
       "NetIncome_2025Q2                452\n",
       "OperatingIncome_2025Q2          466\n",
       "OtherOperatingExpense_2025Q2    453\n",
       "Revenue_2025Q2                  452\n",
       "TotalAssets_2025Q2              443\n",
       "TotalDebt_2025Q2                444\n",
       "TotalEquity_2025Q2              443\n",
       "TotalLiabilities_2025Q2         443\n",
       "dtype: int64"
      ]
     },
     "execution_count": 206,
     "metadata": {},
     "output_type": "execute_result"
    }
   ],
   "source": [
    "sample.iloc[:,-14:].isna().sum()"
   ]
  },
  {
   "cell_type": "code",
   "execution_count": 207,
   "id": "ad8e65f7",
   "metadata": {},
   "outputs": [
    {
     "name": "stdout",
     "output_type": "stream",
     "text": [
      "  Ticker                   Name         Sector  CapitalExpenditure_2024Q2  \\\n",
      "0     SF  STIFEL FINANCIAL CORP     Financials                -33952000.0   \n",
      "1     GH    GUARDANT HEALTH INC    Health Care                 -5077000.0   \n",
      "2   TGLS         TECNOGLASS INC    Industrials                -20302000.0   \n",
      "3   CARG   CARGURUS INC CLASS A  Communication                -31226000.0   \n",
      "4    BKU         BANKUNITED INC     Financials                 51939000.0   \n",
      "\n",
      "   CapitalExpenditure_2024Q3  CapitalExpenditure_2024Q4  \\\n",
      "0                -12769000.0                -17431000.0   \n",
      "1                 -4199000.0                -18875000.0   \n",
      "2                -23685000.0                -25690000.0   \n",
      "3                -14895000.0                -13698000.0   \n",
      "4                 -2547000.0                 -3407000.0   \n",
      "\n",
      "   CapitalExpenditure_2025Q1  CashAndSTInvestments_2024Q2  \\\n",
      "0                -16573000.0                 2.615670e+09   \n",
      "1                 -4459000.0                 1.035239e+09   \n",
      "2                -30424000.0                 1.268050e+08   \n",
      "3                 -7631000.0                 3.145197e+08   \n",
      "4                  1476000.0                 4.334520e+08   \n",
      "\n",
      "   CashAndSTInvestments_2024Q3  CashAndSTInvestments_2024Q4  ...  PCA_KPI_PC2  \\\n",
      "0                 1.915767e+09                 2.918139e+09  ...     0.651974   \n",
      "1                 6.883680e+08                 5.255400e+08  ...    -0.910162   \n",
      "2                 1.220900e+08                 1.348820e+08  ...    -0.068137   \n",
      "3                 2.955505e+08                 2.550725e+08  ...    -1.006011   \n",
      "4                 8.898680e+08                 4.911160e+08  ...     2.032005   \n",
      "\n",
      "   PCA_KPI_PC3  PCA_KPI_PC4  PCA_KPI_PC5  PCA_KPI_PC6  PCA_KPI_PC7  \\\n",
      "0    -0.448538    -0.372428     0.048477    -1.572578    -0.281447   \n",
      "1     0.447465    -0.589865     0.928594    -0.524885    -0.490308   \n",
      "2     2.093445     0.513689    -1.237239    -0.509478    -0.336436   \n",
      "3    -1.398856     0.411429    -0.013386    -0.559401    -1.133440   \n",
      "4    -1.120991    -0.145637     0.238238    -1.582760    -0.812276   \n",
      "\n",
      "   PCA_KPI_PC8  PCA_KPI_PC9  PCA_KPI_PC10  Cluster  \n",
      "0     0.193897    -0.374414      1.476587        5  \n",
      "1     0.804874     0.291991     -0.792274        1  \n",
      "2    -0.323814     0.696293      0.574546        0  \n",
      "3    -0.596628     0.339183     -0.895226        4  \n",
      "4     0.539856    -0.667165     -0.696086        6  \n",
      "\n",
      "[5 rows x 326 columns]\n"
     ]
    }
   ],
   "source": [
    "#Let's see if these are in test\n",
    "test_path = 'X_test_filled_KPIs_QoQ_PCA.csv'\n",
    "test = pd.read_csv(root_path+test_path)\n",
    "print(test.head())"
   ]
  },
  {
   "cell_type": "code",
   "execution_count": 208,
   "id": "44ae4027",
   "metadata": {},
   "outputs": [
    {
     "name": "stdout",
     "output_type": "stream",
     "text": [
      "68 68\n"
     ]
    }
   ],
   "source": [
    "print(len(in_old_not_new),len(test[test['Ticker'].isin(in_old_not_new)]))"
   ]
  },
  {
   "cell_type": "code",
   "execution_count": 209,
   "id": "fe33a2db",
   "metadata": {},
   "outputs": [],
   "source": [
    "new = new.dropna(subset=['Revenue_2025Q2','NetIncome_2025Q2'])"
   ]
  },
  {
   "cell_type": "code",
   "execution_count": 210,
   "id": "853e3f32",
   "metadata": {},
   "outputs": [
    {
     "data": {
      "text/plain": [
       "(1388, 282)"
      ]
     },
     "execution_count": 210,
     "metadata": {},
     "output_type": "execute_result"
    }
   ],
   "source": [
    "new.shape"
   ]
  },
  {
   "cell_type": "code",
   "execution_count": 211,
   "id": "bd2ecbbc",
   "metadata": {},
   "outputs": [
    {
     "name": "stdout",
     "output_type": "stream",
     "text": [
      "138\n"
     ]
    }
   ],
   "source": [
    "old_tickers = list(old.index)\n",
    "new_tickers = list(new.index)\n",
    "in_old_not_new = []\n",
    "for ticker in old_tickers:\n",
    "    if ticker not in new_tickers:\n",
    "        in_old_not_new.append(ticker)\n",
    "print(len(in_old_not_new))"
   ]
  },
  {
   "cell_type": "code",
   "execution_count": 212,
   "id": "3142903c",
   "metadata": {},
   "outputs": [
    {
     "name": "stdout",
     "output_type": "stream",
     "text": [
      "76\n"
     ]
    }
   ],
   "source": [
    "in_new_not_old = []\n",
    "for ticker in new_tickers:\n",
    "    if ticker not in old_tickers:\n",
    "        in_new_not_old.append(ticker)\n",
    "print(len(in_new_not_old))"
   ]
  },
  {
   "cell_type": "code",
   "execution_count": 213,
   "id": "7323d002",
   "metadata": {},
   "outputs": [
    {
     "data": {
      "text/plain": [
       "(1388, 282)"
      ]
     },
     "execution_count": 213,
     "metadata": {},
     "output_type": "execute_result"
    }
   ],
   "source": [
    "new.shape"
   ]
  }
 ],
 "metadata": {
  "kernelspec": {
   "display_name": "milestoneII",
   "language": "python",
   "name": "python3"
  },
  "language_info": {
   "codemirror_mode": {
    "name": "ipython",
    "version": 3
   },
   "file_extension": ".py",
   "mimetype": "text/x-python",
   "name": "python",
   "nbconvert_exporter": "python",
   "pygments_lexer": "ipython3",
   "version": "3.13.5"
  }
 },
 "nbformat": 4,
 "nbformat_minor": 5
}
